{
  "nbformat": 4,
  "nbformat_minor": 0,
  "metadata": {
    "colab": {
      "provenance": [],
      "authorship_tag": "ABX9TyMEOSkaNxykVjAKlO46rHM6",
      "include_colab_link": true
    },
    "kernelspec": {
      "name": "python3",
      "display_name": "Python 3"
    },
    "language_info": {
      "name": "python"
    }
  },
  "cells": [
    {
      "cell_type": "markdown",
      "metadata": {
        "id": "view-in-github",
        "colab_type": "text"
      },
      "source": [
        "<a href=\"https://colab.research.google.com/github/Nimika19/Mathematics/blob/main/Answers_Assessment_3.ipynb\" target=\"_parent\"><img src=\"https://colab.research.google.com/assets/colab-badge.svg\" alt=\"Open In Colab\"/></a>"
      ]
    },
    {
      "cell_type": "markdown",
      "source": [
        "# Question-1"
      ],
      "metadata": {
        "id": "gBKdug5sT0GU"
      }
    },
    {
      "cell_type": "code",
      "execution_count": null,
      "metadata": {
        "colab": {
          "base_uri": "https://localhost:8080/"
        },
        "id": "myBapqLaS3at",
        "outputId": "96461958-a877-4393-cfa3-786495a351f2"
      },
      "outputs": [
        {
          "output_type": "stream",
          "name": "stdout",
          "text": [
            "Characteristic polynomial:    2\n",
            "1 x - 3 x - 4\n",
            "Eigenpairs: [(-1.0, array([-0.70710678, -0.5547002 ])), (4.0, array([ 0.70710678, -0.83205029]))]\n"
          ]
        }
      ],
      "source": [
        "import numpy as np\n",
        "\n",
        "def characteristic_polynomial_and_eigenpairs(a):\n",
        "    \"\"\"\n",
        "    Calculate the characteristic polynomial and eigenpairs for the matrix A.\n",
        "\n",
        "    Parameters:\n",
        "    a (numpy array): The matrix A = ((1,2), (3,2))\n",
        "\n",
        "    Returns:\n",
        "    p (numpy array): The characteristic polynomial\n",
        "    eigenpairs (list of tuples): A list of tuples, where each tuple contains the eigenvalue and the corresponding eigenvector\n",
        "    \"\"\"\n",
        "    # Convert the matrix to a NumPy array\n",
        "    a = np.array(a)\n",
        "\n",
        "    # Calculate the characteristic polynomial\n",
        "    p = np.poly1d([1, -np.trace(a), np.linalg.det(a)])\n",
        "\n",
        "    # Calculate the eigenpairs\n",
        "    eigenpairs = np.linalg.eig(a)\n",
        "\n",
        "    # Extract the eigenvalues and eigenvectors\n",
        "    eigenvalues = eigenpairs[0]\n",
        "    eigenvectors = eigenpairs[1]\n",
        "\n",
        "    # Return the characteristic polynomial and eigenpairs\n",
        "    return p, list(zip(eigenvalues, eigenvectors))\n",
        "\n",
        "# Example usage:\n",
        "a = np.array([[1, 2], [3, 2]])\n",
        "p, eigenpairs = characteristic_polynomial_and_eigenpairs(a)\n",
        "print(\"Characteristic polynomial:\", p)\n",
        "print(\"Eigenpairs:\", eigenpairs)"
      ]
    },
    {
      "cell_type": "markdown",
      "source": [
        "# Question-2"
      ],
      "metadata": {
        "id": "1XfKhlh7T3u0"
      }
    },
    {
      "cell_type": "code",
      "source": [
        "import numpy as np\n",
        "from scipy.integrate import quad\n",
        "\n",
        "# Define the integrand function\n",
        "def integrand(x):\n",
        "    return np.sin(x)**2 + np.cos(x)**2\n",
        "\n",
        "# Define the limits of integration\n",
        "a = 0\n",
        "b = 5\n",
        "\n",
        "# Evaluate the integral\n",
        "result, error = quad(integrand, a, b)\n",
        "\n",
        "print(\"The integral is:\", result)"
      ],
      "metadata": {
        "colab": {
          "base_uri": "https://localhost:8080/"
        },
        "id": "ddSD_XxhTIV6",
        "outputId": "4f2231bb-1ea6-4ab4-a022-13aec56dc970"
      },
      "execution_count": null,
      "outputs": [
        {
          "output_type": "stream",
          "name": "stdout",
          "text": [
            "The integral is: 5.0\n"
          ]
        }
      ]
    },
    {
      "cell_type": "markdown",
      "source": [
        "# Question-3"
      ],
      "metadata": {
        "id": "3EofvDHkT8nQ"
      }
    },
    {
      "cell_type": "code",
      "source": [
        "import numpy as np\n",
        "\n",
        "# Define the time and temperature data\n",
        "time_in_hours = np.array([0, 6, 12, 18, 24])\n",
        "temperature_in_celcius = np.array([10, 15, 20, 18, 12])\n",
        "\n",
        "# Define the timestamps for which we want to estimate the temperature\n",
        "timestamps = np.array([3, 9, 21])\n",
        "\n",
        "# Perform linear interpolation\n",
        "speed_interp = np.interp(timestamps, time_in_hours, temperature_in_celcius)\n",
        "\n",
        "print(\"Estimated temperature at 3 hours:\", speed_interp[0])\n",
        "print(\"Estimated temperature at 9 hours:\", speed_interp[1])\n",
        "print(\"Estimated temperature at 21 hours:\", speed_interp[2])"
      ],
      "metadata": {
        "colab": {
          "base_uri": "https://localhost:8080/"
        },
        "id": "eslSOhR6TSh3",
        "outputId": "f270a947-42d5-41ca-8b1c-749dae9c4e0b"
      },
      "execution_count": null,
      "outputs": [
        {
          "output_type": "stream",
          "name": "stdout",
          "text": [
            "Estimated temperature at 3 hours: 12.5\n",
            "Estimated temperature at 9 hours: 17.5\n",
            "Estimated temperature at 21 hours: 15.0\n"
          ]
        }
      ]
    },
    {
      "cell_type": "markdown",
      "source": [
        "# Question-4"
      ],
      "metadata": {
        "id": "dja3haJtT_ZL"
      }
    },
    {
      "cell_type": "code",
      "source": [
        "def euler_method(h, t_max, y0, dy_dt):\n",
        "    t = 0\n",
        "    y = y0\n",
        "    t_values = [t]\n",
        "    y_values = [y]\n",
        "    while t <= t_max:\n",
        "        y += h * dy_dt(t, y)\n",
        "        t += h\n",
        "        t_values.append(t)\n",
        "        y_values.append(y)\n",
        "    return t_values, y_values\n",
        "\n",
        "def dy_dt(t, y):\n",
        "    return -2 * y / 100\n",
        "\n",
        "h = 0.1\n",
        "t_max = 10\n",
        "y0 = 5\n",
        "t_values, y_values = euler_method(h, t_max, y0, dy_dt)\n",
        "\n",
        "print(\"The amount of salt in the tank after 10 minutes is approximately {:.2f} kg\".format(y_values[-1]))"
      ],
      "metadata": {
        "colab": {
          "base_uri": "https://localhost:8080/"
        },
        "id": "l6rNt_ZyTkC_",
        "outputId": "cd2fdac0-23c9-47fd-8144-6fb4d151d61c"
      },
      "execution_count": 2,
      "outputs": [
        {
          "output_type": "stream",
          "name": "stdout",
          "text": [
            "The amount of salt in the tank after 10 minutes is approximately 4.08 kg\n"
          ]
        }
      ]
    },
    {
      "cell_type": "markdown",
      "source": [
        "# Question-5"
      ],
      "metadata": {
        "id": "1WRvtnjbUB4Y"
      }
    },
    {
      "cell_type": "code",
      "source": [
        "import numpy as np\n",
        "from scipy.optimize import minimize\n",
        "\n",
        "# Define the profit function\n",
        "def profit_function(x):\n",
        "    x1, x2 = x\n",
        "    return -((x1-4)**2 + (x2-6)**2 - 36)\n",
        "\n",
        "# Define the bounds for x1 and x2\n",
        "bounds = [(0, None), (0, None)]\n",
        "\n",
        "# Initialize the optimization problem\n",
        "res = minimize(profit_function, [0, 0], method=\"Nelder-Mead\", bounds=bounds)\n",
        "\n",
        "# Print the optimal values of x1 and x2\n",
        "print(\"Optimal x1:\", res.x[0])\n",
        "print(\"Optimal x2:\", res.x[1])\n",
        "\n",
        "# Print the maximum profit\n",
        "print(\"Maximum profit:\", -res.fun)"
      ],
      "metadata": {
        "colab": {
          "base_uri": "https://localhost:8080/"
        },
        "id": "fMDM3vUsTxcO",
        "outputId": "5cce9fbb-51b6-4b9e-f7db-1d8bfa971516"
      },
      "execution_count": null,
      "outputs": [
        {
          "output_type": "stream",
          "name": "stdout",
          "text": [
            "Optimal x1: 0.0\n",
            "Optimal x2: 0.0\n",
            "Maximum profit: 16.0\n"
          ]
        }
      ]
    }
  ]
}