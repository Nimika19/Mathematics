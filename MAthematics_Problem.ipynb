{
  "nbformat": 4,
  "nbformat_minor": 0,
  "metadata": {
    "colab": {
      "provenance": [],
      "authorship_tag": "ABX9TyNhmf3c6tSqwQ+tmBn/iUj6",
      "include_colab_link": true
    },
    "kernelspec": {
      "name": "python3",
      "display_name": "Python 3"
    },
    "language_info": {
      "name": "python"
    }
  },
  "cells": [
    {
      "cell_type": "markdown",
      "metadata": {
        "id": "view-in-github",
        "colab_type": "text"
      },
      "source": [
        "<a href=\"https://colab.research.google.com/github/Nimika19/Mathematics/blob/main/MAthematics_Problem.ipynb\" target=\"_parent\"><img src=\"https://colab.research.google.com/assets/colab-badge.svg\" alt=\"Open In Colab\"/></a>"
      ]
    },
    {
      "cell_type": "code",
      "source": [
        "# do matrix multiplication with m*n matrix\n",
        "def matrix_multiple(m, n):\n",
        "    if len(m[0]) != len(n):\n",
        "        print(\"Error: Number of columns in the first matrix must be equal to the number of rows in the second matrix.\")\n",
        "        return None\n",
        "    result = [[0 for i in range(len(n[0]))] for i in range(len(m))]\n",
        "    for j in range(len(m)):\n",
        "        for k in range(len(n[0])):\n",
        "            for l in range(len(n)):\n",
        "                result[j][k] += m[j][l] * n[l][k]\n",
        "    return result\n",
        "\n",
        "matrix1 = [[1,2,3],[4,5,6],[7,8,9]]\n",
        "matrix2 = [[9,8,7],[6,5,4],[3,2,1]]\n",
        "result_matrix = matrix_multiple(matrix1, matrix2)\n",
        "for row in result_matrix:\n",
        "    print(row)\n",
        "print(result_matrix)"
      ],
      "metadata": {
        "colab": {
          "base_uri": "https://localhost:8080/"
        },
        "id": "HHLX1j5_HeX6",
        "outputId": "4ec5f644-752a-4f8c-af6f-f0f730253523"
      },
      "execution_count": 13,
      "outputs": [
        {
          "output_type": "stream",
          "name": "stdout",
          "text": [
            "[30, 24, 18]\n",
            "[84, 69, 54]\n",
            "[138, 114, 90]\n",
            "[[30, 24, 18], [84, 69, 54], [138, 114, 90]]\n"
          ]
        }
      ]
    },
    {
      "cell_type": "code",
      "source": [
        "# Practice for Newton's method, use Newton's method to find an approximate solution for f(x)\n",
        "def newton(f, f_prime, initial_guess, tolerance=1e-10, max_iteration=100):\n",
        "    \"\"\"\n",
        "    Newton's method to find an approximate solution for f(x)\n",
        "\n",
        "    Parameters:\n",
        "    f (function): the equation\n",
        "    f_prime (function): the derivative of f\n",
        "    initial_guess (float): the initial guess number\n",
        "    tolerance (float, optional): the threshold for the output. Defaults to 1e-10.\n",
        "    max_iteration (int, optional): the maximum number of iterations. Defaults to 100.\n",
        "\n",
        "    Returns:\n",
        "    float: the approximate solution\n",
        "    \"\"\"\n",
        "    x = initial_guess\n",
        "    for i in range(max_iteration):\n",
        "        # Calculate the value of f(x)\n",
        "        fx = f(x)\n",
        "        if abs(fx) < tolerance:\n",
        "            # If the absolute value of f(x) is less than the tolerance, return x\n",
        "            return x\n",
        "        # Calculate the derivative of f(x)\n",
        "        fpx = f_prime(x)\n",
        "        if fpx == 0:\n",
        "            # If the derivative is zero, return None\n",
        "            return None\n",
        "        # Update x using Newton's method\n",
        "        x = x - fx/fpx\n",
        "    # If max iterations reached without convergence, return None\n",
        "    return None\n",
        "\n",
        "# Define the function f(x)\n",
        "def f(x):\n",
        "    return x**2 - 2\n",
        "\n",
        "# Define the derivative of f(x)\n",
        "def f_prime(x):\n",
        "    return 2*x\n",
        "\n",
        "# Set the initial guess\n",
        "initial_guess = 1\n",
        "\n",
        "# Call the function newton with the input functions f and f_prime, and the initial guess\n",
        "approx_result = newton(f, f_prime, initial_guess)\n",
        "\n",
        "# Print the result\n",
        "if approx_result is not None:\n",
        "    print(\"Approximate result is:\", approx_result)\n",
        "else:\n",
        "    print(\"Newton's method did not converge\")"
      ],
      "metadata": {
        "colab": {
          "base_uri": "https://localhost:8080/"
        },
        "id": "Le4fK56THzvh",
        "outputId": "7cdfe6a5-d8a7-4ff0-a1ef-424ba8b8b43d"
      },
      "execution_count": 15,
      "outputs": [
        {
          "output_type": "stream",
          "name": "stdout",
          "text": [
            "Approximate result is: 1.4142135623746899\n"
          ]
        }
      ]
    },
    {
      "cell_type": "code",
      "source": [
        "# Least Square Function\n",
        "import numpy as np\n",
        "\n",
        "# Set a function Ax=b where A is a matrix and b is a vector\n",
        "A = np.array([[1,2],[3,4],[5,6]]) #3*2 matrix\n",
        "B = np.array([7,8,9]) #3*1 matrix\n",
        "\n",
        "#Apply with lstsq\n",
        "x, resids, rank, s = np.linalg.lstsq(A, B, rcond=None)\n",
        "\n",
        "print(\"Solution x:\", x)\n",
        "print(\"Residuals:\", resids)\n",
        "print(\"Rank of A:\", rank)\n",
        "print(\"Singular value of A:\", s)"
      ],
      "metadata": {
        "colab": {
          "base_uri": "https://localhost:8080/"
        },
        "id": "sUzZpc5uJyoy",
        "outputId": "31b0bb03-8149-4648-e6f9-665cacded1a3"
      },
      "execution_count": 1,
      "outputs": [
        {
          "output_type": "stream",
          "name": "stdout",
          "text": [
            "Solution x: [-6.   6.5]\n",
            "Residuals: [7.09974815e-30]\n",
            "Rank of A: 2\n",
            "Singular value of A: [9.52551809 0.51430058]\n"
          ]
        }
      ]
    }
  ]
}