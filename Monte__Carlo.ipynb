{
  "nbformat": 4,
  "nbformat_minor": 0,
  "metadata": {
    "colab": {
      "provenance": [],
      "authorship_tag": "ABX9TyP+QKkg5yKjwbqc9ZVo0oaL",
      "include_colab_link": true
    },
    "kernelspec": {
      "name": "python3",
      "display_name": "Python 3"
    },
    "language_info": {
      "name": "python"
    }
  },
  "cells": [
    {
      "cell_type": "markdown",
      "metadata": {
        "id": "view-in-github",
        "colab_type": "text"
      },
      "source": [
        "<a href=\"https://colab.research.google.com/github/Nimika19/Mathematics/blob/main/Monte__Carlo.ipynb\" target=\"_parent\"><img src=\"https://colab.research.google.com/assets/colab-badge.svg\" alt=\"Open In Colab\"/></a>"
      ]
    },
    {
      "cell_type": "code",
      "execution_count": null,
      "metadata": {
        "colab": {
          "base_uri": "https://localhost:8080/"
        },
        "id": "Po6082cnGMTJ",
        "outputId": "752b52f9-689e-4b7f-e28e-dc653a89d627"
      },
      "outputs": [
        {
          "output_type": "stream",
          "name": "stdout",
          "text": [
            "Estimated integral: 0.666771743083908\n"
          ]
        }
      ],
      "source": [
        "# f(x, y) = x^2 + y^2, estimate the integral of f(x, y) in the region of 0<=x<=1, 0<=y<=1\n",
        "import random\n",
        "import math\n",
        "\n",
        "def estimate_integral(num_samples):\n",
        "    total = 0\n",
        "\n",
        "    for _ in range(num_samples):\n",
        "        x = random.uniform(0, 1)\n",
        "        y = random.uniform(0, 1)\n",
        "        if 0 <= x <= 1 and 0 <= y <= 1:\n",
        "            total += x**2 + y**2\n",
        "\n",
        "    return total / num_samples\n",
        "\n",
        "num_samples = 1000000\n",
        "estimated_integral = estimate_integral(num_samples)\n",
        "print(f\"Estimated integral: {estimated_integral}\")"
      ]
    },
    {
      "cell_type": "code",
      "source": [
        "# f(x, y) = x^2 + y^2, estimate the integral of f(x, y) in the region of 0<=x<=1, 0<=y<=1\n",
        "import random\n",
        "\n",
        "def MC_int(num_samples):\n",
        "  a_quarter_circle = 0\n",
        "  total_sum = 0\n",
        "\n",
        "  for i in range(num_samples):\n",
        "    x,y = random.umiform(0,1),  random.uniform(0,1)\n",
        "\n",
        "    if x**2 + y**2 <= 1:\n",
        "      a_quarter_circle += 1\n",
        "      total_sum += x**2 + y**2\n",
        "\n",
        "  # Avderage value of f(x,y) over the smpled points inside the quarter-circle\n",
        "  ave_f = total_sum/a_quarter_circle\n",
        "\n",
        "  # Area of the quarter-circle\n",
        "  quarter_circle_area = a_quarter_circle/num_samples\n",
        "\n",
        "  # Estimate the integral: integral = average value of f*area\n",
        "  integral_estimate = ave_f*quarter_circle_area\n",
        "\n",
        "  return  integral_estimate\n",
        "\n",
        "  num_samples = 10000\n",
        "  integral_estimate = MC_int(num_samples)\n",
        "\n",
        "  print(\"Estimate value of the integral (using {num_samples} samples): {integral_estimate}\")"
      ],
      "metadata": {
        "id": "f8zP4eFsHz21"
      },
      "execution_count": null,
      "outputs": []
    },
    {
      "cell_type": "code",
      "source": [
        "import random\n",
        "\n",
        "def MC_int(num_samples):\n",
        "    a_quarter_circle = 0\n",
        "    total_sum = 0\n",
        "\n",
        "    for i in range(num_samples):\n",
        "        x = random.uniform(0, 1)\n",
        "        y = random.uniform(0, 1)\n",
        "\n",
        "        if x**2 + y**2 <= 1:\n",
        "            a_quarter_circle += 1\n",
        "            total_sum += x**2 + y**2\n",
        "\n",
        "    # Average value of f(x,y) over the sampled points inside the quarter-circle\n",
        "    ave_f = total_sum / a_quarter_circle\n",
        "\n",
        "    # Area of the quarter-circle\n",
        "    quarter_circle_area = 0.25  # The area of a quarter-circle is pi*r^2/4, where r is the radius (1 in this case)\n",
        "\n",
        "    # Estimate the integral: integral = average value of f*area\n",
        "    integral_estimate = ave_f * quarter_circle_area\n",
        "\n",
        "    return integral_estimate\n",
        "\n",
        "num_samples = 10000\n",
        "integral_estimate = MC_int(num_samples)\n",
        "\n",
        "print(\"Estimate value of the integral (using {} samples): {}\".format(num_samples, integral_estimate))"
      ],
      "metadata": {
        "colab": {
          "base_uri": "https://localhost:8080/"
        },
        "id": "8bFnf7OxKkV1",
        "outputId": "e27af6a0-97d6-4129-eef6-e39fce9248ad"
      },
      "execution_count": null,
      "outputs": [
        {
          "output_type": "stream",
          "name": "stdout",
          "text": [
            "Estimate value of the integral (using 10000 samples): 0.12464954847243051\n"
          ]
        }
      ]
    },
    {
      "cell_type": "markdown",
      "source": [
        "# Geometric Brownian motion\n",
        "ddSt = MStdt + oStdWe\n",
        "\n",
        "St: a stock price at time t\n",
        "\n",
        "M: drift are rate of return\n",
        "\n",
        "o: volatility (standard deviation return)  [o is theetha]\n",
        "\n",
        "Wa: winer process (random noise)"
      ],
      "metadata": {
        "id": "Cvf3Nd9hM8Bd"
      }
    },
    {
      "cell_type": "code",
      "source": [
        "import numpy as np\n",
        "import matplotlib.pyplot as plt\n",
        "\n",
        "# Simulated stock price data using GBM\n",
        "np.random.seed(42)\n",
        "n_days = 100\n",
        "mu_true = 0.05  # True drift\n",
        "sigma_true = 0.2  # True volatility\n",
        "S0 = 100  # Initial stock price\n",
        "\n",
        "# Simulate stock price\n",
        "dt = 1  # Time step of 1 day\n",
        "W = np.random.normal(0, np.sqrt(dt), size=n_days)\n",
        "s = [S0]\n",
        "for i in range(1, n_days):\n",
        "    s.append(s[-1] * np.exp((mu_true - 0.5 * sigma_true ** 2) * dt + sigma_true * W[i]))\n",
        "# MCMC simulation\n",
        "n_samples = 10000\n",
        "n_chains = 4\n",
        "n_burnin = 1000\n",
        "n_thin = 10\n",
        "\n",
        "# Initialize the chains\n",
        "chains = np.zeros((n_samples, n_chains))\n",
        "\n",
        "# Initialize the current state of the chains\n",
        "current_state = np.zeros(n_chains)\n",
        "\n",
        "# Initialize the proposal distribution\n",
        "proposal_mean = np.zeros(n_chains)\n",
        "proposal_var = np.ones(n_chains)\n",
        "\n",
        "# Run the MCMC simulation\n",
        "for i in range(n_samples):\n",
        "    for j in range(n_chains):\n",
        "        # Propose a new state\n",
        "        proposed_state = current_state[j] + np.random.normal(proposal_mean[j], proposal_var[j])\n",
        "\n",
        "        # Calculate the acceptance probability\n",
        "        acceptance_prob = np.min([1, np.exp((proposed_state - current_state[j]) * (mu_true - 0.5 * sigma_true ** 2))])\n",
        "\n",
        "        # Accept or reject the proposed state\n",
        "        if np.random.rand() < acceptance_prob:\n",
        "            current_state[j] = proposed_state\n",
        "\n",
        "    # Store the current state\n",
        "    chains[i] = current_state\n",
        "\n",
        "# Burn-in and thinning\n",
        "chains = chains[n_burnin::n_thin]\n",
        "\n",
        "# Calculate the mean of the chains\n",
        "mean_chain = np.mean(chains, axis=0)\n",
        "\n",
        "# Plot the simulated stock price and the MCMC estimate\n",
        "plt.plot(s)\n",
        "plt.plot(mean_chain)\n",
        "plt.xlabel('Time')\n",
        "plt.ylabel('Stock Price')\n",
        "plt.show()"
      ],
      "metadata": {
        "id": "vCcSG5zTQp6O",
        "outputId": "74058ac2-1f5d-4cb5-f98f-ea1a43bcf402",
        "colab": {
          "base_uri": "https://localhost:8080/",
          "height": 451
        }
      },
      "execution_count": null,
      "outputs": [
        {
          "output_type": "display_data",
          "data": {
            "text/plain": [
              "<Figure size 640x480 with 1 Axes>"
            ],
            "image/png": "[encoded data removed]"
          },
          "metadata": {}
        }
      ]
    },
    {
      "cell_type": "code",
      "source": [
        "import numpy as np\n",
        "import matplotlib.pyplot as plt\n",
        "\n",
        "# Simulated stock price data using GBM\n",
        "np.random.seed(42)\n",
        "n_days = 100\n",
        "mu_true = 0.05  # True drift\n",
        "sigma_true = 0.2  # True volatility\n",
        "S0 = 100  # Initial stock price\n",
        "\n",
        "# Simulate stock price\n",
        "dt = 1  # Time step of 1 day\n",
        "W = np.random.normal(0, np.sqrt(dt), size=n_days)\n",
        "s = [S0]\n",
        "for i in range(1, n_days):\n",
        "    s.append(s[-1] * np.exp((mu_true - 0.5 * sigma_true ** 2) * dt + sigma_true * W[i]))\n",
        "\n",
        "    # Log return\n",
        "    log_return = np.log(np.array(S[1:]/np.array(s[:-1])))\n",
        "\n",
        "    # MCMC to estimate mu and sigma\n",
        "    def log_likelihood(mu,sigma):\n",
        "      if sigma<=0:\n",
        "        return -np.inf\n",
        "      residuals = log_returns - mu*dt\n",
        "      return -0.5*np.sum(residuals/sigma)**2 + np.log(2*np.pi*sigma**2)\n",
        "\n",
        "    def MCMC_GBM(num_samples,initial_mu,initial_sigma)\n",
        "        mu_chain = [initial_mu]\n",
        "        sigma_chain = [initial_sigma]\n",
        "\n",
        "        for n in range(num_samples):\n",
        "          # Propose new value for mu and sigma\n",
        "          mu_proposal = np.random.normal(mu_chain[-1],0.01)\n",
        "          sigma_proposal = np.random.normal(sigma_chain[-1],0.01)\n",
        "\n",
        "          # Calculate the acceptance probability\n",
        "          log_acceptance_ratio = (log_likelihood(mu_proposal, sigma_proposal) - log_likelihood(mu_chain[-1], sigma_chain[-1]))\n",
        "          acceptance_prob = np.exp(log_acceptance_ratio)\n",
        "\n",
        "          # Accept or reject the proposal values\n",
        "          if np.random.uniform(0,1)<acceptance_prob:\n",
        "            mu_chain.append(mu_proposal)\n",
        "            sigma_chain.append(sigma_proposal)\n",
        "          else:\n",
        "            mu_chain.append(mu_chain[-1])\n",
        "            sigma_chain.append(sigma_chain[-1])\n",
        "        return mu_chain,sigma_chain\n",
        "\n",
        "        # Run MCMC\n",
        "        num_samples = 10000\n",
        "        mu_initial,sigma_initial = 0.1,0.3\n",
        "        mu_chain,sigma_chain\n",
        "\n",
        "        print(\"Estimatem mu:\",np.mean(mu_chain))\n",
        "        print(\"Estimatem sigma:\",np.mean(sigma_chain))\n",
        "\n"
      ],
      "metadata": {
        "id": "XQzANGgpRTtV",
        "outputId": "2e5c5986-953a-46f4-9ad9-f711b66d40fd",
        "colab": {
          "base_uri": "https://localhost:8080/",
          "height": 110
        }
      },
      "execution_count": 8,
      "outputs": [
        {
          "output_type": "error",
          "ename": "SyntaxError",
          "evalue": "expected ':' (<ipython-input-8-24cc5db4945e>, line 28)",
          "traceback": [
            "\u001b[0;36m  File \u001b[0;32m\"<ipython-input-8-24cc5db4945e>\"\u001b[0;36m, line \u001b[0;32m28\u001b[0m\n\u001b[0;31m    def MCMC_GBM(num_samples,initial_mu,initial_sigma)\u001b[0m\n\u001b[0m                                                      ^\u001b[0m\n\u001b[0;31mSyntaxError\u001b[0m\u001b[0;31m:\u001b[0m expected ':'\n"
          ]
        }
      ]
    },
    {
      "cell_type": "code",
      "source": [],
      "metadata": {
        "id": "rsWkFEU_VLBW"
      },
      "execution_count": null,
      "outputs": []
    },
    {
      "cell_type": "code",
      "source": [
        "import numpy as np\n",
        "import matplotlib.pyplot as plt\n",
        "\n",
        "# Simulated stock price data using GBM\n",
        "np.random.seed(42)\n",
        "n_days = 100\n",
        "mu_true = 0.05  # True drift\n",
        "sigma_true = 0.2  # True volatility\n",
        "S0 = 100  # Initial stock price\n",
        "\n",
        "# Simulate stock price\n",
        "dt = 1  # Time step of 1 day\n",
        "W = np.random.normal(0, np.sqrt(dt), size=n_days)\n",
        "s = [S0]\n",
        "for i in range(1, n_days):\n",
        "    s.append(s[-1] * np.exp((mu_true - 0.5 * sigma_true ** 2) * dt + sigma_true * W[i]))\n",
        "\n",
        "# Log return\n",
        "log_returns = np.log(np.array(s[1:]/np.array(s[:-1])))\n",
        "\n",
        "# MCMC to estimate mu and sigma\n",
        "def log_likelihood(mu, sigma):\n",
        "    if sigma <= 0:\n",
        "        return -np.inf\n",
        "    residuals = log_returns - mu * dt\n",
        "    return -0.5 * np.sum(residuals / sigma) ** 2 + np.log(2 * np.pi * sigma ** 2)\n",
        "\n",
        "def MCMC_GBM(num_samples, initial_mu, initial_sigma):\n",
        "    mu_chain = [initial_mu]\n",
        "    sigma_chain = [initial_sigma]\n",
        "\n",
        "    for n in range(num_samples):\n",
        "        # Propose new value for mu and sigma\n",
        "        mu_proposal = np.random.normal(mu_chain[-1], 0.01)\n",
        "        sigma_proposal = np.random.normal(sigma_chain[-1], 0.01)\n",
        "\n",
        "        # Calculate the acceptance probability\n",
        "        log_acceptance_ratio = (log_likelihood(mu_proposal, sigma_proposal) - log_likelihood(mu_chain[-1], sigma_chain[-1]))\n",
        "        acceptance_prob = np.exp(log_acceptance_ratio)\n",
        "\n",
        "        # Accept or reject the proposal values\n",
        "        if np.random.uniform(0, 1) < acceptance_prob:\n",
        "            mu_chain.append(mu_proposal)\n",
        "            sigma_chain.append(sigma_proposal)\n",
        "        else:\n",
        "            mu_chain.append(mu_chain[-1])\n",
        "            sigma_chain.append(sigma_chain[-1])\n",
        "    return mu_chain, sigma_chain\n",
        "\n",
        "# Run MCMC\n",
        "num_samples = 10000\n",
        "mu_initial, sigma_initial = 0.1, 0.3\n",
        "mu_chain, sigma_chain = MCMC_GBM(num_samples, mu_initial, sigma_initial)\n",
        "\n",
        "print(\"Estimated mu:\", np.mean(mu_chain))\n",
        "print(\"Estimated sigma:\", np.mean(sigma_chain))"
      ],
      "metadata": {
        "id": "ouc9N7FBVK6t",
        "outputId": "a435147a-a304-4b59-b8a2-e06732165b10",
        "colab": {
          "base_uri": "https://localhost:8080/"
        }
      },
      "execution_count": 9,
      "outputs": [
        {
          "output_type": "stream",
          "name": "stdout",
          "text": [
            "Estimated mu: 0.008955169218934222\n",
            "Estimated sigma: 0.9397901040936777\n"
          ]
        }
      ]
    }
  ]
}