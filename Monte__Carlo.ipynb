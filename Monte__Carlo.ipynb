{
  "nbformat": 4,
  "nbformat_minor": 0,
  "metadata": {
    "colab": {
      "provenance": [],
      "authorship_tag": "ABX9TyPHbN2XCSNMPKxy1TJr60gO",
      "include_colab_link": true
    },
    "kernelspec": {
      "name": "python3",
      "display_name": "Python 3"
    },
    "language_info": {
      "name": "python"
    }
  },
  "cells": [
    {
      "cell_type": "markdown",
      "metadata": {
        "id": "view-in-github",
        "colab_type": "text"
      },
      "source": [
        "<a href=\"https://colab.research.google.com/github/Nimika19/Mathematics/blob/main/Monte__Carlo.ipynb\" target=\"_parent\"><img src=\"https://colab.research.google.com/assets/colab-badge.svg\" alt=\"Open In Colab\"/></a>"
      ]
    },
    {
      "cell_type": "code",
      "execution_count": null,
      "metadata": {
        "colab": {
          "base_uri": "https://localhost:8080/"
        },
        "id": "Po6082cnGMTJ",
        "outputId": "752b52f9-689e-4b7f-e28e-dc653a89d627"
      },
      "outputs": [
        {
          "output_type": "stream",
          "name": "stdout",
          "text": [
            "Estimated integral: 0.666771743083908\n"
          ]
        }
      ],
      "source": [
        "# f(x, y) = x^2 + y^2, estimate the integral of f(x, y) in the region of 0<=x<=1, 0<=y<=1\n",
        "import random\n",
        "import math\n",
        "\n",
        "def estimate_integral(num_samples):\n",
        "    total = 0\n",
        "\n",
        "    for _ in range(num_samples):\n",
        "        x = random.uniform(0, 1)\n",
        "        y = random.uniform(0, 1)\n",
        "        if 0 <= x <= 1 and 0 <= y <= 1:\n",
        "            total += x**2 + y**2\n",
        "\n",
        "    return total / num_samples\n",
        "\n",
        "num_samples = 1000000\n",
        "estimated_integral = estimate_integral(num_samples)\n",
        "print(f\"Estimated integral: {estimated_integral}\")"
      ]
    },
    {
      "cell_type": "code",
      "source": [
        "# f(x, y) = x^2 + y^2, estimate the integral of f(x, y) in the region of 0<=x<=1, 0<=y<=1\n",
        "import random\n",
        "\n",
        "def MC_int(num_samples):\n",
        "  a_quarter_circle = 0\n",
        "  total_sum = 0\n",
        "\n",
        "  for i in range(num_samples):\n",
        "    x,y = random.umiform(0,1),  random.uniform(0,1)\n",
        "\n",
        "    if x**2 + y**2 <= 1:\n",
        "      a_quarter_circle += 1\n",
        "      total_sum += x**2 + y**2\n",
        "\n",
        "  # Avderage value of f(x,y) over the smpled points inside the quarter-circle\n",
        "  ave_f = total_sum/a_quarter_circle\n",
        "\n",
        "  # Area of the quarter-circle\n",
        "  quarter_circle_area = a_quarter_circle/num_samples\n",
        "\n",
        "  # Estimate the integral: integral = average value of f*area\n",
        "  integral_estimate = ave_f*quarter_circle_area\n",
        "\n",
        "  return  integral_estimate\n",
        "\n",
        "  num_samples = 10000\n",
        "  integral_estimate = MC_int(num_samples)\n",
        "\n",
        "  print(\"Estimate value of the integral (using {num_samples} samples): {integral_estimate}\")"
      ],
      "metadata": {
        "id": "f8zP4eFsHz21"
      },
      "execution_count": null,
      "outputs": []
    },
    {
      "cell_type": "code",
      "source": [
        "import random\n",
        "\n",
        "def MC_int(num_samples):\n",
        "    a_quarter_circle = 0\n",
        "    total_sum = 0\n",
        "\n",
        "    for i in range(num_samples):\n",
        "        x = random.uniform(0, 1)\n",
        "        y = random.uniform(0, 1)\n",
        "\n",
        "        if x**2 + y**2 <= 1:\n",
        "            a_quarter_circle += 1\n",
        "            total_sum += x**2 + y**2\n",
        "\n",
        "    # Average value of f(x,y) over the sampled points inside the quarter-circle\n",
        "    ave_f = total_sum / a_quarter_circle\n",
        "\n",
        "    # Area of the quarter-circle\n",
        "    quarter_circle_area = 0.25  # The area of a quarter-circle is pi*r^2/4, where r is the radius (1 in this case)\n",
        "\n",
        "    # Estimate the integral: integral = average value of f*area\n",
        "    integral_estimate = ave_f * quarter_circle_area\n",
        "\n",
        "    return integral_estimate\n",
        "\n",
        "num_samples = 10000\n",
        "integral_estimate = MC_int(num_samples)\n",
        "\n",
        "print(\"Estimate value of the integral (using {} samples): {}\".format(num_samples, integral_estimate))"
      ],
      "metadata": {
        "colab": {
          "base_uri": "https://localhost:8080/"
        },
        "id": "8bFnf7OxKkV1",
        "outputId": "e27af6a0-97d6-4129-eef6-e39fce9248ad"
      },
      "execution_count": null,
      "outputs": [
        {
          "output_type": "stream",
          "name": "stdout",
          "text": [
            "Estimate value of the integral (using 10000 samples): 0.12464954847243051\n"
          ]
        }
      ]
    },
    {
      "cell_type": "markdown",
      "source": [
        "# Geometric Brownian motion\n",
        "ddSt = MStdt + oStdWe\n",
        "\n",
        "St: a stock price at time t\n",
        "\n",
        "M: drift are rate of return\n",
        "\n",
        "o: volatility (standard deviation return)  [o is theetha]\n",
        "\n",
        "Wa: winer process (random noise)"
      ],
      "metadata": {
        "id": "Cvf3Nd9hM8Bd"
      }
    },
    {
      "cell_type": "code",
      "source": [],
      "metadata": {
        "id": "MlMXwXcgLzNm"
      },
      "execution_count": null,
      "outputs": []
    }
  ]
}