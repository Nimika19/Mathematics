{
  "nbformat": 4,
  "nbformat_minor": 0,
  "metadata": {
    "colab": {
      "provenance": [],
      "authorship_tag": "ABX9TyOtY9JBY8HBGeZgLctuNVst",
      "include_colab_link": true
    },
    "kernelspec": {
      "name": "python3",
      "display_name": "Python 3"
    },
    "language_info": {
      "name": "python"
    }
  },
  "cells": [
    {
      "cell_type": "markdown",
      "metadata": {
        "id": "view-in-github",
        "colab_type": "text"
      },
      "source": [
        "<a href=\"https://colab.research.google.com/github/Nimika19/Mathematics/blob/main/Optimization.ipynb\" target=\"_parent\"><img src=\"https://colab.research.google.com/assets/colab-badge.svg\" alt=\"Open In Colab\"/></a>"
      ]
    },
    {
      "cell_type": "code",
      "source": [
        "import numpy as np\n",
        "from scipy.optimize import minimize\n",
        "\n",
        "#Q1: Find the minimum of f(X) =  x**3 + 2*x**2 - 8\n",
        "def objective_function(x):\n",
        "    return x**3 + 2*x**2 - 8\n",
        "\n",
        "# Initial guessimport numpy as np\n",
        "from scipy.optimize import minimize\n",
        "\n",
        "#Q2: Find the minimum global of f(X) =  x**4 - 2*x**3 + 2\n",
        "def objective_function(x):\n",
        "    return x**4 - 2*x**3 + 2\n",
        "\n",
        "# Initial guess\n",
        "x0 = 1.0\n",
        "\n",
        "# Perform the minimization\n",
        "min_res = minimize(objective_function, x0, method='BFGS')\n",
        "\n",
        "# Output results\n",
        "if min_res.success:\n",
        "   print(f'Minimum found at x={min_res.x[0]:.6f}')\n",
        "   print(f'Minimum value of the function = {min_res.fun:.6f}')\n",
        "else:\n",
        "   print('Optimization did not converge')\n",
        "x0 = 0.0\n",
        "\n",
        "# Perform the minimization\n",
        "min_res = minimize(objective_function, x0, method='BFGS')\n",
        "\n",
        "# Output results\n",
        "if min_res.success:\n",
        "   print(f'Minimum found at x = {min_res.x[0]:.6f}')\n",
        "   print(f'Minimum value of the function = {min_res.fun:.6f}')\n",
        "else:\n",
        "   print('Optimization did not converge')"
      ],
      "metadata": {
        "colab": {
          "base_uri": "https://localhost:8080/"
        },
        "id": "G86GGGX0LcQu",
        "outputId": "3a7f79a5-c29c-4752-d7ab-0d16107c2cb8"
      },
      "execution_count": 10,
      "outputs": [
        {
          "output_type": "stream",
          "name": "stdout",
          "text": [
            "Minimum found at x = 0.000000\n",
            "Minimum value of the function = -8.000000\n"
          ]
        }
      ]
    },
    {
      "cell_type": "code",
      "source": [
        "import numpy as np\n",
        "from scipy.optimize import minimize, differential_evolution\n",
        "\n",
        "#Q1: Find the minimum of f(X) =  x**4 - 2*x**3 + 2\n",
        "def new_objective_function(x):\n",
        "    return x**4 - 2*x**3 + 2\n",
        "\n",
        "# Perform the minimization using differential evolution\n",
        "res = differential_evolution(objective_function, bounds=[(-10, 10)])\n",
        "\n",
        "# Output results\n",
        "print(f'Minimum found at x={res.x[0]:.6f}')\n",
        "print(f'Minimum value of the function = {res.fun:.6f}')"
      ],
      "metadata": {
        "id": "lxsf5BMWQtGF",
        "outputId": "3980ffb1-cdaf-434f-b43b-b04c821e9a78",
        "colab": {
          "base_uri": "https://localhost:8080/"
        }
      },
      "execution_count": 17,
      "outputs": [
        {
          "output_type": "stream",
          "name": "stdout",
          "text": [
            "Minimum found at x=1.500000\n",
            "Minimum value of the function = 0.312500\n"
          ]
        }
      ]
    },
    {
      "cell_type": "code",
      "source": [
        "import numpy as np\n",
        "from scipy.optimize import minimize\n",
        "\n",
        "#Q2: Find the minimum global of f(X) =  x**4 - 2*x**3 + 2\n",
        "def new_objective_function(x):\n",
        "    return x[0]**4 - 2*x[0]**3 + 2\n",
        "\n",
        "# Initial guess\n",
        "initial_guess = [-5, 0, 5]\n",
        "\n",
        "best_result = None\n",
        "for x0 in initial_guess:\n",
        "  result = minimize(new_objective_function, [x0], bounds=[(-10, 10)])\n",
        "  if best_result is None or result.fun < best_result.fun:\n",
        "    best_result = result\n",
        "\n",
        "# Output results\n",
        "if best_result.success:\n",
        "   print(f'Global minimum found at x = {best_result.x[0]:.6f}')\n",
        "   print(f'Global minimum value of the function = {best_result.fun:.6f}')\n",
        "else:\n",
        "   print('Optimization did not converge')\n"
      ],
      "metadata": {
        "id": "a9GeIQ2kTEc6",
        "outputId": "f5305ec9-5b81-46e2-fdd6-9bb72e30ce52",
        "colab": {
          "base_uri": "https://localhost:8080/"
        }
      },
      "execution_count": 24,
      "outputs": [
        {
          "output_type": "stream",
          "name": "stdout",
          "text": [
            "Global minimum found at x = 1.500000\n",
            "Global minimum value of the function = 0.312500\n"
          ]
        }
      ]
    },
    {
      "cell_type": "code",
      "source": [
        "import numpy as np\n",
        "from scipy.optimize import minimize, differential_evolution\n",
        "\n",
        "#Q2: Find the minimum global of f(X) =  x**4 - 2*x**3 + 2\n",
        "def new_objective_function(x):\n",
        "    return x[0]**4 - 2*x[0]**3 + 2\n",
        "\n",
        "# Define bounds for global search\n",
        "bounds = [(-100, 100)]\n",
        "\n",
        "# Perform the Global minimization\n",
        "result2 = differential_evolution(new_objective_function, bounds=bounds)\n",
        "\n",
        "if result2.success:\n",
        "   print(f'Global minimum found at x = {result2.x[0]:.6f}')\n",
        "   print(f'Global minimum value of the function = {result2.fun:.6f}')\n",
        "else:\n",
        "   print('Optimization did not converge')"
      ],
      "metadata": {
        "id": "ftcUg9t_WFxn",
        "outputId": "b2b086ca-f122-4525-8f86-10d32343b875",
        "colab": {
          "base_uri": "https://localhost:8080/"
        }
      },
      "execution_count": 25,
      "outputs": [
        {
          "output_type": "stream",
          "name": "stdout",
          "text": [
            "Global minimum found at x = 1.499999\n",
            "Global minimum value of the function = 0.312500\n"
          ]
        }
      ]
    }
  ]
}