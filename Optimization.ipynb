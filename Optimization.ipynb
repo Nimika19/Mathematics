{
  "nbformat": 4,
  "nbformat_minor": 0,
  "metadata": {
    "colab": {
      "provenance": [],
      "authorship_tag": "ABX9TyMWmZNF6RF8ZhkOgVrDr8mZ",
      "include_colab_link": true
    },
    "kernelspec": {
      "name": "python3",
      "display_name": "Python 3"
    },
    "language_info": {
      "name": "python"
    }
  },
  "cells": [
    {
      "cell_type": "markdown",
      "metadata": {
        "id": "view-in-github",
        "colab_type": "text"
      },
      "source": [
        "<a href=\"https://colab.research.google.com/github/Nimika19/Mathematics/blob/main/Optimization.ipynb\" target=\"_parent\"><img src=\"https://colab.research.google.com/assets/colab-badge.svg\" alt=\"Open In Colab\"/></a>"
      ]
    },
    {
      "cell_type": "code",
      "source": [
        "import numpy as np\n",
        "from scipy.optimize import minimize\n",
        "\n",
        "#Q1: Find the minimum of f(X) =  x**3 + 2*x**2 - 8\n",
        "def objective_function(x):\n",
        "    return x**3 + 2*x**2 - 8\n",
        "\n",
        "# Initial guess\n",
        "x0 = 0.0\n",
        "\n",
        "# Perform the minimization\n",
        "min_res = minimize(objective_function, x0, method='BFGS')\n",
        "\n",
        "# Output results\n",
        "if min_res.success:\n",
        "   print(f'Minimum found at x={min_res.x[0]:.6f}')\n",
        "   print(f'Minimum value of the function = {min_res.fun:.6f}')\n",
        "else:\n",
        "   print('Optimization did not converge')"
      ],
      "metadata": {
        "colab": {
          "base_uri": "https://localhost:8080/"
        },
        "id": "G86GGGX0LcQu",
        "outputId": "8fd83882-3abb-4b42-a5bf-7e888b147163"
      },
      "execution_count": 6,
      "outputs": [
        {
          "output_type": "stream",
          "name": "stdout",
          "text": [
            "Minimum found at x=0.000000\n",
            "Minimum value of the function = -8.000000\n"
          ]
        }
      ]
    }
  ]
}