{
  "nbformat": 4,
  "nbformat_minor": 0,
  "metadata": {
    "colab": {
      "provenance": [],
      "authorship_tag": "ABX9TyOvGqICieGtgKJcELALh0Hr",
      "include_colab_link": true
    },
    "kernelspec": {
      "name": "python3",
      "display_name": "Python 3"
    },
    "language_info": {
      "name": "python"
    }
  },
  "cells": [
    {
      "cell_type": "markdown",
      "metadata": {
        "id": "view-in-github",
        "colab_type": "text"
      },
      "source": [
        "<a href=\"https://colab.research.google.com/github/Nimika19/Mathematics/blob/main/Optimization.ipynb\" target=\"_parent\"><img src=\"https://colab.research.google.com/assets/colab-badge.svg\" alt=\"Open In Colab\"/></a>"
      ]
    },
    {
      "cell_type": "code",
      "source": [
        "import numpy as np\n",
        "from scipy.optimize import minimize\n",
        "\n",
        "#Q1: Find the minimum of f(X) =  x**3 + 2*x**2 - 8\n",
        "def objective_function(x):\n",
        "    return x**3 + 2*x**2 - 8\n",
        "\n",
        "# Initial guessimport numpy as np\n",
        "from scipy.optimize import minimize\n",
        "\n",
        "# Initial guess\n",
        "x0 = 1.0\n",
        "\n",
        "# Perform the minimization\n",
        "min_res = minimize(objective_function, x0, method='BFGS')\n",
        "\n",
        "# Output results\n",
        "if min_res.success:\n",
        "   print(f'Minimum found at x={min_res.x[0]:.6f}')\n",
        "   print(f'Minimum value of the function = {min_res.fun:.6f}')\n",
        "else:\n",
        "   print('Optimization did not converge')"
      ],
      "metadata": {
        "colab": {
          "base_uri": "https://localhost:8080/"
        },
        "id": "G86GGGX0LcQu",
        "outputId": "f8ac7f5e-4ae8-44d1-ad22-eba1cf468523"
      },
      "execution_count": null,
      "outputs": [
        {
          "output_type": "stream",
          "name": "stdout",
          "text": [
            "Minimum found at x=-0.000000\n",
            "Minimum value of the function = -8.000000\n"
          ]
        }
      ]
    },
    {
      "cell_type": "code",
      "source": [
        "import numpy as np\n",
        "from scipy.optimize import minimize, differential_evolution\n",
        "\n",
        "#Q1: Find the minimum of f(X) =  x**4 - 2*x**3 + 2\n",
        "def new_objective_function(x):\n",
        "    return x**4 - 2*x**3 + 2\n",
        "\n",
        "# Perform the minimization using differential evolution\n",
        "res = differential_evolution(objective_function, bounds=[(-10, 10)])\n",
        "\n",
        "# Output results\n",
        "print(f'Minimum found at x={res.x[0]:.6f}')\n",
        "print(f'Minimum value of the function = {res.fun:.6f}')"
      ],
      "metadata": {
        "id": "lxsf5BMWQtGF",
        "outputId": "3c46ed71-1251-4a01-f6d7-67d1f0004fa1",
        "colab": {
          "base_uri": "https://localhost:8080/"
        }
      },
      "execution_count": null,
      "outputs": [
        {
          "output_type": "stream",
          "name": "stdout",
          "text": [
            "Minimum found at x=-10.000000\n",
            "Minimum value of the function = -808.000000\n"
          ]
        }
      ]
    },
    {
      "cell_type": "code",
      "source": [
        "import numpy as np\n",
        "from scipy.optimize import minimize\n",
        "\n",
        "#Q2: Find the minimum global of f(X) =  x**4 - 2*x**3 + 2\n",
        "def new_objective_function(x):\n",
        "    return x[0]**4 - 2*x[0]**3 + 2\n",
        "\n",
        "# Initial guess\n",
        "initial_guess = [-5, 0, 5]\n",
        "\n",
        "best_result = None\n",
        "for x0 in initial_guess:\n",
        "  result = minimize(new_objective_function, [x0], bounds=[(-10, 10)])\n",
        "  if best_result is None or result.fun < best_result.fun:\n",
        "    best_result = result\n",
        "\n",
        "# Output results\n",
        "if best_result.success:\n",
        "   print(f'Global minimum found at x = {best_result.x[0]:.6f}')\n",
        "   print(f'Global minimum value of the function = {best_result.fun:.6f}')\n",
        "else:\n",
        "   print('Optimization did not converge')\n"
      ],
      "metadata": {
        "id": "a9GeIQ2kTEc6",
        "outputId": "cffb0ec8-7af3-45e4-a388-51aa8b097e93",
        "colab": {
          "base_uri": "https://localhost:8080/"
        }
      },
      "execution_count": null,
      "outputs": [
        {
          "output_type": "stream",
          "name": "stdout",
          "text": [
            "Global minimum found at x = 1.500000\n",
            "Global minimum value of the function = 0.312500\n"
          ]
        }
      ]
    },
    {
      "cell_type": "code",
      "source": [
        "import numpy as np\n",
        "from scipy.optimize import minimize, differential_evolution\n",
        "\n",
        "#Q2: Find the minimum global of f(X) =  x**4 - 2*x**3 + 2\n",
        "def new_objective_function(x):\n",
        "    return x[0]**4 - 2*x[0]**3 + 2\n",
        "\n",
        "# Define bounds for global search\n",
        "bounds = [(-100, 100)]\n",
        "\n",
        "# Perform the Global minimization\n",
        "result2 = differential_evolution(new_objective_function, bounds=bounds)\n",
        "\n",
        "if result2.success:\n",
        "   print(f'Global minimum found at x = {result2.x[0]:.6f}')\n",
        "   print(f'Global minimum value of the function = {result2.fun:.6f}')\n",
        "else:\n",
        "   print('Optimization did not converge')"
      ],
      "metadata": {
        "id": "ftcUg9t_WFxn",
        "outputId": "fff4e910-eb58-41f2-c9fd-16674fd16c41",
        "colab": {
          "base_uri": "https://localhost:8080/"
        }
      },
      "execution_count": null,
      "outputs": [
        {
          "output_type": "stream",
          "name": "stdout",
          "text": [
            "Global minimum found at x = 1.500000\n",
            "Global minimum value of the function = 0.312500\n"
          ]
        }
      ]
    },
    {
      "cell_type": "code",
      "source": [
        "import numpy as np\n",
        "from scipy.optimize import minimize\n",
        "\n",
        "# Question 3: Find minimum of f(x, y) = (x-3)**2 + (y+1)**2 + sin(x)*cos(y)\n",
        "def com_fun(x):\n",
        "    return (x[0]-3)**2 + (x[1]+1)**2 + np.sin(x[0])*np.cos(x[1])\n",
        "\n",
        "# Define initial guess\n",
        "ini_guess = [-5, 5]\n",
        "\n",
        "# Perform minimize function using Nelder-Mead method\n",
        "result = minimize(com_fun, ini_guess, method='Nelder-Mead')\n",
        "\n",
        "# Output result\n",
        "if result.success:\n",
        "   print(f'Global minimum found at x = {result.x[0]:.6f}, y = {result.x[1]:.6f}')\n",
        "   print(f'Global minimum value of the function = {result.fun:.6f}')\n",
        "else:\n",
        "   print('Optimization did not converge')"
      ],
      "metadata": {
        "id": "QKmfaYsdbHGK",
        "outputId": "c8e95e08-b80b-4aca-ebc9-e7db012b2603",
        "colab": {
          "base_uri": "https://localhost:8080/"
        }
      },
      "execution_count": null,
      "outputs": [
        {
          "output_type": "stream",
          "name": "stdout",
          "text": [
            "Global minimum found at x = 3.291710, y = -0.939657\n",
            "Global minimum value of the function = 0.000489\n"
          ]
        }
      ]
    },
    {
      "cell_type": "markdown",
      "source": [
        "#Homework:\n",
        "1. f(x) = 5*x**2 + 3*x + 10\n",
        "\n",
        "2. L(x): A company produces 2 types of prooduct, A and B. The profit per unit of product A is $3 and B is $4. The company has a maximum of 80 hours of labor available, and each unit of product A require 2 hours of labor, while each unit of product B requires 3 hours of labor. Addiyionally, The comapny has a maximum of 120 units of row material available with each unit of product A requiring 1 unit of raw material and each unit of product B requiring 2 units of raw material. The question is Maximize the total profit while adhering the labor and material **constraints**"
      ],
      "metadata": {
        "id": "AapyXLQadSXT"
      }
    },
    {
      "cell_type": "code",
      "source": [
        "# Homework:\n"
      ],
      "metadata": {
        "id": "P0-6oqUobhF8"
      },
      "execution_count": null,
      "outputs": []
    }
  ]
}