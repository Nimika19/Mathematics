{
  "nbformat": 4,
  "nbformat_minor": 0,
  "metadata": {
    "colab": {
      "provenance": [],
      "authorship_tag": "ABX9TyOE+vm8DhC5t40mFZkvE2Ah",
      "include_colab_link": true
    },
    "kernelspec": {
      "name": "python3",
      "display_name": "Python 3"
    },
    "language_info": {
      "name": "python"
    }
  },
  "cells": [
    {
      "cell_type": "markdown",
      "metadata": {
        "id": "view-in-github",
        "colab_type": "text"
      },
      "source": [
        "<a href=\"https://colab.research.google.com/github/Nimika19/Mathematics/blob/main/Practice_for_exam.ipynb\" target=\"_parent\"><img src=\"https://colab.research.google.com/assets/colab-badge.svg\" alt=\"Open In Colab\"/></a>"
      ]
    },
    {
      "cell_type": "code",
      "execution_count": 4,
      "metadata": {
        "colab": {
          "base_uri": "https://localhost:8080/"
        },
        "id": "i4Lfkd7vSR00",
        "outputId": "37332680-4695-44c3-fd67-05800aa6c0f3"
      },
      "outputs": [
        {
          "output_type": "stream",
          "name": "stdout",
          "text": [
            "Row exchanges are not needed.\n"
          ]
        }
      ],
      "source": [
        "import numpy as np\n",
        "from scipy.linalg import lu_factor, lu_solve\n",
        "\n",
        "# Define the matrix C\n",
        "C = np.array([[3, 1, -1], [2, 4, 1], [1, -1, 2]])\n",
        "\n",
        "# Perform LU decomposition\n",
        "lu, piv = lu_factor(C)\n",
        "\n",
        "# Check if row exchanges were needed\n",
        "if np.any(piv != np.arange(len(piv))):\n",
        "    print(\"Row exchanges are needed.\")\n",
        "else:\n",
        "    print(\"Row exchanges are not needed.\")"
      ]
    },
    {
      "cell_type": "code",
      "source": [
        "import numpy as np\n",
        "\n",
        "# Define the matrix B\n",
        "B = np.array([[2, 3], [-2, -1]])\n",
        "\n",
        "# Calculate the characteristic polynomial\n",
        "p = np.poly(B)\n",
        "\n",
        "# Print the characteristic polynomial\n",
        "print(\"Characteristic polynomial:\", p)\n",
        "\n",
        "# Calculate the eigenvalues and eigenvectors\n",
        "eigenvalues, eigenvectors = np.linalg.eig(B)\n",
        "\n",
        "# Print the eigenvalues and eigenvectors\n",
        "print(\"Eigenvalues:\", eigenvalues)\n",
        "print(\"Eigenvectors:\", eigenvectors)"
      ],
      "metadata": {
        "colab": {
          "base_uri": "https://localhost:8080/"
        },
        "id": "sp5CIb8PWDx3",
        "outputId": "58c62910-e388-4fb7-e006-b198c9bdeba1"
      },
      "execution_count": 5,
      "outputs": [
        {
          "output_type": "stream",
          "name": "stdout",
          "text": [
            "Characteristic polynomial: [ 1. -1.  4.]\n",
            "Eigenvalues: [0.5+1.93649167j 0.5-1.93649167j]\n",
            "Eigenvectors: [[ 0.77459667+0.j   0.77459667-0.j ]\n",
            " [-0.38729833+0.5j -0.38729833-0.5j]]\n"
          ]
        }
      ]
    },
    {
      "cell_type": "code",
      "source": [
        "import numpy as np\n",
        "\n",
        "# Define the matrix B\n",
        "B = np.array([[2, 0, 1], [1, 1, 0], [0, 1, 1], [1, 2, 0]])\n",
        "\n",
        "# Perform QR decomposition\n",
        "Q, R = np.linalg.qr(B)\n",
        "\n",
        "print(\"Matrix B:\")\n",
        "print(B)\n",
        "print(\"\\nQR Decomposition:\")\n",
        "print(\"Q:\")\n",
        "print(Q)\n",
        "print(\"\\nR:\")\n",
        "print(R)"
      ],
      "metadata": {
        "colab": {
          "base_uri": "https://localhost:8080/"
        },
        "id": "woseANqNWw34",
        "outputId": "aa3bcd94-6e32-4332-fad5-e75df6df81f2"
      },
      "execution_count": 6,
      "outputs": [
        {
          "output_type": "stream",
          "name": "stdout",
          "text": [
            "Matrix B:\n",
            "[[2 0 1]\n",
            " [1 1 0]\n",
            " [0 1 1]\n",
            " [1 2 0]]\n",
            "\n",
            "QR Decomposition:\n",
            "Q:\n",
            "[[-0.81649658  0.47140452 -0.28867513]\n",
            " [-0.40824829 -0.23570226  0.28867513]\n",
            " [-0.         -0.47140452 -0.8660254 ]\n",
            " [-0.40824829 -0.70710678  0.28867513]]\n",
            "\n",
            "R:\n",
            "[[-2.44948974e+00 -1.22474487e+00 -8.16496581e-01]\n",
            " [ 0.00000000e+00 -2.12132034e+00 -5.55111512e-17]\n",
            " [ 0.00000000e+00  0.00000000e+00 -1.15470054e+00]]\n"
          ]
        }
      ]
    },
    {
      "cell_type": "code",
      "source": [
        "import numpy as np\n",
        "\n",
        "# Define the vectors\n",
        "v1 = np.array([1, 1, 0])\n",
        "v2 = np.array([1, 0, 1])\n",
        "v3 = np.array([0, 1, 1])\n",
        "\n",
        "# Initialize the orthogonalized vectors\n",
        "u1 = v1\n",
        "u2 = v2\n",
        "u3 = v3\n",
        "\n",
        "# Perform Gram-Schmidt orthogonalization\n",
        "u2 = u2 - np.dot(u2, u1) / np.dot(u1, u1) * u1\n",
        "u3 = u3 - np.dot(u3, u1) / np.dot(u1, u1) * u1 - np.dot(u3, u2) / np.dot(u2, u2) * u2\n",
        "\n",
        "print(\"Orthogonalized vectors:\")\n",
        "print(u1)\n",
        "print(u2)\n",
        "print(u3)"
      ],
      "metadata": {
        "colab": {
          "base_uri": "https://localhost:8080/"
        },
        "id": "bojuPMHYfGLv",
        "outputId": "1a85ab3b-f54d-4ccc-d035-f1ae0bf93d22"
      },
      "execution_count": 12,
      "outputs": [
        {
          "output_type": "stream",
          "name": "stdout",
          "text": [
            "Orthogonalized vectors:\n",
            "[1 1 0]\n",
            "[ 0.5 -0.5  1. ]\n",
            "[-0.66666667  0.66666667  0.66666667]\n"
          ]
        }
      ]
    },
    {
      "cell_type": "code",
      "source": [
        "def lagrange_interpolation(x_values, y_values, x):\n",
        "    result = 0\n",
        "    for i in range(len(x_values)):\n",
        "        numerator = 1\n",
        "        denominator = 1\n",
        "        for j in range(len(x_values)):\n",
        "            if i != j:\n",
        "                numerator *= (x - x_values[j])\n",
        "                denominator *= (x_values[i] - x_values[j])\n",
        "        result += f_x_values[i] * numerator / denominator\n",
        "    return result\n",
        "\n",
        "x_values = [1, 4, 7, 10]\n",
        "f_x_values = [2, 5, 10, 12]\n",
        "x = 6\n",
        "\n",
        "result = lagrange_interpolation(x_values, f_x_values, x)\n",
        "print(\"Interpolated value at X =\", x, \"is\", result)"
      ],
      "metadata": {
        "colab": {
          "base_uri": "https://localhost:8080/"
        },
        "id": "P-4cDymifKla",
        "outputId": "5f06951e-b016-4c82-d926-bc0a84d9b9ab"
      },
      "execution_count": 15,
      "outputs": [
        {
          "output_type": "stream",
          "name": "stdout",
          "text": [
            "Interpolated value at X = 6 is 8.419753086419753\n"
          ]
        }
      ]
    },
    {
      "cell_type": "code",
      "source": [],
      "metadata": {
        "id": "7s8bV3d8gYIK"
      },
      "execution_count": null,
      "outputs": []
    }
  ]
}