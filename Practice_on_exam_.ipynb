{
  "nbformat": 4,
  "nbformat_minor": 0,
  "metadata": {
    "colab": {
      "provenance": [],
      "authorship_tag": "ABX9TyM3XkzrV6Ky8amte7x6nf0b",
      "include_colab_link": true
    },
    "kernelspec": {
      "name": "python3",
      "display_name": "Python 3"
    },
    "language_info": {
      "name": "python"
    }
  },
  "cells": [
    {
      "cell_type": "markdown",
      "metadata": {
        "id": "view-in-github",
        "colab_type": "text"
      },
      "source": [
        "<a href=\"https://colab.research.google.com/github/Nimika19/Mathematics/blob/main/Practice_on_exam_.ipynb\" target=\"_parent\"><img src=\"https://colab.research.google.com/assets/colab-badge.svg\" alt=\"Open In Colab\"/></a>"
      ]
    },
    {
      "cell_type": "markdown",
      "source": [
        "# Truncation Error"
      ],
      "metadata": {
        "id": "dZMWHfRdIMAh"
      }
    },
    {
      "cell_type": "code",
      "execution_count": 2,
      "metadata": {
        "colab": {
          "base_uri": "https://localhost:8080/"
        },
        "id": "Qr3W5L8EIFIB",
        "outputId": "f238581e-d859-4484-ca0a-57ffc29732a5"
      },
      "outputs": [
        {
          "output_type": "stream",
          "name": "stdout",
          "text": [
            "Truncation error for x = 2.597 and 4 decimal places: 0.0\n"
          ]
        }
      ],
      "source": [
        "def truncation_error(x, decimal_places):\n",
        "    # Calculate the exact value of x\n",
        "    exact_value = round(x, decimal_places)\n",
        "\n",
        "    # Calculate the approximate value of x using truncation\n",
        "    approx_value = int(x * (10 ** decimal_places)) / (10 ** decimal_places)\n",
        "\n",
        "    # Calculate the truncation error\n",
        "    error = abs(exact_value - approx_value)\n",
        "\n",
        "    return error\n",
        "\n",
        "# Example usage:\n",
        "x = 2.597  # Replace with your own value\n",
        "decimal_places = 4  # Replace with your own value\n",
        "\n",
        "error = truncation_error(x, decimal_places)\n",
        "print(f\"Truncation error for x = {x} and {decimal_places} decimal places: {error}\")"
      ]
    },
    {
      "cell_type": "markdown",
      "source": [
        "# Rounding Error"
      ],
      "metadata": {
        "id": "tfiHYlACIK9s"
      }
    },
    {
      "cell_type": "code",
      "source": [
        "def rounding_error(x, decimal_places):\n",
        "    # Calculate the exact value of x\n",
        "    exact_value = round(x, decimal_places)\n",
        "\n",
        "    # Calculate the approximate value of x using rounding\n",
        "    approx_value = round(x, decimal_places)\n",
        "\n",
        "    # Calculate the rounding error\n",
        "    error = abs(exact_value - approx_value)\n",
        "\n",
        "    return error\n",
        "\n",
        "# Example usage:\n",
        "x = 3.14159  # Replace with your own value\n",
        "decimal_places = 2  # Replace with your own value\n",
        "\n",
        "error = rounding_error(x, decimal_places)\n",
        "print(f\"Rounding error for x = {x} and {decimal_places} decimal places: {error}\")"
      ],
      "metadata": {
        "colab": {
          "base_uri": "https://localhost:8080/"
        },
        "id": "fJxgbJNsI052",
        "outputId": "0e94e267-98b8-4381-84d8-dceeae42b75d"
      },
      "execution_count": 3,
      "outputs": [
        {
          "output_type": "stream",
          "name": "stdout",
          "text": [
            "Rounding error for x = 3.14159 and 2 decimal places: 0.0\n"
          ]
        }
      ]
    },
    {
      "cell_type": "markdown",
      "source": [
        "# ***Scalar***\n",
        "# Linear Interpolation"
      ],
      "metadata": {
        "id": "gyfDUwZZJkvw"
      }
    },
    {
      "cell_type": "code",
      "source": [
        "def linear_interpolation(x, x0, x1, y0, y1):\n",
        "    return y0 + (x - x0) * ((y1 - y0) / (x1 - x0))\n",
        "\n",
        "x = 0.5  # value to interpolate\n",
        "x0 = 0  # x-coordinate of the first point\n",
        "x1 = 1  # x-coordinate of the second point\n",
        "y0 = 2  # y-coordinate of the first point\n",
        "y1 = 4  # y-coordinate of the second point\n",
        "\n",
        "result = linear_interpolation(x, x0, x1, y0, y1)\n",
        "print(f\"Interpolated value at x = {x}: {result}\")"
      ],
      "metadata": {
        "colab": {
          "base_uri": "https://localhost:8080/"
        },
        "id": "O-S-HQhNJQPI",
        "outputId": "663f85c2-46bc-41b0-e447-074b3420fc41"
      },
      "execution_count": 4,
      "outputs": [
        {
          "output_type": "stream",
          "name": "stdout",
          "text": [
            "Interpolated value at x = 0.5: 3.0\n"
          ]
        }
      ]
    },
    {
      "cell_type": "markdown",
      "source": [
        "# Newton-Raphson Method for Root finding"
      ],
      "metadata": {
        "id": "XMoq8_zUJtcx"
      }
    },
    {
      "cell_type": "code",
      "source": [
        "def newton_raphson(f, f_prime, x0, tol=1e-5, max_iter=100):\n",
        "    x = x0\n",
        "    for i in range(max_iter):\n",
        "        x_new = x - f(x) / f_prime(x)\n",
        "        if abs(x_new - x) < tol:\n",
        "            return x_new\n",
        "        x = x_new\n",
        "    return x\n",
        "\n",
        "def f(x):\n",
        "    return x**2 - 2\n",
        "\n",
        "def f_prime(x):\n",
        "    return 2*x\n",
        "\n",
        "x0 = 1  # initial guess\n",
        "result = newton_raphson(f, f_prime, x0)\n",
        "print(f\"Root of the function f(x) = x^2 - 2: {result}\")"
      ],
      "metadata": {
        "colab": {
          "base_uri": "https://localhost:8080/"
        },
        "id": "5dYsYlr9J-Ku",
        "outputId": "dac7e9d6-2e51-40cf-d406-34225b1f8f33"
      },
      "execution_count": 5,
      "outputs": [
        {
          "output_type": "stream",
          "name": "stdout",
          "text": [
            "Root of the function f(x) = x^2 - 2: 1.4142135623746899\n"
          ]
        }
      ]
    },
    {
      "cell_type": "markdown",
      "source": [
        "# Bisect Method for Root Fonding"
      ],
      "metadata": {
        "id": "F1gWXA_8KGXv"
      }
    },
    {
      "cell_type": "code",
      "source": [
        "def bisection(f, a, b, tol=1e-5, max_iter=100):\n",
        "    if f(a) * f(b) > 0:\n",
        "        raise ValueError(\"f(a) and f(b) must have opposite signs\")\n",
        "    for i in range(max_iter):\n",
        "        c = (a + b) / 2\n",
        "        if f(c) == 0:\n",
        "            return c\n",
        "        if f(a) * f(c) < 0:\n",
        "            b = c\n",
        "        else:\n",
        "            a = c\n",
        "        if abs(b - a) < tol:\n",
        "            return (a + b) / 2\n",
        "    return (a + b) / 2\n",
        "\n",
        "def f(x):\n",
        "    return x**2 - 2\n",
        "\n",
        "a = 0  # lower bound\n",
        "b = 2  # upper bound\n",
        "result = bisection(f, a, b)\n",
        "print(f\"Root of the function f(x) = x^2 - 2: {result}\")"
      ],
      "metadata": {
        "colab": {
          "base_uri": "https://localhost:8080/"
        },
        "id": "4NBIKxSEKOm5",
        "outputId": "6a29d671-9f32-436d-84b4-97d11ca44133"
      },
      "execution_count": 6,
      "outputs": [
        {
          "output_type": "stream",
          "name": "stdout",
          "text": [
            "Root of the function f(x) = x^2 - 2: 1.4142112731933594\n"
          ]
        }
      ]
    },
    {
      "cell_type": "markdown",
      "source": [
        "# ***Vector***\n",
        "# Linear System of Equations"
      ],
      "metadata": {
        "id": "vzG1BFVeKSca"
      }
    },
    {
      "cell_type": "code",
      "source": [
        "import numpy as np\n",
        "\n",
        "def linear_system(A, b):\n",
        "    return np.linalg.solve(A, b)\n",
        "\n",
        "A = np.array([[3, 1], [1, 2]])  # coefficient matrix\n",
        "b = np.array([9, 8])  # constant vector\n",
        "\n",
        "result = linear_system(A, b)\n",
        "print(f\"Solution to the linear system: {result}\")"
      ],
      "metadata": {
        "colab": {
          "base_uri": "https://localhost:8080/"
        },
        "id": "58Cu1i8uKbGd",
        "outputId": "c2ad1ce3-4906-4ec4-b83f-d48ef0901e49"
      },
      "execution_count": 7,
      "outputs": [
        {
          "output_type": "stream",
          "name": "stdout",
          "text": [
            "Solution to the linear system: [2. 3.]\n"
          ]
        }
      ]
    },
    {
      "cell_type": "markdown",
      "source": [
        "# Eigenvalue Decomposition"
      ],
      "metadata": {
        "id": "pNp4n7TBKuEC"
      }
    },
    {
      "cell_type": "code",
      "source": [
        "import numpy as np\n",
        "\n",
        "def eigenvalue_decomposition(A):\n",
        "    return np.linalg.eig(A)\n",
        "\n",
        "A = np.array([[1, 2], [3, 4]])  # matrix to decompose\n",
        "\n",
        "eigenvalues, eigenvectors = eigenvalue_decomposition(A)\n",
        "print(f\"Eigenvalues: {eigenvalues}\")\n",
        "print(f\"Eigenvectors: {eigenvectors}\")"
      ],
      "metadata": {
        "colab": {
          "base_uri": "https://localhost:8080/"
        },
        "id": "mn3oWriKK1GP",
        "outputId": "39ec784d-2d60-47af-8616-1ebbb3e31576"
      },
      "execution_count": 8,
      "outputs": [
        {
          "output_type": "stream",
          "name": "stdout",
          "text": [
            "Eigenvalues: [-0.37228132  5.37228132]\n",
            "Eigenvectors: [[-0.82456484 -0.41597356]\n",
            " [ 0.56576746 -0.90937671]]\n"
          ]
        }
      ]
    },
    {
      "cell_type": "markdown",
      "source": [
        "# Singular value Decomposition"
      ],
      "metadata": {
        "id": "kAMz4ZalK7nS"
      }
    },
    {
      "cell_type": "code",
      "source": [
        "import numpy as np\n",
        "\n",
        "def singular_value_decomposition(A):\n",
        "    return np.linalg.svd(A)\n",
        "\n",
        "A = np.array([[1, 2], [3, 4]])  # matrix to decompose\n",
        "\n",
        "U, s, Vh = singular_value_decomposition(A)\n",
        "print(f\"U: {U}\")\n",
        "print(f\"s: {s}\")\n",
        "print(f\"Vh: {Vh}\")"
      ],
      "metadata": {
        "colab": {
          "base_uri": "https://localhost:8080/"
        },
        "id": "jsmkoMURK4IP",
        "outputId": "0ce6f2db-3b38-4354-8990-78c680290cc4"
      },
      "execution_count": 9,
      "outputs": [
        {
          "output_type": "stream",
          "name": "stdout",
          "text": [
            "U: [[-0.40455358 -0.9145143 ]\n",
            " [-0.9145143   0.40455358]]\n",
            "s: [5.4649857  0.36596619]\n",
            "Vh: [[-0.57604844 -0.81741556]\n",
            " [ 0.81741556 -0.57604844]]\n"
          ]
        }
      ]
    },
    {
      "cell_type": "markdown",
      "source": [
        "# Vector norms"
      ],
      "metadata": {
        "id": "pm23X6FVK_zN"
      }
    },
    {
      "cell_type": "code",
      "source": [
        "import numpy as np\n",
        "\n",
        "def l1_norm(vector):\n",
        "    return np.sum(np.abs(vector))\n",
        "\n",
        "def l2_norm(vector):\n",
        "    return np.sqrt(np.sum(np.square(vector)))\n",
        "\n",
        "def l_infinity_norm(vector):\n",
        "    return np.max(np.abs(vector))\n",
        "\n",
        "# Example usage:\n",
        "vector = np.array([1, 2, 3, 4, 5])  # Replace with your own vector\n",
        "\n",
        "l1_result = l1_norm(vector)\n",
        "l2_result = l2_norm(vector)\n",
        "l_infinity_result = l_infinity_norm(vector)\n",
        "\n",
        "print(f\"L1 Norm: {l1_result}\")\n",
        "print(f\"L2 Norm: {l2_result}\")\n",
        "print(f\"L∞ Norm: {l_infinity_result}\")"
      ],
      "metadata": {
        "colab": {
          "base_uri": "https://localhost:8080/"
        },
        "id": "kiKRhvBpLQZy",
        "outputId": "4a45eed4-4fd7-413e-b4d3-0033adfd4e9f"
      },
      "execution_count": 10,
      "outputs": [
        {
          "output_type": "stream",
          "name": "stdout",
          "text": [
            "L1 Norm: 15\n",
            "L2 Norm: 7.416198487095663\n",
            "L∞ Norm: 5\n"
          ]
        }
      ]
    },
    {
      "cell_type": "markdown",
      "source": [
        "# Matrix Addition"
      ],
      "metadata": {
        "id": "A1jJDsX8LTv1"
      }
    },
    {
      "cell_type": "code",
      "source": [
        "import numpy as np\n",
        "\n",
        "def matrix_addition(A, B):\n",
        "    return A + B\n",
        "\n",
        "A = np.array([[1, 2], [3, 4]])\n",
        "B = np.array([[5, 6], [7, 8]])\n",
        "\n",
        "result = matrix_addition(A, B)\n",
        "print(f\"Result of matrix addition: {result}\")"
      ],
      "metadata": {
        "colab": {
          "base_uri": "https://localhost:8080/"
        },
        "id": "cxY6L1UWLo2_",
        "outputId": "a1d873ab-88e3-43a1-d41a-063525e6ef59"
      },
      "execution_count": 11,
      "outputs": [
        {
          "output_type": "stream",
          "name": "stdout",
          "text": [
            "Result of matrix addition: [[ 6  8]\n",
            " [10 12]]\n"
          ]
        }
      ]
    },
    {
      "cell_type": "markdown",
      "source": [
        "# Matrix Substraction"
      ],
      "metadata": {
        "id": "YNcKaJUrLrq3"
      }
    },
    {
      "cell_type": "code",
      "source": [
        "import numpy as np\n",
        "\n",
        "def matrix_subtraction(A, B):\n",
        "    return A - B\n",
        "\n",
        "A = np.array([[1, 2], [3, 4]])\n",
        "B = np.array([[5, 6], [7, 8]])\n",
        "\n",
        "result = matrix_subtraction(A, B)\n",
        "print(f\"Result of matrix subtraction: {result}\")"
      ],
      "metadata": {
        "colab": {
          "base_uri": "https://localhost:8080/"
        },
        "id": "iRyDOmXOLvcl",
        "outputId": "60ed4307-745e-4a5c-d734-f0654e86e44f"
      },
      "execution_count": 12,
      "outputs": [
        {
          "output_type": "stream",
          "name": "stdout",
          "text": [
            "Result of matrix subtraction: [[-4 -4]\n",
            " [-4 -4]]\n"
          ]
        }
      ]
    },
    {
      "cell_type": "markdown",
      "source": [
        "# Matrix Multiplication"
      ],
      "metadata": {
        "id": "yUY62XNLLyan"
      }
    },
    {
      "cell_type": "code",
      "source": [
        "import numpy as np\n",
        "\n",
        "def matrix_multiplication(A, B):\n",
        "    return np.dot(A, B)\n",
        "\n",
        "A = np.array([[1, 2], [3, 4]])\n",
        "B = np.array([[5, 6], [7, 8]])\n",
        "\n",
        "result = matrix_multiplication(A, B)\n",
        "print(f\"Result of matrix multiplication: {result}\")"
      ],
      "metadata": {
        "colab": {
          "base_uri": "https://localhost:8080/"
        },
        "id": "ovHDN_ZgL3RB",
        "outputId": "b689d35a-4973-4492-daf1-a22bb99f4abe"
      },
      "execution_count": 13,
      "outputs": [
        {
          "output_type": "stream",
          "name": "stdout",
          "text": [
            "Result of matrix multiplication: [[19 22]\n",
            " [43 50]]\n"
          ]
        }
      ]
    },
    {
      "cell_type": "markdown",
      "source": [
        "# ***Matrix Factorization***\n",
        "# Singular value Decomposition (SVD)"
      ],
      "metadata": {
        "id": "VyLs3ANHL7Fd"
      }
    },
    {
      "cell_type": "code",
      "source": [
        "import numpy as np\n",
        "\n",
        "def singular_value_decomposition(A):\n",
        "    return np.linalg.svd(A)\n",
        "\n",
        "A = np.array([[1, 2], [3, 4]])\n",
        "\n",
        "U, s, Vh = singular_value_decomposition(A)\n",
        "print(f\"U: {U}\")\n",
        "print(f\"s: {s}\")\n",
        "print(f\"Vh: {Vh}\")"
      ],
      "metadata": {
        "colab": {
          "base_uri": "https://localhost:8080/"
        },
        "id": "BvYeJXagMGPl",
        "outputId": "a04c2040-c501-4688-ba9a-88a5f41cc433"
      },
      "execution_count": 14,
      "outputs": [
        {
          "output_type": "stream",
          "name": "stdout",
          "text": [
            "U: [[-0.40455358 -0.9145143 ]\n",
            " [-0.9145143   0.40455358]]\n",
            "s: [5.4649857  0.36596619]\n",
            "Vh: [[-0.57604844 -0.81741556]\n",
            " [ 0.81741556 -0.57604844]]\n"
          ]
        }
      ]
    },
    {
      "cell_type": "markdown",
      "source": [
        "# Eigenvalue Decomposition"
      ],
      "metadata": {
        "id": "lVIc8LZqMNDU"
      }
    },
    {
      "cell_type": "code",
      "source": [
        "import numpy as np\n",
        "\n",
        "def eigenvalue_decomposition(A):\n",
        "    return np.linalg.eig(A)\n",
        "\n",
        "A = np.array([[1, 2], [3, 4]])\n",
        "\n",
        "eigenvalues, eigenvectors = eigenvalue_decomposition(A)\n",
        "print(f\"Eigenvalues: {eigenvalues}\")\n",
        "print(f\"Eigenvectors: {eigenvectors}\")"
      ],
      "metadata": {
        "colab": {
          "base_uri": "https://localhost:8080/"
        },
        "id": "bJ9TD-y1MKQy",
        "outputId": "6bd8a361-ba65-499d-e8c3-5ce5643c2d63"
      },
      "execution_count": 15,
      "outputs": [
        {
          "output_type": "stream",
          "name": "stdout",
          "text": [
            "Eigenvalues: [-0.37228132  5.37228132]\n",
            "Eigenvectors: [[-0.82456484 -0.41597356]\n",
            " [ 0.56576746 -0.90937671]]\n"
          ]
        }
      ]
    },
    {
      "cell_type": "markdown",
      "source": [
        "# Matrix Inverse"
      ],
      "metadata": {
        "id": "HnPHelcZMXLn"
      }
    },
    {
      "cell_type": "code",
      "source": [
        "import numpy as np\n",
        "\n",
        "def matrix_inverse(A):\n",
        "    return np.linalg.inv(A)\n",
        "\n",
        "A = np.array([[1, 2], [3, 4]])\n",
        "\n",
        "result = matrix_inverse(A)\n",
        "print(f\"Result of matrix inverse: {result}\")"
      ],
      "metadata": {
        "colab": {
          "base_uri": "https://localhost:8080/"
        },
        "id": "ku3ehDOnMb4B",
        "outputId": "006859fd-a16f-4233-9d79-809114bc2b0f"
      },
      "execution_count": 16,
      "outputs": [
        {
          "output_type": "stream",
          "name": "stdout",
          "text": [
            "Result of matrix inverse: [[-2.   1. ]\n",
            " [ 1.5 -0.5]]\n"
          ]
        }
      ]
    },
    {
      "cell_type": "markdown",
      "source": [
        "# Linear system of Equations on Matrix solvers"
      ],
      "metadata": {
        "id": "4jcnXMCEMeUD"
      }
    },
    {
      "cell_type": "code",
      "source": [
        "import numpy as np\n",
        "\n",
        "def linear_system(A, b):\n",
        "    return np.linalg.solve(A, b)\n",
        "\n",
        "A = np.array([[1, 2], [3, 4]])\n",
        "b = np.array([5, 6])\n",
        "\n",
        "result = linear_system(A, b)\n",
        "print(f\"Solution to the linear system: {result}\")"
      ],
      "metadata": {
        "colab": {
          "base_uri": "https://localhost:8080/"
        },
        "id": "IkgJPlYdMnY3",
        "outputId": "2a363690-cf48-4a61-b0ce-91845a42c302"
      },
      "execution_count": 17,
      "outputs": [
        {
          "output_type": "stream",
          "name": "stdout",
          "text": [
            "Solution to the linear system: [-4.   4.5]\n"
          ]
        }
      ]
    },
    {
      "cell_type": "markdown",
      "source": [
        "# Guass Elimination"
      ],
      "metadata": {
        "id": "W0ghh61HM2-j"
      }
    },
    {
      "cell_type": "code",
      "source": [
        "def gauss_elimination(A, b):\n",
        "    n = len(A)\n",
        "    for k in range(n):\n",
        "        # Search for maximum in this column\n",
        "        max_el = abs(A[k][k])\n",
        "        max_row = k\n",
        "        for i in range(k+1, n):\n",
        "            if abs(A[i][k]) > max_el:\n",
        "                max_el = abs(A[i][k])\n",
        "                max_row = i\n",
        "\n",
        "        # Swap maximum row with current row\n",
        "        A[k], A[max_row] = A[max_row], A[k]\n",
        "\n",
        "        b[k], b[max_row] = b[max_row], b[k]\n",
        "\n",
        "        # Make all rows below this one 0 in current column\n",
        "        for i in range(k+1, n):\n",
        "            c = -A[i][k]/A[k][k]\n",
        "            for j in range(k, n):\n",
        "                if k == j:\n",
        "                    A[i][j] = 0\n",
        "                else:\n",
        "                    A[i][j] += c * A[k][j]\n",
        "            b[i] += c * b[k]\n",
        "\n",
        "    # Solve equation Ax=b for an upper triangular matrix A\n",
        "    x = [0 for i in range(n)]\n",
        "    for i in range(n-1, -1, -1):\n",
        "        x[i] = b[i]/A[i][i]\n",
        "        for k in range(i-1, -1, -1):\n",
        "            b[k] -= A[k][i] * x[i]\n",
        "    return x\n",
        "\n",
        "A = [[3, 1, 2], [1, 2, 1], [2, 1, 3]]\n",
        "b = [9, 7, 11]\n",
        "x = gauss_elimination(A, b)\n",
        "print(\"Solution:\", x)"
      ],
      "metadata": {
        "colab": {
          "base_uri": "https://localhost:8080/"
        },
        "id": "tJ13kZTzQKZS",
        "outputId": "65d5b923-fa24-4b52-fd77-4b9b30dc3f24"
      },
      "execution_count": 23,
      "outputs": [
        {
          "output_type": "stream",
          "name": "stdout",
          "text": [
            "Solution: [0.625, 1.875, 2.625]\n"
          ]
        }
      ]
    },
    {
      "cell_type": "markdown",
      "source": [
        "# QR factorization"
      ],
      "metadata": {
        "id": "ZnqbqnjAO69P"
      }
    },
    {
      "cell_type": "code",
      "source": [
        "import numpy as np\n",
        "\n",
        "def qr_factorization(A):\n",
        "    Q, R = np.linalg.qr(A)\n",
        "    return Q, R\n",
        "\n",
        "A = np.array([[1, 2], [3, 4]])\n",
        "\n",
        "Q, R = qr_factorization(A)\n",
        "print(f\"Q: {Q}\")\n",
        "print(f\"R: {R}\")"
      ],
      "metadata": {
        "colab": {
          "base_uri": "https://localhost:8080/"
        },
        "id": "zZHCSRskO_OI",
        "outputId": "a441550d-e8ad-41db-d17e-bce057be45f8"
      },
      "execution_count": 18,
      "outputs": [
        {
          "output_type": "stream",
          "name": "stdout",
          "text": [
            "Q: [[-0.31622777 -0.9486833 ]\n",
            " [-0.9486833   0.31622777]]\n",
            "R: [[-3.16227766 -4.42718872]\n",
            " [ 0.         -0.63245553]]\n"
          ]
        }
      ]
    },
    {
      "cell_type": "markdown",
      "source": [
        "# Gram Schmidt Process"
      ],
      "metadata": {
        "id": "yQ-0x_NjPBmh"
      }
    },
    {
      "cell_type": "code",
      "source": [
        "import numpy as np\n",
        "\n",
        "def gram_schmidt(vectors):\n",
        "    vectors = np.array(vectors)\n",
        "    Q = []\n",
        "    for v in vectors:\n",
        "        v = v - np.sum([np.dot(v, q) * q for q in Q], axis=0)\n",
        "        Q.append(v / np.linalg.norm(v))\n",
        "    return Q\n",
        "\n",
        "vectors = np.array([[1, 0], [1, 1], [0, 1]])\n",
        "\n",
        "Q = gram_schmidt(vectors)\n",
        "print(f\"Result of Gram Schmidt process: {Q}\")"
      ],
      "metadata": {
        "colab": {
          "base_uri": "https://localhost:8080/"
        },
        "id": "i_ELtzaAPHq3",
        "outputId": "0f817338-100e-4d5c-acd1-96cd2b1f7cab"
      },
      "execution_count": 19,
      "outputs": [
        {
          "output_type": "stream",
          "name": "stdout",
          "text": [
            "Result of Gram Schmidt process: [array([1., 0.]), array([0., 1.]), array([nan, nan])]\n"
          ]
        },
        {
          "output_type": "stream",
          "name": "stderr",
          "text": [
            "<ipython-input-19-882963ba4c8c>:8: RuntimeWarning: invalid value encountered in divide\n",
            "  Q.append(v / np.linalg.norm(v))\n"
          ]
        }
      ]
    },
    {
      "cell_type": "markdown",
      "source": [
        "# Eigenvalue Decomposition"
      ],
      "metadata": {
        "id": "wkY8Qm1qPLws"
      }
    },
    {
      "cell_type": "code",
      "source": [
        "import numpy as np\n",
        "\n",
        "def eigenvalue_decomposition(A):\n",
        "    eigenvalues, eigenvectors = np.linalg.eig(A)\n",
        "    return eigenvalues, eigenvectors\n",
        "\n",
        "A = np.array([[1, 2], [3, 4]])\n",
        "\n",
        "eigenvalues, eigenvectors = eigenvalue_decomposition(A)\n",
        "print(f\"Eigenvalues: {eigenvalues}\")\n",
        "print(f\"Eigenvectors: {eigenvectors}\")"
      ],
      "metadata": {
        "colab": {
          "base_uri": "https://localhost:8080/"
        },
        "id": "0BkBJxVaPPry",
        "outputId": "f070652f-352c-4612-a4e5-edb9e0273378"
      },
      "execution_count": 20,
      "outputs": [
        {
          "output_type": "stream",
          "name": "stdout",
          "text": [
            "Eigenvalues: [-0.37228132  5.37228132]\n",
            "Eigenvectors: [[-0.82456484 -0.41597356]\n",
            " [ 0.56576746 -0.90937671]]\n"
          ]
        }
      ]
    },
    {
      "cell_type": "markdown",
      "source": [
        "# Eigenvector Calculation"
      ],
      "metadata": {
        "id": "iwlM_bdNPShx"
      }
    },
    {
      "cell_type": "code",
      "source": [
        "import numpy as np\n",
        "\n",
        "def eigenvector(A, eigenvalue):\n",
        "    return np.linalg.solve(A - eigenvalue * np.eye(A.shape[0]), np.zeros(A.shape[0]))\n",
        "\n",
        "A = np.array([[1, 2], [3, 4]])\n",
        "eigenvalue = 2\n",
        "\n",
        "eigenvector_result = eigenvector(A, eigenvalue)\n",
        "print(f\"Eigenvector corresponding to eigenvalue {eigenvalue}: {eigenvector_result}\")"
      ],
      "metadata": {
        "colab": {
          "base_uri": "https://localhost:8080/"
        },
        "id": "lRI2rys1PWC5",
        "outputId": "820f1111-1646-4e2a-85a1-6c66507441f9"
      },
      "execution_count": 21,
      "outputs": [
        {
          "output_type": "stream",
          "name": "stdout",
          "text": [
            "Eigenvector corresponding to eigenvalue 2: [0. 0.]\n"
          ]
        }
      ]
    },
    {
      "cell_type": "markdown",
      "source": [
        "# Linear least square"
      ],
      "metadata": {
        "id": "CVfF20VuPcMK"
      }
    },
    {
      "cell_type": "code",
      "source": [
        "import numpy as np\n",
        "\n",
        "def linear_least_squares(A, b):\n",
        "    # Calculate the pseudo-inverse of A\n",
        "    A_T = np.transpose(A)\n",
        "    A_inv = np.linalg.inv(np.dot(A_T, A))\n",
        "    A_inv_A_T = np.dot(A_inv, A_T)\n",
        "    x = np.dot(A_inv_A_T, b)\n",
        "    return x\n",
        "\n",
        "# Example usage\n",
        "A = np.array([[1, 2], [3, 4]])\n",
        "b = np.array([5, 7])\n",
        "x = linear_least_squares(A, b)\n",
        "print(\"Solution:\", x)"
      ],
      "metadata": {
        "colab": {
          "base_uri": "https://localhost:8080/"
        },
        "id": "6ZH7_C4ORB59",
        "outputId": "04915ab2-8966-486d-bda3-a3d88e8e5c2e"
      },
      "execution_count": 24,
      "outputs": [
        {
          "output_type": "stream",
          "name": "stdout",
          "text": [
            "Solution: [-3.  4.]\n"
          ]
        }
      ]
    },
    {
      "cell_type": "markdown",
      "source": [
        "# Geometric Intreperation"
      ],
      "metadata": {
        "id": "0UjQX5gIRFgg"
      }
    },
    {
      "cell_type": "code",
      "source": [
        "import numpy as np\n",
        "\n",
        "def linear_least_squares(A, b):\n",
        "    # Calculate the pseudo-inverse of A\n",
        "    A_T = np.transpose(A)\n",
        "    A_inv = np.linalg.inv(np.dot(A_T, A))\n",
        "    A_inv_A_T = np.dot(A_inv, A_T)\n",
        "    x = np.dot(A_inv_A_T, b)\n",
        "    return x\n",
        "\n",
        "# Example usage\n",
        "A = np.array([[1, 2], [3, 4]])\n",
        "b = np.array([5, 7])\n",
        "x = linear_least_squares(A, b)\n",
        "print(\"Solution:\", x)"
      ],
      "metadata": {
        "colab": {
          "base_uri": "https://localhost:8080/"
        },
        "id": "W_HaqknPRIHE",
        "outputId": "845f681e-711c-4473-8037-d0c9170738ba"
      },
      "execution_count": 25,
      "outputs": [
        {
          "output_type": "stream",
          "name": "stdout",
          "text": [
            "Solution: [-3.  4.]\n"
          ]
        }
      ]
    },
    {
      "cell_type": "markdown",
      "source": [
        "Data filling problem"
      ],
      "metadata": {
        "id": "1GVurxLgRK0N"
      }
    },
    {
      "cell_type": "code",
      "source": [
        "import numpy as np\n",
        "import matplotlib.pyplot as plt\n",
        "\n",
        "def data_fitting_problem(A, b, x):\n",
        "    # Calculate the fitted values\n",
        "    y = np.dot(A, x)\n",
        "\n",
        "    # Plot the original data points\n",
        "    plt.scatter(b, y, color='blue', label='Original data')\n",
        "\n",
        "    # Plot the fitted line\n",
        "    plt.plot(y, color='red', label='Fitted line')\n",
        "\n",
        "    plt.xlabel('x')\n",
        "    plt.ylabel('y')\n",
        "    plt.title('Data Fitting Problem')\n",
        "    plt.legend()\n",
        "    plt.show()\n",
        "\n",
        "    return y\n",
        "\n",
        "# Example usage\n",
        "A = np.array([[1, 2], [3, 4]])\n",
        "b = np.array([5, 7])\n",
        "x = np.array([1, 2])\n",
        "y = data_fitting_problem(A, b, x)\n",
        "print(\"Fitted values:\", y)"
      ],
      "metadata": {
        "colab": {
          "base_uri": "https://localhost:8080/",
          "height": 490
        },
        "id": "L7_5oIM9RNQ8",
        "outputId": "85dbf1d6-c182-43c4-c40a-27c1a9942f6e"
      },
      "execution_count": 26,
      "outputs": [
        {
          "output_type": "display_data",
          "data": {
            "text/plain": [
              "<Figure size 640x480 with 1 Axes>"
            ],
            "image/png": "[encoded data removed]"
          },
          "metadata": {}
        },
        {
          "output_type": "stream",
          "name": "stdout",
          "text": [
            "Fitted values: [ 5 11]\n"
          ]
        }
      ]
    },
    {
      "cell_type": "markdown",
      "source": [
        "# Cholesky factorization for least square"
      ],
      "metadata": {
        "id": "fsSd-g1dRQJ-"
      }
    },
    {
      "cell_type": "code",
      "source": [
        "import numpy as np\n",
        "\n",
        "def cholesky_factorization(A):\n",
        "    n = len(A)\n",
        "    L = np.zeros((n, n))\n",
        "    for i in range(n):\n",
        "        for j in range(i+1):\n",
        "            if i == j:\n",
        "                L[i][j] = np.sqrt(A[i][i] - np.sum([L[i][k] * L[i][k] for k in range(j)]))\n",
        "            else:\n",
        "                L[i][j] = (A[i][j] - np.sum([L[i][k] * L[j][k] for k in range(j)])) / L[j][j]\n",
        "    return L\n",
        "\n",
        "def least_squares_cholesky(A, b):\n",
        "    L = cholesky_factorization(A)\n",
        "    y = np.zeros(len(b))\n",
        "    for i in range(len(b)):\n",
        "        y[i] = b[i] / L[i][i]\n",
        "    x = np.zeros(len(b))\n",
        "    for i in range(len(b)-1, -1, -1):\n",
        "        x[i] = y[i]\n",
        "        for k in range(i-1, -1, -1):\n",
        "            y[k] -= L[k][i] * x[i]\n",
        "    return x\n",
        "\n",
        "# Example usage\n",
        "A = np.array([[1, 2], [3, 4]])\n",
        "b = np.array([5, 7])\n",
        "x = least_squares_cholesky(A, b)\n",
        "print(\"Solution:\", x)"
      ],
      "metadata": {
        "colab": {
          "base_uri": "https://localhost:8080/"
        },
        "id": "2F9nNGGIRVfg",
        "outputId": "693960fc-d9a6-4937-ea70-a56657175c48"
      },
      "execution_count": 27,
      "outputs": [
        {
          "output_type": "stream",
          "name": "stdout",
          "text": [
            "Solution: [nan nan]\n"
          ]
        },
        {
          "output_type": "stream",
          "name": "stderr",
          "text": [
            "<ipython-input-27-86aacf415434>:9: RuntimeWarning: invalid value encountered in sqrt\n",
            "  L[i][j] = np.sqrt(A[i][i] - np.sum([L[i][k] * L[i][k] for k in range(j)]))\n"
          ]
        }
      ]
    },
    {
      "cell_type": "markdown",
      "source": [
        "# QR factorization for least square"
      ],
      "metadata": {
        "id": "a1qOP84ZRXtg"
      }
    },
    {
      "cell_type": "code",
      "source": [
        "import numpy as np\n",
        "\n",
        "def qr_factorization(A):\n",
        "    n = len(A)\n",
        "    Q = np.zeros((n, n))\n",
        "    R = np.zeros((n, n))\n",
        "    for i in range(n):\n",
        "        Q[:, i] = A[:, i]\n",
        "        for j in range(i):\n",
        "            R[i][j] = np.dot(Q[:, i], Q[:, j])\n",
        "            Q[:, i] -= R[i][j] * Q[:, j]\n",
        "        R[i][i] = np.linalg.norm(Q[:, i])\n",
        "        Q[:, i] /= R[i][i]\n",
        "    return Q, R\n",
        "\n",
        "def least_squares_qr(A, b):\n",
        "    Q, R = qr_factorization(A)\n",
        "    y = np.dot(Q.T, b)\n",
        "    x = np.zeros(len(b))\n",
        "    for i in range(len(b)-1, -1, -1):\n",
        "        x[i] = y[i] / R[i][i]\n",
        "        for k in range(i-1, -1, -1):\n",
        "            y[k] -= R[k][i] * x[i]\n",
        "    return x\n",
        "\n",
        "# Example usage\n",
        "A = np.array([[1, 2], [3, 4]])\n",
        "b = np.array([5, 7])\n",
        "x = least_squares_qr(A, b)\n",
        "print(\"Solution:\", x)"
      ],
      "metadata": {
        "colab": {
          "base_uri": "https://localhost:8080/"
        },
        "id": "-FjcSGsTRdJz",
        "outputId": "bac7c862-3cec-4151-8f8f-5fa490a59f9c"
      },
      "execution_count": 28,
      "outputs": [
        {
          "output_type": "stream",
          "name": "stdout",
          "text": [
            "Solution: [2.6 4. ]\n"
          ]
        }
      ]
    },
    {
      "cell_type": "markdown",
      "source": [
        "# Newton's Method"
      ],
      "metadata": {
        "id": "QvooVW9QSJVo"
      }
    },
    {
      "cell_type": "code",
      "source": [
        "import numpy as np\n",
        "\n",
        "def newton_method(f, f_prime, x0, tol=1e-5, max_iter=100):\n",
        "    x = x0\n",
        "    for i in range(max_iter):\n",
        "        x_new = x - f(x) / f_prime(x)\n",
        "        if np.abs(x_new - x) < tol:\n",
        "            return x_new\n",
        "        x = x_new\n",
        "    return x\n",
        "\n",
        "# Example usage\n",
        "def f(x):\n",
        "    return x**2 - 2\n",
        "\n",
        "def f_prime(x):\n",
        "    return 2*x\n",
        "\n",
        "x0 = 1.0\n",
        "x = newton_method(f, f_prime, x0)\n",
        "print(\"Solution:\", x)"
      ],
      "metadata": {
        "colab": {
          "base_uri": "https://localhost:8080/"
        },
        "id": "i7zF9KDKRf04",
        "outputId": "09ff538a-6cb2-4222-fa68-7ae7c60b6dcd"
      },
      "execution_count": 29,
      "outputs": [
        {
          "output_type": "stream",
          "name": "stdout",
          "text": [
            "Solution: 1.4142135623746899\n"
          ]
        }
      ]
    },
    {
      "cell_type": "markdown",
      "source": [
        "# Newton's method in high dimensions"
      ],
      "metadata": {
        "id": "K_BYcZgvSPFK"
      }
    },
    {
      "cell_type": "code",
      "source": [
        "import numpy as np\n",
        "\n",
        "def newton_method_high_dim(f, f_prime, x0, tol=1e-5, max_iter=100):\n",
        "    x = x0\n",
        "    for i in range(max_iter):\n",
        "        x_new = x - np.dot(np.linalg.inv(f_prime(x)), f(x))\n",
        "        if np.linalg.norm(x_new - x) < tol:\n",
        "            return x_new\n",
        "        x = x_new\n",
        "    return x\n",
        "\n",
        "# Example usage\n",
        "def f(x):\n",
        "    return np.array([x[0]**2 - 2, x[1]**2 - 3])\n",
        "\n",
        "def f_prime(x):\n",
        "    return np.array([[2*x[0], 0], [0, 2*x[1]]])\n",
        "\n",
        "x0 = np.array([1.0, 2.0])\n",
        "x = newton_method_high_dim(f, f_prime, x0)\n",
        "print(\"Solution:\", x)"
      ],
      "metadata": {
        "colab": {
          "base_uri": "https://localhost:8080/"
        },
        "id": "rQIABxF3SShu",
        "outputId": "bf6d6ed2-7327-4f8a-f4f9-f67a2bfd265d"
      },
      "execution_count": 30,
      "outputs": [
        {
          "output_type": "stream",
          "name": "stdout",
          "text": [
            "Solution: [1.41421356 1.73205081]\n"
          ]
        }
      ]
    },
    {
      "cell_type": "markdown",
      "source": [
        "# Secant method"
      ],
      "metadata": {
        "id": "cg5n0NzxSW1j"
      }
    },
    {
      "cell_type": "code",
      "source": [
        "import numpy as np\n",
        "\n",
        "def secant_method(f, x0, x1, tol=1e-5, max_iter=100):\n",
        "    x = x0\n",
        "    for i in range(max_iter):\n",
        "        x_new = x - f(x) * (x - x1) / (f(x) - f(x1))\n",
        "        if np.abs(x_new - x) < tol:\n",
        "            return x_new\n",
        "        x1 = x\n",
        "        x = x_new\n",
        "    return x\n",
        "\n",
        "# Example usage\n",
        "def f(x):\n",
        "    return x**2 - 2\n",
        "\n",
        "x0 = 1.0\n",
        "x1 = 2.0\n",
        "x = secant_method(f, x0, x1)\n",
        "print(\"Solution:\", x)"
      ],
      "metadata": {
        "colab": {
          "base_uri": "https://localhost:8080/"
        },
        "id": "gIldlQvjSYza",
        "outputId": "ea4a0f20-9155-40b8-9e8f-d06099d2f9fe"
      },
      "execution_count": 31,
      "outputs": [
        {
          "output_type": "stream",
          "name": "stdout",
          "text": [
            "Solution: 1.4142135626888697\n"
          ]
        }
      ]
    },
    {
      "cell_type": "markdown",
      "source": [
        "# Broydean's method"
      ],
      "metadata": {
        "id": "Napoiz5XSbN-"
      }
    },
    {
      "cell_type": "code",
      "source": [
        "import numpy as np\n",
        "\n",
        "def broyden_method(f, f_prime, x0, tol=1e-5, max_iter=100):\n",
        "    x = x0\n",
        "    for i in range(max_iter):\n",
        "        x_new = x - np.dot(np.linalg.inv(f_prime(x)), f(x))\n",
        "        if np.linalg.norm(x_new - x) < tol:\n",
        "            return x_new\n",
        "        x = x_new\n",
        "    return x\n",
        "\n",
        "# Example usage\n",
        "def f(x):\n",
        "    return np.array([x[0]**2 - 2, x[1]**2 - 3])\n",
        "\n",
        "def f_prime(x):\n",
        "    return np.array([[2*x[0], 0], [0, 2*x[1]]])\n",
        "\n",
        "x0 = np.array([1.0, 2.0])\n",
        "x = broyden_method(f, f_prime, x0)\n",
        "print(\"Solution:\", x)"
      ],
      "metadata": {
        "colab": {
          "base_uri": "https://localhost:8080/"
        },
        "id": "3PPGH63zSeDp",
        "outputId": "6d473f47-9c1c-455c-d311-22e770c1417f"
      },
      "execution_count": 32,
      "outputs": [
        {
          "output_type": "stream",
          "name": "stdout",
          "text": [
            "Solution: [1.41421356 1.73205081]\n"
          ]
        }
      ]
    },
    {
      "cell_type": "markdown",
      "source": [
        "# Local convergence"
      ],
      "metadata": {
        "id": "_BbWFT6wSgy_"
      }
    },
    {
      "cell_type": "code",
      "source": [
        "import numpy as np\n",
        "\n",
        "def local_convergence(f, f_prime, x0, tol=1e-5, max_iter=100):\n",
        "    x = x0\n",
        "    for i in range(max_iter):\n",
        "        x_new = x - f(x) / f_prime(x)\n",
        "        if np.abs(x_new - x) < tol:\n",
        "            return x_new\n",
        "        x = x_new\n",
        "    return x\n",
        "\n",
        "# Example usage\n",
        "def f(x):\n",
        "    return x**2 - 2\n",
        "\n",
        "def f_prime(x):\n",
        "    return 2*x\n",
        "\n",
        "x0 = 1.0\n",
        "x = local_convergence(f, f_prime, x0)\n",
        "print(\"Solution:\", x)"
      ],
      "metadata": {
        "colab": {
          "base_uri": "https://localhost:8080/"
        },
        "id": "rd9yy_0-Sklk",
        "outputId": "dec1f042-2947-4e27-b889-db133121dd67"
      },
      "execution_count": 33,
      "outputs": [
        {
          "output_type": "stream",
          "name": "stdout",
          "text": [
            "Solution: 1.4142135623746899\n"
          ]
        }
      ]
    },
    {
      "cell_type": "markdown",
      "source": [
        "# Global Convergence"
      ],
      "metadata": {
        "id": "lwrp6CvLSoGA"
      }
    },
    {
      "cell_type": "code",
      "source": [
        "import numpy as np\n",
        "\n",
        "def global_convergence(f, f_prime, x0, tol=1e-5, max_iter=100):\n",
        "    x = x0\n",
        "    for i in range(max_iter):\n",
        "        x_new = x - f(x) / f_prime(x)\n",
        "        if np.abs(x_new - x) < tol:\n",
        "            return x_new\n",
        "        x = x_new\n",
        "    return x\n",
        "\n",
        "# Example usage\n",
        "def f(x):\n",
        "    return x**2 - 2\n",
        "\n",
        "def f_prime(x):\n",
        "    return 2*x\n",
        "\n",
        "x0 = 1.0\n",
        "x = global_convergence(f, f_prime, x0)\n",
        "print(\"Solution:\", x)"
      ],
      "metadata": {
        "colab": {
          "base_uri": "https://localhost:8080/"
        },
        "id": "hRGZGWYuSq7A",
        "outputId": "1a173d60-0723-4f75-dd7e-8c495a4d8789"
      },
      "execution_count": 34,
      "outputs": [
        {
          "output_type": "stream",
          "name": "stdout",
          "text": [
            "Solution: 1.4142135623746899\n"
          ]
        }
      ]
    },
    {
      "cell_type": "markdown",
      "source": [
        "# Iterative method"
      ],
      "metadata": {
        "id": "vgtGSNnTSupr"
      }
    },
    {
      "cell_type": "code",
      "source": [
        "import numpy as np\n",
        "\n",
        "def iterative_method(f, x0, tol=1e-5, max_iter=100):\n",
        "    x = x0\n",
        "    for i in range(max_iter):\n",
        "        x_new = f(x)\n",
        "        if np.abs(x_new - x) < tol:\n",
        "            return x_new\n",
        "        x = x_new\n",
        "    return x\n",
        "\n",
        "# Example usage\n",
        "def f(x):\n",
        "    return x**2 - 2\n",
        "\n",
        "x0 = 1.0\n",
        "x = iterative_method(f, x0)\n",
        "print(\"Solution:\", x)"
      ],
      "metadata": {
        "colab": {
          "base_uri": "https://localhost:8080/"
        },
        "id": "DC1JGjApSxnW",
        "outputId": "a66a9d0f-019c-402b-fb50-3212f7ffd076"
      },
      "execution_count": 35,
      "outputs": [
        {
          "output_type": "stream",
          "name": "stdout",
          "text": [
            "Solution: -1.0\n"
          ]
        }
      ]
    },
    {
      "cell_type": "markdown",
      "source": [
        "# Spline interpolation"
      ],
      "metadata": {
        "id": "63uULGzSS-mf"
      }
    },
    {
      "cell_type": "code",
      "source": [
        "import numpy as np\n",
        "\n",
        "def natural_spline_interpolation(x, y, x_new):\n",
        "    n = len(x) - 1\n",
        "    h = [x[i+1] - x[i] for i in range(n)]\n",
        "    a = [0] * n\n",
        "    b = [0] * n\n",
        "    c = [0] * n\n",
        "    d = [0] * n\n",
        "\n",
        "    for i in range(n):\n",
        "        a[i] = h[i] / (6 * h[i-1] * h[i-1] * h[i])\n",
        "        b[i] = (h[i-1] / h[i]) * (h[i-1] / h[i]) * (h[i-1] / h[i]) * h[i-1]\n",
        "        c[i] = (h[i-1] / h[i]) * (h[i-1] / h[i]) * h[i-1]\n",
        "        d[i] = (h[i-1] / h[i]) * h[i-1]\n",
        "\n",
        "    y_new = [0] * len(x_new)\n",
        "    for i in range(len(x_new)):\n",
        "        for j in range(n):\n",
        "            if x_new[i] >= x[j] and x_new[i] <= x[j+1]:\n",
        "                y_new[i] = y[j] + a[j] * (x_new[i] - x[j])**3 + b[j] * (x_new[i] - x[j])**2 + c[j] * (x_new[i] - x[j]) + d[j]\n",
        "    return y_new\n",
        "\n",
        "# Example usage\n",
        "x = np.array([0, 1, 2, 3, 4])\n",
        "y = np.array([0, 1, 4, 9, 16])\n",
        "x_new = np.array([0.5, 1.5, 2.5, 3.5, 4.5])\n",
        "y_new = natural_spline_interpolation(x, y, x_new)\n",
        "print(\"Interpolated values:\", y_new)"
      ],
      "metadata": {
        "colab": {
          "base_uri": "https://localhost:8080/"
        },
        "id": "HQeLuThTUCcc",
        "outputId": "0eaa4d09-d6b6-4017-9385-1453e814c41a"
      },
      "execution_count": 36,
      "outputs": [
        {
          "output_type": "stream",
          "name": "stdout",
          "text": [
            "Interpolated values: [1.7708333333333333, 2.770833333333333, 5.770833333333333, 10.770833333333334, 0]\n"
          ]
        }
      ]
    },
    {
      "cell_type": "markdown",
      "source": [
        "# Cubic interpolation"
      ],
      "metadata": {
        "id": "fmg8FhhDUGG7"
      }
    },
    {
      "cell_type": "code",
      "source": [
        "import numpy as np\n",
        "\n",
        "def clamped_spline_interpolation(x, y, x_new):\n",
        "    n = len(x) - 1\n",
        "    h = [x[i+1] - x[i] for i in range(n)]\n",
        "    a = [0] * n\n",
        "    b = [0] * n\n",
        "    c = [0] * n\n",
        "    d = [0] * n\n",
        "\n",
        "    for i in range(n):\n",
        "        a[i] = h[i] / (6 * h[i-1] * h[i-1] * h[i])\n",
        "        b[i] = (h[i-1] / h[i]) * (h[i-1] / h[i]) * (h[i-1] / h[i]) * h[i-1]\n",
        "        c[i] = (h[i-1] / h[i]) * (h[i-1] / h[i]) * h[i-1]\n",
        "        d[i] = (h[i-1] / h[i]) * h[i-1]\n",
        "\n",
        "    y_new = [0] * len(x_new)\n",
        "    for i in range(len(x_new)):\n",
        "        for j in range(n):\n",
        "            if x_new[i] >= x[j] and x_new[i] <= x[j+1]:\n",
        "                y_new[i] = y[j] + a[j] * (x_new[i] - x[j])**3 + b[j] * (x_new[i] - x[j])**2 + c[j] * (x_new[i] - x[j]) + d[j]\n",
        "    return y_new\n",
        "\n",
        "# Example usage\n",
        "x = np.array([0, 1, 2, 3, 4])\n",
        "y = np.array([0, 1, 4, 9, 16])\n",
        "x_new = np.array([0.5, 1.5, 2.5, 3.5, 4.5])\n",
        "y_new = clamped_spline_interpolation(x, y, x_new)\n",
        "print(\"Interpolated values:\", y_new)"
      ],
      "metadata": {
        "colab": {
          "base_uri": "https://localhost:8080/"
        },
        "id": "2eMuSuS4UG1X",
        "outputId": "12b2196b-91a1-4e4f-c623-62fb1cb96e6e"
      },
      "execution_count": 37,
      "outputs": [
        {
          "output_type": "stream",
          "name": "stdout",
          "text": [
            "Interpolated values: [1.7708333333333333, 2.770833333333333, 5.770833333333333, 10.770833333333334, 0]\n"
          ]
        }
      ]
    },
    {
      "cell_type": "markdown",
      "source": [
        "# Polynomial interpolation"
      ],
      "metadata": {
        "id": "Z8d76SAXUMbZ"
      }
    },
    {
      "cell_type": "code",
      "source": [
        "import numpy as np\n",
        "\n",
        "def polynomial_interpolation(x, y, x_new):\n",
        "    n = len(x)\n",
        "    p = np.poly1d([0] * (n+1))\n",
        "    for i in range(n):\n",
        "        p = p + (y[i] * np.poly1d([1] + [0] * i + [x[i]**j for j in range(i+1)]))\n",
        "    y_new = p(x_new)\n",
        "    return y_new\n",
        "\n",
        "# Example usage\n",
        "x = np.array([0, 1, 2, 3, 4])\n",
        "y = np.array([0, 1, 4, 9, 16])\n",
        "x_new = np.array([0.5, 1.5, 2.5, 3.5, 4.5])\n",
        "y_new = polynomial_interpolation(x, y, x_new)\n",
        "print(\"Interpolated values:\", y_new)"
      ],
      "metadata": {
        "colab": {
          "base_uri": "https://localhost:8080/"
        },
        "id": "eYUBWLDeUP5q",
        "outputId": "5f3f3763-56f0-4b2d-d2de-81e2b4cba184"
      },
      "execution_count": 38,
      "outputs": [
        {
          "output_type": "stream",
          "name": "stdout",
          "text": [
            "Interpolated values: [4.99522656e+03 7.80274219e+03 7.76349453e+04 1.33840096e+06\n",
            " 1.24790589e+07]\n"
          ]
        }
      ]
    },
    {
      "cell_type": "markdown",
      "source": [
        "# Large interpolation"
      ],
      "metadata": {
        "id": "eF2okHYSUTQD"
      }
    },
    {
      "cell_type": "code",
      "source": [
        "import numpy as np\n",
        "\n",
        "def large_interpolation(x, y, x_new):\n",
        "    n = len(x)\n",
        "    h = [x[i+1] - x[i] for i in range(n-1)]\n",
        "    a = [0] * (n-1)\n",
        "    b = [0] * (n-1)\n",
        "    c = [0] * (n-1)\n",
        "    d = [0] * (n-1)\n",
        "\n",
        "    for i in range(n-1):\n",
        "        a[i] = h[i] / (6 * h[i-1] * h[i-1] * h[i])\n",
        "        b[i] = (h[i-1] / h[i]) * (h[i-1] / h[i]) * (h[i-1] / h[i]) * h[i-1]\n",
        "        c[i] = (h[i-1] / h[i]) * (h[i-1] / h[i]) * h[i-1]\n",
        "        d[i] = (h[i-1] / h[i]) * h[i-1]\n",
        "\n",
        "    y_new = [0] * len(x_new)\n",
        "    for i in range(len(x_new)):\n",
        "        for j in range(n-1):\n",
        "            if x_new[i] >= x[j] and x_new[i] <= x[j+1]:\n",
        "                y_new[i] = y[j] + a[j] * (x_new[i] - x[j])**3 + b[j] * (x_new[i] - x[j])**2 + c[j] * (x_new[i] - x[j]) + d[j]\n",
        "    return y_new\n",
        "\n",
        "# Example usage\n",
        "x = np.array([0, 1, 2, 3, 4, 5, 6, 7, 8, 9])\n",
        "y = np.array([0, 1, 4, 9, 16, 25, 36, 49, 64, 81])\n",
        "x_new = np.array([0.5, 1.5, 2.5, 3.5, 4.5, 5.5, 6.5, 7.5, 8.5, 9.5])\n",
        "y_new = large_interpolation(x, y, x_new)\n",
        "print(\"Interpolated values:\", y_new)"
      ],
      "metadata": {
        "colab": {
          "base_uri": "https://localhost:8080/"
        },
        "id": "BELP73oRUVlz",
        "outputId": "38a88dab-4a96-45e0-b319-3d6c23da555d"
      },
      "execution_count": 39,
      "outputs": [
        {
          "output_type": "stream",
          "name": "stdout",
          "text": [
            "Interpolated values: [1.7708333333333333, 2.770833333333333, 5.770833333333333, 10.770833333333334, 17.770833333333332, 26.770833333333332, 37.770833333333336, 50.770833333333336, 65.77083333333333, 0]\n"
          ]
        }
      ]
    },
    {
      "cell_type": "markdown",
      "source": [
        "# Piecewise interpolation"
      ],
      "metadata": {
        "id": "ziBdFo6GUX3c"
      }
    },
    {
      "cell_type": "code",
      "source": [
        "import numpy as np\n",
        "\n",
        "def piecewise_interpolation(x, y, x_new):\n",
        "    n = len(x)\n",
        "    y_new = [0] * len(x_new)\n",
        "    for i in range(len(x_new)):\n",
        "        for j in range(n-1):\n",
        "            if x_new[i] >= x[j] and x_new[i] <= x[j+1]:\n",
        "                y_new[i] = y[j] + (y[j+1] - y[j]) * (x_new[i] - x[j]) / (x[j+1] - x[j])\n",
        "    return y_new\n",
        "\n",
        "# Example usage\n",
        "x = np.array([0, 1, 2, 3, 4])\n",
        "y = np.array([0, 1, 4, 9, 16])\n",
        "x_new = np.array([0.5, 1.5, 2.5, 3.5, 4.5])\n",
        "y_new = piecewise_interpolation(x, y, x_new)\n",
        "print(\"Interpolated values:\", y_new)"
      ],
      "metadata": {
        "colab": {
          "base_uri": "https://localhost:8080/"
        },
        "id": "Z_LNDnLKUXlv",
        "outputId": "c799788a-1dab-448a-e761-b993bf8f3cb4"
      },
      "execution_count": 40,
      "outputs": [
        {
          "output_type": "stream",
          "name": "stdout",
          "text": [
            "Interpolated values: [0.5, 2.5, 6.5, 12.5, 0]\n"
          ]
        }
      ]
    },
    {
      "cell_type": "markdown",
      "source": [
        "# Integration method"
      ],
      "metadata": {
        "id": "c2ZBq45mUiZj"
      }
    },
    {
      "cell_type": "code",
      "source": [
        "import numpy as np\n",
        "\n",
        "# Define the function to integrate\n",
        "def f(x):\n",
        "    return x**2 + 2*x + 1\n",
        "\n",
        "# Define the integration methods\n",
        "\n",
        "# 1. Midpoint Rule\n",
        "def midpoint_rule(a, b, n):\n",
        "    h = (b - a) / n\n",
        "    x = np.linspace(a, b, n+1)\n",
        "    y = f(x)\n",
        "    integral = h * np.sum(y[1:n])\n",
        "    return integral\n",
        "\n",
        "# 2. Trapezoidal Rule\n",
        "def trapezoidal_rule(a, b, n):\n",
        "    h = (b - a) / n\n",
        "    x = np.linspace(a, b, n+1)\n",
        "    y = f(x)\n",
        "    integral = h * (0.5 * (y[0] + y[-1]) + np.sum(y[1:-1]))\n",
        "    return integral\n",
        "\n",
        "# 3. Simpson's Rule\n",
        "def simpson_rule(a, b, n):\n",
        "    h = (b - a) / n\n",
        "    x = np.linspace(a, b, n+1)\n",
        "    y = f(x)\n",
        "    integral = h * (y[0] + y[-1] + 4 * np.sum(y[1:-1:2]) + 2 * np.sum(y[2:-1:2]))\n",
        "    return integral\n",
        "\n",
        "# 4. Adaptive Integration\n",
        "def adaptive_integration(a, b, tol=1e-6):\n",
        "    n = 1\n",
        "    h = (b - a) / n\n",
        "    x = np.linspace(a, b, n+1)\n",
        "    y = f(x)\n",
        "    integral = h * np.sum(y)\n",
        "    error = np.abs(integral)\n",
        "    while error > tol:\n",
        "        n *= 2\n",
        "        h = (b - a) / n\n",
        "        x = np.linspace(a, b, n+1)\n",
        "        y = f(x)\n",
        "        integral_new = h * np.sum(y)\n",
        "        error = np.abs(integral_new - integral)\n",
        "        integral = integral_new\n",
        "    return integral\n",
        "\n",
        "# 5. Adaptive Simpson's Rule\n",
        "def adaptive_simpson_rule(a, b, tol=1e-6):\n",
        "    n = 1\n",
        "    h = (b - a) / n\n",
        "    x = np.linspace(a, b, n+1)\n",
        "    y = f(x)\n",
        "    integral = h * (y[0] + y[-1] + 4 * np.sum(y[1:-1:2]) + 2 * np.sum(y[2:-1:2]))\n",
        "    error = np.abs(integral)\n",
        "    while error > tol:\n",
        "        n *= 2\n",
        "        h = (b - a) / n\n",
        "        x = np.linspace(a, b, n+1)\n",
        "        y = f(x)\n",
        "        integral_new = h * (y[0] + y[-1] + 4 * np.sum(y[1:-1:2]) + 2 * np.sum(y[2:-1:2]))\n",
        "        error = np.abs(integral_new - integral)\n",
        "        integral = integral_new\n",
        "    return integral\n",
        "\n",
        "# Test the integration methods\n",
        "a = 0\n",
        "b = 1\n",
        "n = 100\n",
        "\n",
        "print(\"Midpoint Rule:\", midpoint_rule(a, b, n))\n",
        "print(\"Trapezoidal Rule:\", trapezoidal_rule(a, b, n))\n",
        "print(\"Simpson's Rule:\", simpson_rule(a, b, n))\n",
        "print(\"Adaptive Integration:\", adaptive_integration(a, b))\n",
        "print(\"Adaptive Simpson's Rule:\", adaptive_simpson_rule(a, b))"
      ],
      "metadata": {
        "colab": {
          "base_uri": "https://localhost:8080/"
        },
        "id": "l5wmZupPWpUd",
        "outputId": "88b30178-fc4d-43cc-badd-733d88f27bac"
      },
      "execution_count": 41,
      "outputs": [
        {
          "output_type": "stream",
          "name": "stdout",
          "text": [
            "Midpoint Rule: 2.3083500000000003\n",
            "Trapezoidal Rule: 2.3333500000000003\n",
            "Simpson's Rule: 7.0\n",
            "Adaptive Integration: 2.333333929379799\n",
            "Adaptive Simpson's Rule: 7.0\n"
          ]
        }
      ]
    },
    {
      "cell_type": "markdown",
      "source": [
        "# Differentation method"
      ],
      "metadata": {
        "id": "DRDc_Br2Ww6C"
      }
    },
    {
      "cell_type": "code",
      "source": [
        "import numpy as np\n",
        "\n",
        "# Define the function to differentiate\n",
        "def f(x):\n",
        "    return x**2 + 2*x + 1\n",
        "\n",
        "# Define the function to differentiate\n",
        "def f_prime(x):\n",
        "    return 2*x + 2\n",
        "\n",
        "# Define the differentiation methods\n",
        "\n",
        "# 1. Numerical Differentiation\n",
        "def numerical_differentiation(x, h=1e-6):\n",
        "    return (f(x+h) - f(x-h)) / (2*h)\n",
        "\n",
        "# 2. IVP (Initial Value Problem)\n",
        "def ivp(y0, x0, h=1e-6):\n",
        "    y = np.zeros((len(x0), len(y0)))\n",
        "    y[0] = y0\n",
        "    for i in range(1, len(x0)):\n",
        "        y[i] = y[i-1] + h * f_prime(x0[i-1])\n",
        "    return y\n",
        "\n",
        "# 3. Euler's Method\n",
        "def euler_method(y0, x0, h=1e-6):\n",
        "    y = np.zeros((len(x0), len(y0)))\n",
        "    y[0] = y0\n",
        "    for i in range(1, len(x0)):\n",
        "        y[i] = y[i-1] + h * f_prime(x0[i-1])\n",
        "    return y\n",
        "\n",
        "# 4. Multistep Method\n",
        "def multistep_method(y0, x0, h=1e-6):\n",
        "    y = np.zeros((len(x0), len(y0)))\n",
        "    y[0] = y0\n",
        "    for i in range(1, len(x0)):\n",
        "        y[i] = y[i-1] + h * f_prime(x0[i-1])\n",
        "    return y\n",
        "\n",
        "# 5. Runge-Kutta Method (RK2)\n",
        "def runge_kutta_method(y0, x0, h=1e-6):\n",
        "    y = np.zeros((len(x0), len(y0)))\n",
        "    y[0] = y0\n",
        "    for i in range(1, len(x0)):\n",
        "        k1 = h * f_prime(x0[i-1])\n",
        "        k2 = h * f_prime(x0[i-1] + h/2)\n",
        "        y[i] = y[i-1] + (k1 + k2) / 2\n",
        "    return y\n",
        "\n",
        "# 6. Runge-Kutta Method (RK4)\n",
        "def runge_kutta_method_rk4(y0, x0, h=1e-6):\n",
        "    y = np.zeros((len(x0), len(y0)))\n",
        "    y[0] = y0\n",
        "    for i in range(1, len(x0)):\n",
        "        k1 = h * f_prime(x0[i-1])\n",
        "        k2 = h * f_prime(x0[i-1] + h/2)\n",
        "        k3 = h * f_prime(x0[i-1] + h/2)\n",
        "        k4 = h * f_prime(x0[i-1] + h)\n",
        "        y[i] = y[i-1] + (k1 + 2*k2 + 2*k3 + k4) / 6\n",
        "    return y\n",
        "\n",
        "# Test the differentiation methods\n",
        "x = np.linspace(0, 1, 100)\n",
        "y0 = np.array([1, 2])\n",
        "\n",
        "print(\"Numerical Differentiation:\", numerical_differentiation(0.5))\n",
        "print(\"IVP:\", ivp(y0, x))\n",
        "print(\"Euler's Method:\", euler_method(y0, x))\n",
        "print(\"Multistep Method:\", multistep_method(y0, x))\n",
        "print(\"Runge-Kutta Method (RK2):\", runge_kutta_method(y0, x))\n",
        "print(\"Runge-Kutta Method (RK4):\", runge_kutta_method_rk4(y0, x))"
      ],
      "metadata": {
        "colab": {
          "base_uri": "https://localhost:8080/"
        },
        "id": "_meus4lfXV6I",
        "outputId": "cae95aae-6aef-4115-8955-a04aad1f8c23"
      },
      "execution_count": 44,
      "outputs": [
        {
          "output_type": "stream",
          "name": "stdout",
          "text": [
            "Numerical Differentiation: 2.9999999999752447\n",
            "IVP: [[1.         2.        ]\n",
            " [1.000002   2.000002  ]\n",
            " [1.00000402 2.00000402]\n",
            " [1.00000606 2.00000606]\n",
            " [1.00000812 2.00000812]\n",
            " [1.0000102  2.0000102 ]\n",
            " [1.0000123  2.0000123 ]\n",
            " [1.00001442 2.00001442]\n",
            " [1.00001657 2.00001657]\n",
            " [1.00001873 2.00001873]\n",
            " [1.00002091 2.00002091]\n",
            " [1.00002311 2.00002311]\n",
            " [1.00002533 2.00002533]\n",
            " [1.00002758 2.00002758]\n",
            " [1.00002984 2.00002984]\n",
            " [1.00003212 2.00003212]\n",
            " [1.00003442 2.00003442]\n",
            " [1.00003675 2.00003675]\n",
            " [1.00003909 2.00003909]\n",
            " [1.00004145 2.00004145]\n",
            " [1.00004384 2.00004384]\n",
            " [1.00004624 2.00004624]\n",
            " [1.00004867 2.00004867]\n",
            " [1.00005111 2.00005111]\n",
            " [1.00005358 2.00005358]\n",
            " [1.00005606 2.00005606]\n",
            " [1.00005857 2.00005857]\n",
            " [1.00006109 2.00006109]\n",
            " [1.00006364 2.00006364]\n",
            " [1.0000662  2.0000662 ]\n",
            " [1.00006879 2.00006879]\n",
            " [1.00007139 2.00007139]\n",
            " [1.00007402 2.00007402]\n",
            " [1.00007667 2.00007667]\n",
            " [1.00007933 2.00007933]\n",
            " [1.00008202 2.00008202]\n",
            " [1.00008473 2.00008473]\n",
            " [1.00008745 2.00008745]\n",
            " [1.0000902  2.0000902 ]\n",
            " [1.00009297 2.00009297]\n",
            " [1.00009576 2.00009576]\n",
            " [1.00009857 2.00009857]\n",
            " [1.00010139 2.00010139]\n",
            " [1.00010424 2.00010424]\n",
            " [1.00010711 2.00010711]\n",
            " [1.00011    2.00011   ]\n",
            " [1.00011291 2.00011291]\n",
            " [1.00011584 2.00011584]\n",
            " [1.00011879 2.00011879]\n",
            " [1.00012176 2.00012176]\n",
            " [1.00012475 2.00012475]\n",
            " [1.00012776 2.00012776]\n",
            " [1.00013079 2.00013079]\n",
            " [1.00013384 2.00013384]\n",
            " [1.00013691 2.00013691]\n",
            " [1.00014    2.00014   ]\n",
            " [1.00014311 2.00014311]\n",
            " [1.00014624 2.00014624]\n",
            " [1.00014939 2.00014939]\n",
            " [1.00015257 2.00015257]\n",
            " [1.00015576 2.00015576]\n",
            " [1.00015897 2.00015897]\n",
            " [1.0001622  2.0001622 ]\n",
            " [1.00016545 2.00016545]\n",
            " [1.00016873 2.00016873]\n",
            " [1.00017202 2.00017202]\n",
            " [1.00017533 2.00017533]\n",
            " [1.00017867 2.00017867]\n",
            " [1.00018202 2.00018202]\n",
            " [1.00018539 2.00018539]\n",
            " [1.00018879 2.00018879]\n",
            " [1.0001922  2.0001922 ]\n",
            " [1.00019564 2.00019564]\n",
            " [1.00019909 2.00019909]\n",
            " [1.00020257 2.00020257]\n",
            " [1.00020606 2.00020606]\n",
            " [1.00020958 2.00020958]\n",
            " [1.00021311 2.00021311]\n",
            " [1.00021667 2.00021667]\n",
            " [1.00022024 2.00022024]\n",
            " [1.00022384 2.00022384]\n",
            " [1.00022745 2.00022745]\n",
            " [1.00023109 2.00023109]\n",
            " [1.00023475 2.00023475]\n",
            " [1.00023842 2.00023842]\n",
            " [1.00024212 2.00024212]\n",
            " [1.00024584 2.00024584]\n",
            " [1.00024958 2.00024958]\n",
            " [1.00025333 2.00025333]\n",
            " [1.00025711 2.00025711]\n",
            " [1.00026091 2.00026091]\n",
            " [1.00026473 2.00026473]\n",
            " [1.00026857 2.00026857]\n",
            " [1.00027242 2.00027242]\n",
            " [1.0002763  2.0002763 ]\n",
            " [1.0002802  2.0002802 ]\n",
            " [1.00028412 2.00028412]\n",
            " [1.00028806 2.00028806]\n",
            " [1.00029202 2.00029202]\n",
            " [1.000296   2.000296  ]]\n",
            "Euler's Method: [[1.         2.        ]\n",
            " [1.000002   2.000002  ]\n",
            " [1.00000402 2.00000402]\n",
            " [1.00000606 2.00000606]\n",
            " [1.00000812 2.00000812]\n",
            " [1.0000102  2.0000102 ]\n",
            " [1.0000123  2.0000123 ]\n",
            " [1.00001442 2.00001442]\n",
            " [1.00001657 2.00001657]\n",
            " [1.00001873 2.00001873]\n",
            " [1.00002091 2.00002091]\n",
            " [1.00002311 2.00002311]\n",
            " [1.00002533 2.00002533]\n",
            " [1.00002758 2.00002758]\n",
            " [1.00002984 2.00002984]\n",
            " [1.00003212 2.00003212]\n",
            " [1.00003442 2.00003442]\n",
            " [1.00003675 2.00003675]\n",
            " [1.00003909 2.00003909]\n",
            " [1.00004145 2.00004145]\n",
            " [1.00004384 2.00004384]\n",
            " [1.00004624 2.00004624]\n",
            " [1.00004867 2.00004867]\n",
            " [1.00005111 2.00005111]\n",
            " [1.00005358 2.00005358]\n",
            " [1.00005606 2.00005606]\n",
            " [1.00005857 2.00005857]\n",
            " [1.00006109 2.00006109]\n",
            " [1.00006364 2.00006364]\n",
            " [1.0000662  2.0000662 ]\n",
            " [1.00006879 2.00006879]\n",
            " [1.00007139 2.00007139]\n",
            " [1.00007402 2.00007402]\n",
            " [1.00007667 2.00007667]\n",
            " [1.00007933 2.00007933]\n",
            " [1.00008202 2.00008202]\n",
            " [1.00008473 2.00008473]\n",
            " [1.00008745 2.00008745]\n",
            " [1.0000902  2.0000902 ]\n",
            " [1.00009297 2.00009297]\n",
            " [1.00009576 2.00009576]\n",
            " [1.00009857 2.00009857]\n",
            " [1.00010139 2.00010139]\n",
            " [1.00010424 2.00010424]\n",
            " [1.00010711 2.00010711]\n",
            " [1.00011    2.00011   ]\n",
            " [1.00011291 2.00011291]\n",
            " [1.00011584 2.00011584]\n",
            " [1.00011879 2.00011879]\n",
            " [1.00012176 2.00012176]\n",
            " [1.00012475 2.00012475]\n",
            " [1.00012776 2.00012776]\n",
            " [1.00013079 2.00013079]\n",
            " [1.00013384 2.00013384]\n",
            " [1.00013691 2.00013691]\n",
            " [1.00014    2.00014   ]\n",
            " [1.00014311 2.00014311]\n",
            " [1.00014624 2.00014624]\n",
            " [1.00014939 2.00014939]\n",
            " [1.00015257 2.00015257]\n",
            " [1.00015576 2.00015576]\n",
            " [1.00015897 2.00015897]\n",
            " [1.0001622  2.0001622 ]\n",
            " [1.00016545 2.00016545]\n",
            " [1.00016873 2.00016873]\n",
            " [1.00017202 2.00017202]\n",
            " [1.00017533 2.00017533]\n",
            " [1.00017867 2.00017867]\n",
            " [1.00018202 2.00018202]\n",
            " [1.00018539 2.00018539]\n",
            " [1.00018879 2.00018879]\n",
            " [1.0001922  2.0001922 ]\n",
            " [1.00019564 2.00019564]\n",
            " [1.00019909 2.00019909]\n",
            " [1.00020257 2.00020257]\n",
            " [1.00020606 2.00020606]\n",
            " [1.00020958 2.00020958]\n",
            " [1.00021311 2.00021311]\n",
            " [1.00021667 2.00021667]\n",
            " [1.00022024 2.00022024]\n",
            " [1.00022384 2.00022384]\n",
            " [1.00022745 2.00022745]\n",
            " [1.00023109 2.00023109]\n",
            " [1.00023475 2.00023475]\n",
            " [1.00023842 2.00023842]\n",
            " [1.00024212 2.00024212]\n",
            " [1.00024584 2.00024584]\n",
            " [1.00024958 2.00024958]\n",
            " [1.00025333 2.00025333]\n",
            " [1.00025711 2.00025711]\n",
            " [1.00026091 2.00026091]\n",
            " [1.00026473 2.00026473]\n",
            " [1.00026857 2.00026857]\n",
            " [1.00027242 2.00027242]\n",
            " [1.0002763  2.0002763 ]\n",
            " [1.0002802  2.0002802 ]\n",
            " [1.00028412 2.00028412]\n",
            " [1.00028806 2.00028806]\n",
            " [1.00029202 2.00029202]\n",
            " [1.000296   2.000296  ]]\n",
            "Multistep Method: [[1.         2.        ]\n",
            " [1.000002   2.000002  ]\n",
            " [1.00000402 2.00000402]\n",
            " [1.00000606 2.00000606]\n",
            " [1.00000812 2.00000812]\n",
            " [1.0000102  2.0000102 ]\n",
            " [1.0000123  2.0000123 ]\n",
            " [1.00001442 2.00001442]\n",
            " [1.00001657 2.00001657]\n",
            " [1.00001873 2.00001873]\n",
            " [1.00002091 2.00002091]\n",
            " [1.00002311 2.00002311]\n",
            " [1.00002533 2.00002533]\n",
            " [1.00002758 2.00002758]\n",
            " [1.00002984 2.00002984]\n",
            " [1.00003212 2.00003212]\n",
            " [1.00003442 2.00003442]\n",
            " [1.00003675 2.00003675]\n",
            " [1.00003909 2.00003909]\n",
            " [1.00004145 2.00004145]\n",
            " [1.00004384 2.00004384]\n",
            " [1.00004624 2.00004624]\n",
            " [1.00004867 2.00004867]\n",
            " [1.00005111 2.00005111]\n",
            " [1.00005358 2.00005358]\n",
            " [1.00005606 2.00005606]\n",
            " [1.00005857 2.00005857]\n",
            " [1.00006109 2.00006109]\n",
            " [1.00006364 2.00006364]\n",
            " [1.0000662  2.0000662 ]\n",
            " [1.00006879 2.00006879]\n",
            " [1.00007139 2.00007139]\n",
            " [1.00007402 2.00007402]\n",
            " [1.00007667 2.00007667]\n",
            " [1.00007933 2.00007933]\n",
            " [1.00008202 2.00008202]\n",
            " [1.00008473 2.00008473]\n",
            " [1.00008745 2.00008745]\n",
            " [1.0000902  2.0000902 ]\n",
            " [1.00009297 2.00009297]\n",
            " [1.00009576 2.00009576]\n",
            " [1.00009857 2.00009857]\n",
            " [1.00010139 2.00010139]\n",
            " [1.00010424 2.00010424]\n",
            " [1.00010711 2.00010711]\n",
            " [1.00011    2.00011   ]\n",
            " [1.00011291 2.00011291]\n",
            " [1.00011584 2.00011584]\n",
            " [1.00011879 2.00011879]\n",
            " [1.00012176 2.00012176]\n",
            " [1.00012475 2.00012475]\n",
            " [1.00012776 2.00012776]\n",
            " [1.00013079 2.00013079]\n",
            " [1.00013384 2.00013384]\n",
            " [1.00013691 2.00013691]\n",
            " [1.00014    2.00014   ]\n",
            " [1.00014311 2.00014311]\n",
            " [1.00014624 2.00014624]\n",
            " [1.00014939 2.00014939]\n",
            " [1.00015257 2.00015257]\n",
            " [1.00015576 2.00015576]\n",
            " [1.00015897 2.00015897]\n",
            " [1.0001622  2.0001622 ]\n",
            " [1.00016545 2.00016545]\n",
            " [1.00016873 2.00016873]\n",
            " [1.00017202 2.00017202]\n",
            " [1.00017533 2.00017533]\n",
            " [1.00017867 2.00017867]\n",
            " [1.00018202 2.00018202]\n",
            " [1.00018539 2.00018539]\n",
            " [1.00018879 2.00018879]\n",
            " [1.0001922  2.0001922 ]\n",
            " [1.00019564 2.00019564]\n",
            " [1.00019909 2.00019909]\n",
            " [1.00020257 2.00020257]\n",
            " [1.00020606 2.00020606]\n",
            " [1.00020958 2.00020958]\n",
            " [1.00021311 2.00021311]\n",
            " [1.00021667 2.00021667]\n",
            " [1.00022024 2.00022024]\n",
            " [1.00022384 2.00022384]\n",
            " [1.00022745 2.00022745]\n",
            " [1.00023109 2.00023109]\n",
            " [1.00023475 2.00023475]\n",
            " [1.00023842 2.00023842]\n",
            " [1.00024212 2.00024212]\n",
            " [1.00024584 2.00024584]\n",
            " [1.00024958 2.00024958]\n",
            " [1.00025333 2.00025333]\n",
            " [1.00025711 2.00025711]\n",
            " [1.00026091 2.00026091]\n",
            " [1.00026473 2.00026473]\n",
            " [1.00026857 2.00026857]\n",
            " [1.00027242 2.00027242]\n",
            " [1.0002763  2.0002763 ]\n",
            " [1.0002802  2.0002802 ]\n",
            " [1.00028412 2.00028412]\n",
            " [1.00028806 2.00028806]\n",
            " [1.00029202 2.00029202]\n",
            " [1.000296   2.000296  ]]\n",
            "Runge-Kutta Method (RK2): [[1.         2.        ]\n",
            " [1.000002   2.000002  ]\n",
            " [1.00000402 2.00000402]\n",
            " [1.00000606 2.00000606]\n",
            " [1.00000812 2.00000812]\n",
            " [1.0000102  2.0000102 ]\n",
            " [1.0000123  2.0000123 ]\n",
            " [1.00001442 2.00001442]\n",
            " [1.00001657 2.00001657]\n",
            " [1.00001873 2.00001873]\n",
            " [1.00002091 2.00002091]\n",
            " [1.00002311 2.00002311]\n",
            " [1.00002533 2.00002533]\n",
            " [1.00002758 2.00002758]\n",
            " [1.00002984 2.00002984]\n",
            " [1.00003212 2.00003212]\n",
            " [1.00003442 2.00003442]\n",
            " [1.00003675 2.00003675]\n",
            " [1.00003909 2.00003909]\n",
            " [1.00004145 2.00004145]\n",
            " [1.00004384 2.00004384]\n",
            " [1.00004624 2.00004624]\n",
            " [1.00004867 2.00004867]\n",
            " [1.00005111 2.00005111]\n",
            " [1.00005358 2.00005358]\n",
            " [1.00005606 2.00005606]\n",
            " [1.00005857 2.00005857]\n",
            " [1.00006109 2.00006109]\n",
            " [1.00006364 2.00006364]\n",
            " [1.0000662  2.0000662 ]\n",
            " [1.00006879 2.00006879]\n",
            " [1.00007139 2.00007139]\n",
            " [1.00007402 2.00007402]\n",
            " [1.00007667 2.00007667]\n",
            " [1.00007933 2.00007933]\n",
            " [1.00008202 2.00008202]\n",
            " [1.00008473 2.00008473]\n",
            " [1.00008745 2.00008745]\n",
            " [1.0000902  2.0000902 ]\n",
            " [1.00009297 2.00009297]\n",
            " [1.00009576 2.00009576]\n",
            " [1.00009857 2.00009857]\n",
            " [1.00010139 2.00010139]\n",
            " [1.00010424 2.00010424]\n",
            " [1.00010711 2.00010711]\n",
            " [1.00011    2.00011   ]\n",
            " [1.00011291 2.00011291]\n",
            " [1.00011584 2.00011584]\n",
            " [1.00011879 2.00011879]\n",
            " [1.00012176 2.00012176]\n",
            " [1.00012475 2.00012475]\n",
            " [1.00012776 2.00012776]\n",
            " [1.00013079 2.00013079]\n",
            " [1.00013384 2.00013384]\n",
            " [1.00013691 2.00013691]\n",
            " [1.00014    2.00014   ]\n",
            " [1.00014311 2.00014311]\n",
            " [1.00014624 2.00014624]\n",
            " [1.00014939 2.00014939]\n",
            " [1.00015257 2.00015257]\n",
            " [1.00015576 2.00015576]\n",
            " [1.00015897 2.00015897]\n",
            " [1.0001622  2.0001622 ]\n",
            " [1.00016545 2.00016545]\n",
            " [1.00016873 2.00016873]\n",
            " [1.00017202 2.00017202]\n",
            " [1.00017533 2.00017533]\n",
            " [1.00017867 2.00017867]\n",
            " [1.00018202 2.00018202]\n",
            " [1.00018539 2.00018539]\n",
            " [1.00018879 2.00018879]\n",
            " [1.0001922  2.0001922 ]\n",
            " [1.00019564 2.00019564]\n",
            " [1.00019909 2.00019909]\n",
            " [1.00020257 2.00020257]\n",
            " [1.00020606 2.00020606]\n",
            " [1.00020958 2.00020958]\n",
            " [1.00021311 2.00021311]\n",
            " [1.00021667 2.00021667]\n",
            " [1.00022024 2.00022024]\n",
            " [1.00022384 2.00022384]\n",
            " [1.00022745 2.00022745]\n",
            " [1.00023109 2.00023109]\n",
            " [1.00023475 2.00023475]\n",
            " [1.00023842 2.00023842]\n",
            " [1.00024212 2.00024212]\n",
            " [1.00024584 2.00024584]\n",
            " [1.00024958 2.00024958]\n",
            " [1.00025333 2.00025333]\n",
            " [1.00025711 2.00025711]\n",
            " [1.00026091 2.00026091]\n",
            " [1.00026473 2.00026473]\n",
            " [1.00026857 2.00026857]\n",
            " [1.00027242 2.00027242]\n",
            " [1.0002763  2.0002763 ]\n",
            " [1.0002802  2.0002802 ]\n",
            " [1.00028412 2.00028412]\n",
            " [1.00028806 2.00028806]\n",
            " [1.00029202 2.00029202]\n",
            " [1.000296   2.000296  ]]\n",
            "Runge-Kutta Method (RK4): [[1.         2.        ]\n",
            " [1.000002   2.000002  ]\n",
            " [1.00000402 2.00000402]\n",
            " [1.00000606 2.00000606]\n",
            " [1.00000812 2.00000812]\n",
            " [1.0000102  2.0000102 ]\n",
            " [1.0000123  2.0000123 ]\n",
            " [1.00001442 2.00001442]\n",
            " [1.00001657 2.00001657]\n",
            " [1.00001873 2.00001873]\n",
            " [1.00002091 2.00002091]\n",
            " [1.00002311 2.00002311]\n",
            " [1.00002533 2.00002533]\n",
            " [1.00002758 2.00002758]\n",
            " [1.00002984 2.00002984]\n",
            " [1.00003212 2.00003212]\n",
            " [1.00003442 2.00003442]\n",
            " [1.00003675 2.00003675]\n",
            " [1.00003909 2.00003909]\n",
            " [1.00004145 2.00004145]\n",
            " [1.00004384 2.00004384]\n",
            " [1.00004624 2.00004624]\n",
            " [1.00004867 2.00004867]\n",
            " [1.00005111 2.00005111]\n",
            " [1.00005358 2.00005358]\n",
            " [1.00005606 2.00005606]\n",
            " [1.00005857 2.00005857]\n",
            " [1.00006109 2.00006109]\n",
            " [1.00006364 2.00006364]\n",
            " [1.0000662  2.0000662 ]\n",
            " [1.00006879 2.00006879]\n",
            " [1.00007139 2.00007139]\n",
            " [1.00007402 2.00007402]\n",
            " [1.00007667 2.00007667]\n",
            " [1.00007933 2.00007933]\n",
            " [1.00008202 2.00008202]\n",
            " [1.00008473 2.00008473]\n",
            " [1.00008745 2.00008745]\n",
            " [1.0000902  2.0000902 ]\n",
            " [1.00009297 2.00009297]\n",
            " [1.00009576 2.00009576]\n",
            " [1.00009857 2.00009857]\n",
            " [1.00010139 2.00010139]\n",
            " [1.00010424 2.00010424]\n",
            " [1.00010711 2.00010711]\n",
            " [1.00011    2.00011   ]\n",
            " [1.00011291 2.00011291]\n",
            " [1.00011584 2.00011584]\n",
            " [1.00011879 2.00011879]\n",
            " [1.00012176 2.00012176]\n",
            " [1.00012475 2.00012475]\n",
            " [1.00012776 2.00012776]\n",
            " [1.00013079 2.00013079]\n",
            " [1.00013384 2.00013384]\n",
            " [1.00013691 2.00013691]\n",
            " [1.00014    2.00014   ]\n",
            " [1.00014311 2.00014311]\n",
            " [1.00014624 2.00014624]\n",
            " [1.00014939 2.00014939]\n",
            " [1.00015257 2.00015257]\n",
            " [1.00015576 2.00015576]\n",
            " [1.00015897 2.00015897]\n",
            " [1.0001622  2.0001622 ]\n",
            " [1.00016545 2.00016545]\n",
            " [1.00016873 2.00016873]\n",
            " [1.00017202 2.00017202]\n",
            " [1.00017533 2.00017533]\n",
            " [1.00017867 2.00017867]\n",
            " [1.00018202 2.00018202]\n",
            " [1.00018539 2.00018539]\n",
            " [1.00018879 2.00018879]\n",
            " [1.0001922  2.0001922 ]\n",
            " [1.00019564 2.00019564]\n",
            " [1.00019909 2.00019909]\n",
            " [1.00020257 2.00020257]\n",
            " [1.00020606 2.00020606]\n",
            " [1.00020958 2.00020958]\n",
            " [1.00021311 2.00021311]\n",
            " [1.00021667 2.00021667]\n",
            " [1.00022024 2.00022024]\n",
            " [1.00022384 2.00022384]\n",
            " [1.00022745 2.00022745]\n",
            " [1.00023109 2.00023109]\n",
            " [1.00023475 2.00023475]\n",
            " [1.00023842 2.00023842]\n",
            " [1.00024212 2.00024212]\n",
            " [1.00024584 2.00024584]\n",
            " [1.00024958 2.00024958]\n",
            " [1.00025333 2.00025333]\n",
            " [1.00025711 2.00025711]\n",
            " [1.00026091 2.00026091]\n",
            " [1.00026473 2.00026473]\n",
            " [1.00026857 2.00026857]\n",
            " [1.00027242 2.00027242]\n",
            " [1.0002763  2.0002763 ]\n",
            " [1.0002802  2.0002802 ]\n",
            " [1.00028412 2.00028412]\n",
            " [1.00028806 2.00028806]\n",
            " [1.00029202 2.00029202]\n",
            " [1.000296   2.000296  ]]\n"
          ]
        }
      ]
    },
    {
      "cell_type": "markdown",
      "source": [
        "# Optimization"
      ],
      "metadata": {
        "id": "b4WtG3D1XY1F"
      }
    },
    {
      "cell_type": "code",
      "source": [
        "import numpy as np\n",
        "from scipy.optimize import minimize, minimize_scalar, curve_fit, newton\n",
        "from scipy.optimize import BFGS, basinhopping, differential_evolution\n",
        "import matplotlib.pyplot as plt\n",
        "\n",
        "# Unconstrained Optimization\n",
        "\n",
        "# Define a function to optimize\n",
        "def f(x):\n",
        "    return x**2 + 2*x + 1\n",
        "\n",
        "# Define the initial guess\n",
        "x0 = 1.0\n",
        "\n",
        "# Use gradient descent method\n",
        "res = minimize(f, x0, method=\"BFGS\")\n",
        "print(\"Optimal value using BFGS:\", res.x)\n",
        "\n",
        "# Use simulated annealing\n",
        "res = basinhopping(f, x0, niter=100)\n",
        "print(\"Optimal value using simulated annealing:\", res.x)\n",
        "\n",
        "# Use differential evolution\n",
        "res = differential_evolution(f, bounds=[(-10, 10)])\n",
        "print(\"Optimal value using differential evolution:\", res.x)\n",
        "\n",
        "# Constrained Optimization\n",
        "\n",
        "# Define a function to optimize\n",
        "def f(x):\n",
        "    return x**2 + 2*x + 1\n",
        "\n",
        "# Define the constraints\n",
        "cons = ({'type': 'eq', 'fun': lambda x: x - 1},)\n",
        "\n",
        "# Define the initial guess\n",
        "x0 = 1.0\n",
        "\n",
        "# Use SLSQP method\n",
        "res = minimize(f, x0, method=\"SLSQP\", constraints=cons)\n",
        "print(\"Optimal value using SLSQP:\", res.x)\n",
        "\n",
        "# Root Finding\n",
        "\n",
        "# Define a function to find the root\n",
        "def f(x):\n",
        "    return x**2 - 2\n",
        "\n",
        "# Define the initial guess\n",
        "x0 = 1.0\n",
        "\n",
        "# Use Newton's method\n",
        "res = newton(f, x0)\n",
        "print(\"Root using Newton's method:\", res)\n",
        "\n",
        "# Curve Fitting\n",
        "\n",
        "# Define the function to fit\n",
        "def func(x, a, b):\n",
        "    return a*x + b\n",
        "\n",
        "# Define the data\n",
        "x_data = np.array([1, 2, 3, 4, 5])\n",
        "y_data = np.array([2, 3, 5, 7, 11])\n",
        "\n",
        "# Use curve_fit\n",
        "popt, pcov = curve_fit(func, x_data, y_data)\n",
        "print(\"Optimal parameters using curve_fit:\", popt)\n",
        "\n",
        "# Gradient-based Optimization\n",
        "\n",
        "# Define a function to optimize\n",
        "def f(x):\n",
        "    return x**2 + 2*x + 1\n",
        "\n",
        "# Define the initial guess\n",
        "x0 = 1.0\n",
        "\n",
        "# Use BFGS method\n",
        "res = minimize(f, x0, method=\"BFGS\")\n",
        "print(\"Optimal value using BFGS:\", res.x)\n",
        "\n",
        "# Use simulated annealing\n",
        "res = basinhopping(f, x0, niter=100)\n",
        "print(\"Optimal value using simulated annealing:\", res.x)\n",
        "\n",
        "# Use differential evolution\n",
        "res = differential_evolution(f, bounds=[(-10, 10)])\n",
        "print(\"Optimal value using differential evolution:\", res.x)\n",
        "\n",
        "# Other Methods\n",
        "\n",
        "# Define a function to optimize\n",
        "def f(x):\n",
        "    return x**2 + 2*x + 1\n",
        "\n",
        "# Define the initial guess\n",
        "x0 = 1.0\n",
        "\n",
        "# Use scalar minimization\n",
        "res = minimize_scalar(f, bracket=[-10, 10])\n",
        "print(\"Optimal value using scalar minimization:\", res.x)\n",
        "\n",
        "# Plot the results\n",
        "x = np.linspace(-10, 10, 400)\n",
        "y = f(x)\n",
        "\n",
        "plt.plot(x, y)\n",
        "plt.xlabel('x')\n",
        "plt.ylabel('f(x)')\n",
        "plt.title('Optimization Results')\n",
        "plt.show()"
      ],
      "metadata": {
        "colab": {
          "base_uri": "https://localhost:8080/",
          "height": 654
        },
        "id": "aH-q7EpyYpP_",
        "outputId": "9760e464-aabd-4fd5-bcea-36e409d8230b"
      },
      "execution_count": 48,
      "outputs": [
        {
          "output_type": "stream",
          "name": "stdout",
          "text": [
            "Optimal value using BFGS: [-1.00000002]\n",
            "Optimal value using simulated annealing: [-1.00000001]\n",
            "Optimal value using differential evolution: [-1.]\n",
            "Optimal value using SLSQP: [1.]\n",
            "Root using Newton's method: 1.414213562373095\n",
            "Optimal parameters using curve_fit: [ 2.2        -1.00000001]\n",
            "Optimal value using BFGS: [-1.00000002]\n",
            "Optimal value using simulated annealing: [-1.]\n",
            "Optimal value using differential evolution: [-1.00000001]\n",
            "Optimal value using scalar minimization: -1.0000000000000002\n"
          ]
        },
        {
          "output_type": "display_data",
          "data": {
            "text/plain": [
              "<Figure size 640x480 with 1 Axes>"
            ],
            "image/png": "[encoded data removed]"
          },
          "metadata": {}
        }
      ]
    },
    {
      "cell_type": "markdown",
      "source": [
        "# Monte Carlo Method"
      ],
      "metadata": {
        "id": "ApmSjZI3YtTI"
      }
    },
    {
      "cell_type": "code",
      "source": [
        "import numpy as np\n",
        "import random\n",
        "import math\n",
        "\n",
        "# Monte Carlo Integration\n",
        "def monte_carlo_integration(func, a, b, N):\n",
        "    x = [random.uniform(a, b) for _ in range(N)]\n",
        "    y = [func(x_i) for x_i in x]\n",
        "    return sum(y) / N * (b - a)\n",
        "\n",
        "# Define the function to integrate\n",
        "def f(x):\n",
        "    return x**2\n",
        "\n",
        "# Integrate from 0 to 1\n",
        "a = 0\n",
        "b = 1\n",
        "N = 1000000\n",
        "result = monte_carlo_integration(f, a, b, N)\n",
        "print(\"Monte Carlo Integration Result:\", result)\n",
        "\n",
        "# Monte Carlo Simulation\n",
        "def monte_carlo_simulation(probabilities, N):\n",
        "    results = [random.choices(range(len(probabilities)), weights=probabilities, k=N)]\n",
        "    return results\n",
        "\n",
        "# Define the probabilities\n",
        "probabilities = [0.2, 0.3, 0.5]\n",
        "\n",
        "# Run the simulation\n",
        "N = 10000\n",
        "results = monte_carlo_simulation(probabilities, N)\n",
        "print(\"Monte Carlo Simulation Results:\", results)\n",
        "\n",
        "# Markov Chain Monte Carlo\n",
        "def markov_chain_monte_carlo(p, N):\n",
        "    x = 0\n",
        "    for _ in range(N):\n",
        "        if random.random() < p:\n",
        "            x = 1 - x\n",
        "    return x\n",
        "\n",
        "# Define the probability\n",
        "p = 0.5\n",
        "\n",
        "# Run the simulation\n",
        "N = 10000\n",
        "results = [markov_chain_monte_carlo(p, N) for _ in range(1000)]\n",
        "print(\"Markov Chain Monte Carlo Results:\", results)\n",
        "\n",
        "# Monte Carlo Pi Estimation\n",
        "def monte_carlo_pi(N):\n",
        "    inside_circle = 0\n",
        "    for _ in range(N):\n",
        "        x = random.uniform(0, 1)\n",
        "        y = random.uniform(0, 1)\n",
        "        if math.sqrt(x**2 + y**2) <= 1:\n",
        "            inside_circle += 1\n",
        "    return 4 * inside_circle / N\n",
        "\n",
        "# Run the simulation\n",
        "N = 1000000\n",
        "result = monte_carlo_pi(N)\n",
        "print(\"Monte Carlo Pi Estimation Result:\", result)\n",
        "\n",
        "# Other Topics\n",
        "# Monte Carlo Tree Search\n",
        "# Monte Carlo Dropout\n",
        "# Monte Carlo Expectation-Maximization"
      ],
      "metadata": {
        "colab": {
          "base_uri": "https://localhost:8080/"
        },
        "id": "v0-Rz6HzZVOU",
        "outputId": "604c699f-ac24-4d00-8f5a-f20c596dc0cc"
      },
      "execution_count": 49,
      "outputs": [
        {
          "output_type": "stream",
          "name": "stdout",
          "text": [
            "Monte Carlo Integration Result: 0.33322480964289436\n",
            "Monte Carlo Simulation Results: [[2, 2, 2, 0, 2, 2, 2, 2, 0, 2, 1, 2, 0, 2, 1, 0, 2, 2, 2, 1, 1, 2, 2, 2, 1, 2, 2, 1, 1, 0, 0, 0, 1, 2, 0, 0, 2, 2, 0, 1, 1, 2, 2, 1, 2, 1, 2, 2, 2, 2, 2, 1, 2, 2, 1, 2, 2, 1, 2, 1, 0, 2, 1, 2, 2, 2, 1, 2, 2, 2, 2, 0, 0, 2, 0, 2, 1, 2, 2, 0, 2, 0, 1, 0, 0, 1, 2, 2, 2, 1, 0, 0, 2, 2, 1, 2, 2, 1, 0, 2, 1, 0, 2, 2, 2, 1, 1, 2, 2, 1, 1, 2, 1, 0, 2, 2, 0, 0, 0, 1, 0, 2, 0, 2, 2, 2, 2, 2, 2, 2, 2, 2, 2, 1, 0, 2, 2, 2, 2, 1, 1, 1, 2, 0, 2, 2, 1, 0, 1, 2, 2, 1, 0, 2, 2, 0, 2, 1, 0, 1, 2, 0, 2, 2, 2, 2, 2, 1, 2, 1, 0, 0, 1, 1, 2, 2, 0, 0, 2, 2, 2, 2, 1, 1, 0, 2, 2, 2, 0, 2, 1, 0, 1, 2, 2, 1, 1, 2, 1, 2, 2, 0, 1, 1, 0, 1, 2, 2, 2, 0, 2, 0, 2, 2, 2, 0, 2, 0, 2, 2, 0, 2, 2, 1, 2, 2, 0, 1, 2, 2, 0, 1, 2, 0, 0, 1, 2, 2, 2, 0, 2, 1, 0, 2, 1, 2, 2, 0, 2, 1, 2, 2, 0, 1, 2, 1, 1, 1, 0, 0, 2, 1, 1, 2, 2, 1, 2, 1, 2, 2, 1, 2, 0, 1, 0, 2, 0, 0, 2, 1, 0, 1, 2, 1, 1, 1, 1, 2, 1, 1, 1, 2, 2, 2, 2, 0, 2, 2, 1, 2, 2, 1, 1, 2, 2, 1, 2, 0, 0, 2, 2, 2, 2, 0, 1, 2, 0, 1, 1, 1, 1, 1, 2, 2, 0, 1, 2, 2, 2, 2, 1, 2, 2, 2, 2, 1, 0, 1, 1, 2, 1, 1, 2, 2, 2, 0, 1, 1, 0, 0, 1, 0, 2, 0, 0, 1, 2, 2, 0, 1, 2, 1, 0, 2, 0, 2, 0, 1, 2, 2, 2, 2, 1, 2, 1, 0, 0, 2, 2, 2, 2, 0, 2, 0, 1, 2, 0, 2, 1, 1, 1, 2, 2, 2, 2, 2, 2, 2, 0, 2, 1, 1, 2, 2, 1, 1, 2, 0, 1, 1, 0, 2, 1, 2, 2, 2, 2, 1, 1, 1, 0, 2, 0, 0, 2, 2, 0, 1, 2, 0, 2, 0, 0, 2, 2, 2, 2, 2, 0, 0, 1, 1, 2, 1, 0, 1, 2, 1, 2, 2, 2, 1, 1, 1, 2, 1, 2, 2, 2, 2, 2, 2, 0, 2, 0, 2, 0, 2, 1, 1, 1, 1, 2, 2, 2, 0, 2, 0, 2, 2, 1, 0, 2, 1, 1, 0, 2, 2, 1, 1, 2, 1, 2, 2, 1, 1, 2, 2, 2, 1, 2, 1, 1, 1, 0, 1, 2, 2, 2, 2, 1, 1, 1, 2, 2, 2, 2, 2, 0, 2, 2, 2, 2, 2, 2, 2, 2, 1, 2, 1, 1, 1, 1, 2, 1, 0, 2, 1, 2, 2, 2, 1, 2, 0, 1, 2, 2, 1, 2, 2, 2, 1, 1, 2, 0, 2, 0, 2, 2, 2, 0, 2, 2, 2, 2, 0, 2, 1, 2, 2, 1, 2, 2, 2, 0, 0, 2, 2, 2, 1, 2, 1, 2, 2, 2, 2, 2, 1, 2, 0, 0, 2, 0, 0, 2, 1, 2, 2, 2, 1, 2, 2, 2, 0, 2, 2, 0, 1, 2, 2, 0, 2, 1, 2, 1, 2, 2, 2, 1, 1, 2, 2, 0, 1, 2, 0, 1, 1, 1, 2, 2, 1, 0, 2, 2, 2, 1, 0, 0, 2, 1, 1, 2, 2, 2, 1, 1, 2, 2, 0, 2, 2, 1, 1, 2, 0, 0, 1, 2, 2, 1, 2, 2, 2, 0, 0, 2, 1, 2, 2, 2, 2, 1, 2, 0, 2, 2, 1, 0, 1, 2, 1, 1, 1, 2, 2, 1, 0, 2, 2, 2, 2, 2, 2, 1, 1, 1, 2, 2, 2, 2, 2, 2, 2, 1, 2, 1, 2, 1, 2, 1, 1, 2, 0, 0, 2, 2, 2, 1, 2, 1, 1, 1, 1, 1, 2, 1, 2, 2, 1, 1, 2, 2, 0, 2, 1, 1, 0, 2, 2, 1, 1, 0, 1, 2, 1, 1, 0, 0, 1, 1, 2, 2, 2, 1, 2, 0, 2, 1, 0, 1, 2, 1, 2, 1, 0, 2, 2, 1, 2, 1, 2, 1, 2, 1, 1, 2, 2, 2, 2, 1, 1, 2, 1, 0, 1, 2, 2, 2, 0, 1, 2, 2, 2, 0, 0, 2, 2, 2, 1, 2, 1, 0, 2, 0, 2, 1, 0, 2, 2, 0, 2, 1, 2, 1, 1, 1, 0, 2, 2, 2, 1, 0, 1, 0, 2, 1, 2, 0, 2, 1, 1, 2, 2, 0, 2, 2, 2, 0, 1, 0, 1, 0, 2, 1, 0, 2, 1, 1, 0, 2, 2, 0, 1, 0, 2, 2, 2, 0, 2, 2, 1, 2, 1, 2, 2, 0, 2, 1, 2, 2, 1, 0, 1, 1, 0, 2, 2, 0, 1, 0, 0, 0, 1, 2, 0, 1, 0, 2, 2, 1, 2, 0, 2, 0, 1, 1, 2, 2, 2, 1, 2, 2, 2, 2, 2, 2, 2, 1, 2, 2, 1, 2, 1, 2, 2, 2, 2, 1, 1, 2, 2, 2, 2, 2, 0, 2, 2, 2, 1, 1, 2, 2, 2, 0, 2, 2, 2, 0, 2, 2, 2, 2, 1, 0, 0, 0, 0, 2, 0, 0, 1, 1, 0, 2, 1, 2, 2, 0, 2, 2, 0, 2, 1, 1, 2, 1, 2, 2, 0, 2, 2, 1, 2, 2, 1, 1, 0, 2, 1, 1, 2, 2, 2, 2, 1, 1, 1, 1, 1, 2, 2, 2, 2, 1, 0, 0, 0, 1, 2, 1, 0, 0, 2, 0, 1, 0, 2, 2, 2, 1, 2, 0, 2, 2, 0, 2, 2, 0, 2, 0, 2, 1, 0, 1, 2, 2, 1, 1, 2, 1, 2, 2, 1, 2, 1, 2, 2, 0, 1, 2, 2, 0, 2, 2, 0, 1, 2, 1, 2, 2, 2, 0, 2, 1, 1, 2, 2, 1, 2, 2, 1, 0, 2, 2, 2, 2, 2, 2, 0, 2, 2, 1, 2, 2, 1, 1, 2, 1, 1, 0, 1, 2, 2, 0, 1, 2, 2, 2, 2, 1, 2, 2, 1, 0, 0, 0, 0, 1, 2, 0, 1, 1, 1, 0, 2, 0, 1, 2, 1, 2, 1, 0, 2, 2, 0, 0, 2, 2, 1, 2, 2, 0, 2, 2, 2, 1, 1, 0, 2, 0, 0, 1, 0, 0, 2, 1, 1, 1, 1, 1, 1, 0, 2, 2, 1, 0, 1, 1, 0, 1, 1, 2, 1, 0, 0, 0, 2, 1, 0, 0, 2, 2, 0, 1, 2, 2, 2, 1, 2, 1, 0, 1, 0, 1, 0, 2, 1, 2, 2, 2, 0, 0, 1, 2, 2, 1, 1, 1, 2, 1, 1, 2, 2, 2, 1, 0, 2, 1, 2, 2, 2, 1, 1, 2, 1, 2, 1, 1, 1, 2, 1, 1, 2, 1, 1, 0, 0, 2, 0, 0, 0, 1, 2, 2, 2, 2, 2, 1, 1, 2, 2, 0, 2, 2, 2, 1, 2, 0, 1, 1, 1, 2, 0, 1, 1, 1, 1, 2, 0, 2, 2, 1, 1, 0, 0, 2, 0, 2, 2, 1, 2, 0, 0, 1, 2, 0, 0, 0, 2, 2, 2, 0, 1, 2, 0, 2, 2, 1, 0, 1, 2, 1, 1, 2, 0, 2, 0, 1, 0, 0, 0, 2, 1, 2, 2, 2, 1, 0, 2, 1, 1, 1, 1, 2, 1, 2, 2, 1, 1, 1, 2, 1, 2, 0, 2, 0, 2, 0, 2, 2, 0, 2, 1, 2, 1, 1, 0, 2, 2, 2, 1, 1, 2, 2, 2, 2, 1, 2, 0, 2, 0, 2, 2, 2, 2, 2, 1, 1, 2, 2, 2, 0, 1, 1, 0, 1, 2, 1, 2, 2, 2, 2, 0, 2, 2, 1, 2, 2, 1, 1, 2, 2, 2, 2, 2, 1, 2, 2, 1, 2, 2, 2, 2, 0, 2, 1, 2, 0, 0, 2, 1, 0, 1, 0, 1, 2, 1, 1, 2, 2, 2, 2, 1, 0, 1, 1, 1, 1, 2, 0, 0, 1, 0, 1, 0, 1, 0, 1, 1, 2, 0, 0, 1, 2, 2, 0, 2, 1, 2, 2, 1, 2, 1, 2, 2, 2, 1, 0, 1, 2, 2, 0, 0, 1, 1, 1, 0, 1, 0, 1, 0, 2, 1, 0, 0, 2, 1, 2, 2, 1, 2, 2, 0, 2, 2, 1, 2, 1, 1, 2, 0, 0, 2, 2, 1, 0, 2, 2, 2, 1, 0, 2, 1, 1, 0, 2, 1, 1, 1, 1, 2, 2, 1, 2, 1, 2, 1, 1, 0, 2, 2, 0, 2, 2, 0, 2, 2, 1, 1, 1, 2, 1, 1, 2, 2, 2, 2, 0, 2, 1, 2, 0, 1, 0, 0, 2, 2, 2, 2, 1, 2, 2, 2, 1, 2, 0, 2, 1, 2, 2, 1, 2, 2, 2, 2, 2, 2, 2, 2, 1, 0, 0, 2, 2, 2, 1, 1, 0, 2, 1, 0, 2, 0, 2, 1, 0, 1, 2, 1, 0, 2, 1, 1, 0, 0, 0, 2, 2, 0, 1, 2, 2, 1, 0, 2, 2, 2, 0, 2, 0, 0, 1, 2, 2, 2, 1, 2, 1, 2, 2, 0, 0, 0, 2, 0, 2, 1, 2, 1, 1, 0, 2, 1, 1, 2, 2, 2, 2, 2, 2, 1, 1, 1, 2, 2, 0, 1, 2, 2, 1, 2, 0, 2, 1, 1, 0, 0, 2, 2, 2, 0, 1, 1, 0, 2, 0, 2, 1, 1, 0, 2, 2, 2, 1, 1, 2, 0, 1, 1, 1, 1, 1, 1, 2, 0, 2, 2, 2, 1, 1, 2, 0, 2, 2, 0, 0, 2, 2, 2, 1, 2, 2, 2, 2, 2, 1, 1, 1, 0, 2, 2, 1, 1, 2, 2, 1, 0, 1, 2, 2, 2, 2, 1, 1, 1, 1, 1, 1, 2, 2, 2, 1, 2, 0, 1, 2, 2, 0, 1, 2, 2, 1, 1, 1, 2, 2, 2, 2, 2, 1, 2, 2, 2, 0, 2, 2, 1, 2, 2, 0, 1, 1, 0, 2, 2, 1, 1, 1, 1, 1, 2, 2, 2, 0, 1, 0, 2, 1, 0, 2, 1, 2, 1, 2, 2, 0, 2, 1, 2, 0, 1, 2, 2, 1, 2, 2, 2, 1, 1, 2, 1, 0, 2, 1, 2, 2, 1, 1, 2, 2, 1, 1, 1, 0, 2, 1, 2, 2, 0, 1, 1, 2, 1, 2, 2, 2, 1, 2, 0, 0, 2, 0, 1, 1, 2, 2, 2, 2, 2, 2, 1, 2, 2, 2, 1, 2, 2, 2, 1, 2, 2, 2, 1, 1, 2, 2, 0, 2, 1, 1, 2, 0, 2, 2, 2, 2, 2, 2, 2, 1, 1, 1, 1, 1, 1, 0, 2, 2, 1, 2, 2, 0, 1, 2, 0, 2, 2, 0, 2, 2, 2, 2, 1, 2, 2, 1, 2, 1, 2, 1, 2, 2, 1, 2, 1, 2, 2, 2, 2, 1, 1, 0, 1, 0, 2, 1, 2, 2, 0, 2, 1, 0, 2, 2, 2, 2, 2, 1, 2, 1, 2, 2, 2, 2, 2, 1, 2, 1, 2, 2, 1, 1, 2, 0, 2, 2, 2, 0, 2, 0, 2, 1, 2, 0, 1, 2, 0, 1, 2, 2, 2, 0, 2, 2, 1, 1, 0, 0, 0, 1, 2, 0, 1, 2, 2, 2, 2, 2, 2, 2, 2, 2, 2, 1, 2, 2, 1, 0, 2, 2, 1, 2, 2, 1, 1, 1, 1, 2, 2, 1, 1, 2, 0, 0, 2, 2, 0, 1, 1, 2, 2, 2, 0, 0, 0, 1, 1, 1, 0, 0, 1, 2, 2, 0, 2, 2, 2, 2, 2, 2, 1, 1, 2, 2, 2, 2, 0, 1, 0, 1, 1, 2, 1, 2, 2, 1, 1, 1, 2, 2, 2, 1, 2, 2, 1, 0, 2, 2, 2, 2, 2, 0, 0, 2, 2, 0, 2, 1, 1, 2, 2, 2, 1, 2, 2, 1, 2, 0, 2, 2, 0, 2, 0, 1, 2, 1, 2, 1, 2, 0, 2, 2, 2, 1, 2, 2, 0, 2, 2, 0, 2, 1, 1, 2, 1, 0, 0, 2, 0, 2, 1, 2, 2, 2, 1, 2, 0, 2, 0, 0, 0, 1, 2, 1, 0, 2, 2, 0, 2, 1, 2, 2, 1, 1, 2, 2, 2, 1, 1, 0, 1, 0, 2, 2, 1, 2, 2, 2, 2, 2, 1, 1, 1, 1, 2, 2, 2, 2, 1, 2, 0, 2, 2, 0, 2, 1, 1, 2, 1, 1, 2, 2, 1, 2, 2, 2, 1, 2, 1, 2, 2, 1, 1, 1, 0, 1, 2, 2, 2, 1, 1, 1, 1, 2, 0, 2, 2, 2, 1, 1, 1, 2, 2, 0, 0, 2, 1, 0, 2, 1, 0, 2, 0, 2, 2, 2, 1, 1, 2, 2, 2, 2, 2, 1, 2, 0, 1, 1, 0, 2, 1, 2, 2, 2, 1, 1, 0, 0, 0, 2, 0, 1, 1, 2, 1, 2, 1, 1, 2, 1, 2, 2, 2, 2, 0, 1, 2, 0, 0, 2, 0, 1, 0, 0, 0, 2, 1, 2, 1, 2, 2, 1, 1, 1, 0, 2, 1, 2, 0, 2, 1, 0, 2, 2, 2, 1, 1, 1, 2, 1, 1, 2, 1, 2, 2, 2, 0, 2, 2, 0, 0, 0, 2, 1, 0, 2, 1, 2, 2, 2, 1, 2, 2, 1, 0, 2, 1, 1, 0, 1, 2, 2, 1, 0, 0, 2, 2, 0, 0, 2, 0, 2, 1, 1, 1, 2, 2, 1, 2, 0, 2, 2, 0, 1, 0, 0, 1, 2, 1, 1, 1, 2, 1, 2, 1, 2, 0, 2, 0, 2, 2, 1, 2, 1, 2, 2, 1, 2, 1, 2, 2, 2, 2, 2, 1, 2, 1, 0, 1, 2, 1, 2, 2, 0, 1, 2, 1, 2, 2, 2, 1, 2, 2, 2, 2, 2, 1, 2, 2, 2, 0, 2, 0, 2, 2, 2, 1, 1, 2, 0, 2, 0, 2, 0, 1, 1, 2, 0, 1, 0, 0, 2, 2, 2, 0, 2, 2, 2, 2, 2, 2, 2, 1, 2, 2, 1, 1, 2, 2, 1, 2, 2, 1, 2, 0, 1, 1, 2, 0, 1, 0, 2, 1, 2, 1, 1, 2, 0, 2, 2, 1, 0, 0, 2, 2, 1, 1, 2, 1, 1, 1, 0, 2, 0, 2, 1, 2, 0, 2, 0, 0, 2, 2, 2, 0, 2, 2, 2, 2, 0, 0, 0, 1, 1, 2, 2, 1, 0, 2, 2, 0, 0, 2, 1, 1, 0, 2, 2, 2, 2, 0, 2, 1, 1, 2, 0, 2, 2, 0, 0, 1, 2, 1, 2, 2, 2, 2, 2, 2, 0, 2, 2, 2, 2, 2, 1, 2, 2, 1, 1, 0, 2, 2, 1, 1, 2, 1, 0, 1, 0, 2, 2, 0, 0, 2, 0, 1, 2, 2, 2, 2, 2, 2, 0, 1, 2, 0, 1, 2, 0, 2, 1, 2, 2, 2, 1, 2, 1, 2, 2, 0, 1, 2, 2, 0, 1, 1, 2, 1, 0, 1, 0, 1, 2, 1, 0, 1, 2, 2, 1, 0, 0, 1, 1, 1, 0, 2, 2, 2, 2, 2, 2, 2, 2, 1, 2, 1, 0, 1, 2, 2, 2, 2, 0, 2, 1, 2, 2, 1, 2, 2, 2, 2, 0, 0, 2, 1, 2, 2, 0, 2, 2, 2, 2, 0, 2, 1, 2, 2, 2, 1, 1, 2, 2, 2, 1, 1, 2, 0, 1, 2, 2, 2, 2, 2, 1, 1, 2, 2, 2, 1, 2, 0, 0, 2, 0, 2, 2, 2, 0, 0, 1, 2, 2, 1, 2, 1, 1, 0, 2, 2, 1, 1, 0, 2, 1, 2, 1, 2, 0, 2, 2, 2, 2, 2, 2, 1, 0, 1, 0, 2, 2, 1, 2, 1, 1, 2, 1, 1, 1, 2, 2, 1, 2, 1, 1, 2, 1, 1, 0, 2, 2, 1, 1, 1, 0, 2, 2, 0, 1, 2, 2, 0, 2, 1, 2, 2, 0, 2, 1, 2, 0, 2, 1, 2, 2, 2, 1, 1, 2, 0, 0, 1, 2, 1, 2, 1, 2, 1, 2, 2, 1, 0, 0, 1, 2, 1, 2, 0, 2, 0, 2, 1, 0, 2, 2, 2, 0, 0, 1, 0, 1, 2, 1, 2, 2, 2, 1, 1, 0, 2, 2, 1, 1, 2, 1, 0, 0, 2, 1, 1, 1, 1, 1, 2, 1, 1, 1, 1, 1, 2, 2, 0, 1, 2, 2, 2, 1, 0, 2, 2, 1, 2, 1, 0, 0, 2, 0, 1, 2, 2, 2, 2, 2, 0, 2, 0, 1, 2, 1, 0, 0, 1, 2, 2, 1, 2, 1, 2, 2, 0, 2, 2, 1, 2, 1, 2, 1, 2, 0, 2, 2, 2, 2, 2, 2, 0, 1, 2, 0, 1, 2, 1, 1, 1, 2, 2, 2, 0, 0, 2, 1, 1, 1, 2, 0, 2, 0, 2, 2, 2, 1, 0, 2, 2, 2, 2, 2, 0, 2, 1, 2, 1, 2, 2, 2, 1, 0, 0, 1, 2, 1, 2, 2, 2, 1, 2, 1, 2, 2, 0, 0, 2, 2, 2, 2, 2, 2, 2, 2, 1, 2, 1, 1, 1, 0, 2, 0, 0, 1, 2, 0, 0, 2, 2, 2, 2, 1, 1, 1, 1, 0, 0, 1, 2, 2, 2, 2, 2, 2, 2, 1, 2, 2, 1, 1, 2, 1, 2, 2, 2, 0, 1, 2, 1, 0, 0, 1, 2, 1, 0, 0, 1, 0, 2, 2, 1, 1, 0, 1, 2, 1, 2, 1, 1, 2, 2, 1, 0, 1, 2, 1, 0, 0, 2, 2, 0, 2, 2, 1, 2, 1, 1, 2, 1, 2, 2, 2, 0, 2, 1, 2, 2, 0, 2, 2, 0, 2, 1, 2, 2, 2, 1, 1, 1, 2, 1, 0, 1, 0, 2, 1, 2, 2, 2, 0, 1, 2, 2, 2, 2, 0, 1, 2, 1, 2, 0, 1, 0, 1, 2, 1, 2, 1, 2, 2, 2, 1, 2, 2, 2, 1, 2, 1, 1, 1, 2, 1, 2, 1, 2, 2, 2, 0, 2, 0, 0, 2, 2, 2, 0, 1, 1, 1, 0, 0, 2, 2, 1, 2, 0, 1, 1, 2, 0, 1, 2, 2, 2, 1, 0, 2, 2, 0, 2, 1, 0, 2, 2, 0, 2, 2, 0, 0, 2, 2, 1, 2, 2, 0, 2, 1, 1, 2, 0, 1, 1, 2, 1, 1, 1, 1, 2, 2, 2, 2, 2, 2, 1, 2, 1, 0, 2, 1, 2, 1, 2, 2, 1, 0, 0, 1, 1, 2, 2, 2, 2, 2, 2, 1, 1, 1, 2, 1, 2, 0, 1, 1, 0, 2, 2, 2, 2, 1, 1, 0, 1, 2, 2, 1, 0, 1, 0, 2, 1, 2, 0, 1, 0, 2, 2, 2, 1, 0, 2, 0, 2, 2, 1, 1, 2, 1, 2, 1, 2, 2, 1, 1, 2, 1, 2, 1, 1, 0, 2, 1, 1, 0, 1, 1, 0, 2, 2, 2, 2, 2, 2, 1, 2, 2, 2, 2, 2, 2, 2, 2, 2, 2, 1, 2, 1, 2, 0, 2, 1, 2, 2, 2, 2, 2, 1, 0, 1, 2, 2, 0, 0, 2, 1, 2, 1, 1, 2, 1, 1, 1, 0, 0, 2, 0, 2, 2, 2, 0, 2, 2, 2, 0, 2, 2, 0, 2, 0, 0, 0, 2, 2, 0, 1, 1, 2, 1, 2, 1, 0, 0, 1, 1, 1, 2, 1, 2, 2, 2, 2, 0, 2, 2, 2, 2, 2, 2, 1, 1, 2, 2, 2, 0, 0, 2, 1, 0, 1, 0, 1, 2, 1, 2, 2, 1, 1, 0, 2, 2, 0, 1, 0, 2, 2, 2, 2, 2, 1, 0, 1, 0, 2, 2, 2, 2, 0, 1, 2, 2, 0, 1, 0, 0, 0, 1, 1, 1, 0, 2, 1, 1, 1, 2, 1, 1, 2, 2, 0, 0, 1, 2, 2, 2, 2, 2, 2, 1, 1, 2, 0, 2, 1, 1, 2, 2, 2, 1, 1, 2, 0, 0, 0, 2, 1, 1, 2, 0, 2, 2, 2, 2, 2, 1, 2, 1, 0, 0, 2, 0, 2, 2, 2, 2, 1, 1, 2, 2, 1, 0, 2, 1, 0, 2, 2, 2, 2, 2, 2, 2, 2, 0, 2, 2, 1, 1, 2, 2, 0, 0, 1, 0, 2, 1, 0, 1, 0, 0, 1, 2, 0, 0, 1, 1, 2, 0, 2, 2, 2, 0, 2, 1, 2, 1, 2, 1, 1, 1, 2, 2, 1, 1, 2, 2, 2, 1, 2, 1, 2, 1, 2, 2, 1, 1, 1, 1, 0, 2, 2, 1, 2, 2, 2, 0, 0, 2, 2, 2, 0, 1, 1, 2, 1, 2, 1, 0, 1, 2, 1, 0, 0, 2, 2, 2, 1, 1, 2, 0, 0, 2, 1, 1, 2, 2, 1, 2, 2, 2, 0, 0, 2, 2, 2, 1, 2, 2, 2, 1, 0, 2, 1, 2, 2, 2, 2, 1, 1, 2, 2, 0, 2, 2, 0, 2, 2, 2, 2, 2, 0, 2, 2, 2, 0, 1, 0, 2, 2, 2, 1, 2, 2, 2, 0, 2, 1, 1, 1, 2, 1, 2, 1, 0, 0, 1, 2, 2, 0, 2, 0, 1, 0, 2, 2, 1, 2, 2, 1, 1, 2, 1, 2, 1, 2, 2, 0, 2, 0, 0, 0, 1, 1, 2, 1, 2, 1, 0, 2, 1, 2, 2, 2, 0, 1, 0, 0, 0, 0, 0, 2, 2, 2, 2, 1, 0, 1, 1, 2, 2, 1, 2, 0, 1, 2, 2, 1, 2, 2, 0, 1, 0, 0, 2, 0, 1, 1, 0, 0, 2, 0, 0, 2, 2, 2, 2, 2, 0, 0, 2, 0, 0, 2, 2, 2, 1, 0, 1, 1, 1, 1, 0, 0, 2, 2, 1, 2, 2, 2, 2, 2, 1, 1, 2, 1, 2, 0, 2, 1, 2, 0, 2, 0, 2, 2, 2, 2, 0, 1, 2, 2, 2, 1, 2, 1, 2, 1, 1, 1, 2, 1, 2, 2, 1, 0, 2, 1, 2, 1, 2, 2, 2, 0, 0, 2, 2, 1, 2, 0, 2, 0, 2, 2, 2, 2, 1, 2, 1, 1, 2, 2, 2, 1, 2, 1, 1, 2, 1, 2, 2, 0, 2, 2, 2, 2, 2, 2, 0, 2, 0, 2, 1, 2, 1, 1, 1, 2, 1, 1, 0, 1, 2, 1, 1, 0, 2, 1, 2, 1, 2, 2, 2, 2, 1, 1, 0, 1, 1, 0, 2, 0, 2, 2, 1, 1, 2, 1, 1, 2, 1, 2, 1, 2, 2, 2, 1, 1, 1, 2, 2, 2, 1, 0, 1, 2, 2, 1, 2, 1, 0, 0, 1, 0, 0, 1, 1, 1, 2, 2, 1, 0, 2, 2, 2, 0, 2, 0, 2, 2, 0, 0, 1, 1, 1, 0, 0, 1, 2, 2, 2, 2, 1, 1, 2, 0, 1, 2, 2, 2, 0, 1, 1, 2, 1, 1, 2, 1, 2, 2, 1, 2, 2, 1, 1, 0, 2, 2, 2, 1, 0, 0, 2, 2, 0, 2, 1, 0, 1, 0, 1, 2, 2, 2, 2, 1, 1, 1, 0, 2, 2, 2, 2, 0, 0, 0, 2, 1, 0, 1, 0, 2, 2, 0, 2, 2, 0, 2, 1, 0, 2, 2, 2, 1, 0, 2, 2, 2, 2, 2, 0, 2, 0, 2, 0, 1, 0, 0, 0, 1, 0, 2, 0, 2, 2, 2, 1, 0, 2, 2, 1, 0, 2, 2, 1, 2, 0, 2, 1, 2, 2, 2, 2, 2, 2, 2, 1, 0, 1, 0, 1, 1, 1, 0, 2, 1, 1, 2, 0, 0, 1, 1, 2, 1, 1, 1, 0, 2, 1, 1, 1, 2, 2, 1, 1, 1, 2, 2, 1, 2, 2, 2, 2, 2, 2, 2, 2, 2, 2, 2, 2, 2, 2, 2, 2, 2, 0, 2, 1, 2, 2, 1, 1, 1, 2, 2, 0, 0, 2, 2, 2, 2, 0, 2, 1, 0, 2, 1, 0, 1, 0, 1, 2, 2, 2, 2, 2, 2, 0, 2, 1, 2, 2, 2, 0, 2, 1, 2, 1, 2, 1, 2, 2, 2, 0, 2, 0, 0, 2, 2, 2, 1, 2, 1, 2, 1, 2, 0, 2, 1, 1, 2, 2, 2, 2, 2, 2, 1, 0, 2, 2, 1, 1, 2, 0, 0, 2, 1, 0, 2, 0, 1, 0, 1, 2, 1, 0, 2, 1, 0, 2, 1, 1, 2, 0, 2, 2, 2, 2, 0, 1, 2, 2, 0, 1, 1, 2, 2, 2, 1, 2, 1, 2, 2, 2, 1, 2, 0, 0, 2, 2, 1, 2, 1, 2, 0, 2, 1, 2, 1, 2, 2, 2, 1, 2, 1, 2, 1, 2, 2, 1, 2, 0, 1, 2, 2, 0, 2, 2, 2, 2, 1, 2, 1, 2, 2, 0, 0, 2, 2, 2, 2, 2, 2, 0, 1, 0, 2, 2, 0, 0, 2, 1, 2, 1, 0, 2, 2, 2, 2, 2, 1, 2, 2, 2, 0, 2, 2, 2, 2, 0, 2, 2, 1, 2, 1, 1, 2, 1, 2, 2, 2, 2, 0, 0, 2, 2, 2, 2, 2, 0, 1, 1, 2, 2, 1, 2, 0, 2, 2, 2, 0, 1, 2, 2, 2, 2, 0, 2, 2, 2, 1, 2, 2, 1, 2, 1, 1, 1, 2, 2, 0, 2, 2, 1, 0, 2, 1, 1, 1, 2, 1, 1, 1, 1, 1, 1, 2, 2, 1, 2, 0, 1, 1, 2, 1, 1, 2, 2, 2, 2, 2, 1, 0, 2, 1, 1, 2, 0, 2, 2, 2, 2, 1, 2, 2, 2, 0, 2, 2, 2, 0, 2, 2, 1, 0, 0, 2, 0, 2, 1, 2, 1, 2, 0, 2, 1, 0, 1, 1, 0, 2, 1, 2, 1, 1, 1, 2, 1, 2, 2, 2, 0, 1, 2, 1, 1, 2, 0, 2, 1, 0, 2, 2, 2, 2, 1, 2, 2, 2, 2, 2, 1, 0, 2, 1, 0, 1, 1, 0, 2, 2, 2, 0, 2, 0, 1, 2, 1, 2, 2, 0, 0, 0, 2, 2, 1, 1, 2, 2, 0, 0, 2, 1, 1, 1, 1, 1, 2, 2, 0, 1, 2, 0, 1, 1, 0, 2, 2, 2, 0, 1, 1, 1, 0, 2, 2, 1, 2, 2, 1, 0, 1, 2, 1, 0, 1, 1, 0, 2, 2, 2, 2, 1, 2, 1, 0, 2, 1, 2, 1, 2, 1, 2, 2, 2, 1, 0, 1, 1, 2, 1, 1, 2, 1, 2, 2, 2, 0, 0, 0, 1, 0, 2, 2, 0, 1, 1, 1, 1, 1, 0, 2, 1, 2, 2, 2, 2, 1, 1, 1, 2, 1, 2, 0, 2, 2, 1, 2, 1, 2, 1, 1, 0, 2, 0, 2, 1, 0, 0, 2, 1, 1, 1, 1, 0, 2, 1, 2, 0, 2, 0, 1, 2, 0, 2, 2, 2, 0, 1, 2, 0, 1, 2, 2, 2, 2, 2, 0, 1, 0, 0, 1, 0, 1, 2, 1, 1, 2, 0, 1, 2, 2, 2, 0, 2, 1, 2, 1, 0, 2, 1, 0, 2, 1, 1, 2, 2, 1, 2, 2, 2, 2, 1, 2, 2, 1, 2, 2, 2, 2, 2, 2, 2, 2, 2, 0, 1, 1, 2, 2, 0, 2, 1, 1, 2, 0, 2, 2, 1, 1, 2, 1, 2, 2, 1, 1, 2, 2, 2, 1, 2, 2, 2, 1, 2, 2, 2, 0, 1, 2, 1, 2, 1, 1, 2, 2, 0, 1, 1, 1, 2, 2, 1, 0, 2, 1, 0, 2, 2, 2, 0, 2, 2, 1, 1, 2, 1, 2, 0, 2, 2, 2, 0, 2, 0, 1, 0, 2, 2, 1, 0, 2, 1, 2, 0, 2, 2, 2, 1, 0, 1, 2, 2, 2, 1, 1, 2, 0, 2, 2, 2, 1, 2, 1, 0, 1, 1, 2, 0, 1, 2, 0, 1, 2, 2, 2, 2, 0, 2, 2, 1, 0, 1, 1, 1, 2, 2, 1, 1, 1, 2, 1, 2, 1, 2, 0, 1, 2, 2, 2, 0, 2, 2, 2, 2, 1, 2, 0, 2, 2, 2, 0, 0, 1, 2, 2, 2, 2, 2, 1, 2, 0, 0, 2, 2, 0, 2, 1, 1, 2, 2, 2, 0, 2, 2, 2, 2, 1, 1, 2, 0, 1, 1, 2, 2, 1, 2, 2, 0, 2, 1, 1, 2, 0, 1, 1, 2, 1, 2, 1, 1, 2, 1, 1, 1, 2, 2, 2, 2, 2, 1, 0, 2, 2, 2, 1, 1, 1, 1, 0, 2, 2, 2, 1, 2, 0, 1, 2, 2, 1, 2, 2, 1, 1, 0, 2, 2, 2, 1, 0, 1, 0, 2, 2, 0, 2, 1, 0, 0, 2, 2, 2, 2, 0, 1, 2, 0, 0, 1, 2, 1, 2, 1, 0, 2, 1, 2, 2, 2, 1, 2, 1, 1, 1, 2, 1, 1, 0, 0, 1, 1, 2, 2, 2, 2, 2, 2, 2, 0, 0, 2, 2, 2, 2, 1, 2, 0, 1, 2, 1, 2, 2, 0, 2, 0, 2, 2, 1, 2, 2, 0, 0, 2, 1, 1, 2, 2, 2, 1, 2, 2, 2, 0, 2, 2, 0, 1, 0, 1, 1, 2, 1, 2, 2, 2, 2, 2, 2, 2, 2, 2, 2, 2, 2, 1, 0, 0, 1, 1, 2, 0, 2, 2, 2, 0, 1, 1, 0, 0, 2, 2, 2, 2, 1, 2, 1, 1, 1, 2, 2, 2, 0, 0, 2, 2, 2, 2, 1, 2, 2, 2, 1, 2, 0, 2, 2, 1, 0, 2, 2, 0, 2, 2, 2, 2, 2, 2, 0, 2, 2, 2, 0, 0, 1, 0, 1, 2, 1, 1, 1, 2, 1, 1, 1, 0, 1, 2, 0, 0, 0, 0, 0, 2, 0, 2, 2, 2, 2, 2, 2, 0, 1, 1, 2, 1, 0, 0, 2, 0, 2, 0, 1, 2, 0, 1, 0, 0, 2, 1, 2, 2, 1, 1, 1, 2, 2, 2, 2, 0, 2, 2, 2, 2, 1, 0, 2, 2, 1, 1, 2, 1, 1, 1, 2, 0, 2, 0, 1, 2, 2, 2, 0, 1, 2, 1, 1, 0, 2, 2, 0, 0, 2, 1, 1, 1, 2, 0, 2, 2, 2, 0, 2, 0, 2, 2, 2, 2, 1, 0, 2, 2, 1, 0, 0, 2, 0, 0, 0, 2, 2, 2, 0, 2, 0, 2, 2, 1, 2, 2, 1, 2, 1, 2, 2, 1, 2, 2, 2, 1, 2, 1, 1, 2, 0, 2, 2, 0, 2, 0, 2, 2, 0, 0, 2, 2, 2, 2, 2, 2, 2, 2, 1, 2, 2, 0, 0, 2, 1, 2, 2, 2, 1, 1, 2, 2, 2, 1, 2, 2, 1, 2, 1, 0, 2, 0, 0, 2, 2, 0, 2, 2, 2, 0, 2, 2, 1, 1, 0, 2, 1, 2, 1, 2, 2, 2, 2, 1, 2, 1, 2, 2, 2, 2, 2, 2, 0, 2, 0, 0, 2, 0, 2, 1, 2, 0, 2, 1, 2, 2, 2, 1, 0, 0, 1, 1, 2, 2, 2, 1, 2, 1, 2, 1, 0, 1, 2, 2, 2, 2, 0, 2, 1, 2, 0, 2, 1, 1, 2, 2, 0, 2, 1, 2, 2, 2, 1, 2, 1, 0, 1, 0, 2, 0, 1, 2, 2, 2, 2, 2, 0, 2, 2, 2, 2, 2, 0, 2, 1, 2, 2, 1, 2, 0, 2, 2, 2, 2, 2, 2, 1, 0, 0, 2, 2, 1, 0, 2, 2, 2, 2, 1, 2, 2, 2, 2, 0, 2, 1, 0, 2, 2, 0, 0, 1, 2, 2, 2, 2, 1, 1, 2, 0, 2, 2, 1, 2, 0, 2, 0, 2, 1, 1, 2, 1, 1, 0, 2, 1, 2, 2, 1, 2, 2, 2, 1, 0, 2, 1, 0, 2, 1, 2, 1, 2, 2, 2, 2, 0, 2, 2, 1, 2, 2, 2, 1, 2, 2, 0, 2, 2, 0, 1, 1, 1, 2, 2, 1, 1, 2, 2, 1, 1, 1, 1, 2, 2, 1, 1, 1, 1, 0, 1, 2, 2, 2, 1, 2, 2, 1, 2, 2, 1, 0, 1, 2, 1, 1, 2, 2, 2, 0, 1, 2, 1, 0, 2, 2, 2, 0, 2, 0, 0, 1, 2, 0, 1, 2, 2, 1, 2, 2, 2, 1, 1, 1, 1, 0, 0, 0, 2, 2, 1, 2, 0, 2, 2, 2, 2, 0, 1, 0, 2, 2, 1, 2, 2, 0, 1, 0, 1, 2, 0, 2, 0, 1, 2, 2, 1, 1, 2, 2, 2, 0, 2, 1, 0, 0, 2, 1, 2, 0, 0, 0, 2, 2, 2, 1, 2, 1, 0, 2, 2, 2, 1, 2, 2, 0, 1, 0, 1, 2, 0, 1, 2, 2, 2, 0, 0, 0, 1, 2, 1, 2, 0, 2, 1, 1, 1, 1, 2, 1, 2, 1, 2, 1, 1, 1, 2, 0, 2, 2, 2, 1, 2, 1, 2, 2, 2, 2, 2, 2, 2, 2, 0, 2, 1, 1, 2, 0, 2, 2, 2, 2, 2, 2, 0, 2, 2, 1, 2, 2, 2, 1, 2, 2, 2, 2, 2, 2, 1, 2, 2, 2, 2, 0, 2, 2, 2, 2, 1, 0, 2, 2, 2, 0, 2, 2, 0, 2, 2, 2, 2, 2, 2, 2, 1, 1, 1, 2, 1, 2, 1, 0, 0, 0, 0, 0, 0, 2, 1, 1, 0, 2, 0, 1, 1, 1, 2, 1, 2, 0, 2, 2, 2, 0, 1, 2, 2, 2, 2, 2, 0, 2, 2, 2, 2, 2, 0, 2, 1, 0, 2, 2, 1, 2, 2, 1, 2, 1, 2, 1, 2, 2, 2, 2, 0, 2, 0, 1, 2, 1, 1, 2, 1, 2, 1, 2, 1, 2, 0, 2, 0, 2, 1, 1, 2, 2, 2, 1, 1, 2, 2, 2, 1, 2, 1, 2, 2, 2, 2, 0, 2, 0, 0, 2, 2, 0, 2, 2, 1, 1, 0, 2, 2, 1, 1, 1, 2, 2, 2, 2, 2, 1, 1, 2, 2, 1, 2, 1, 1, 2, 1, 1, 1, 1, 2, 1, 2, 2, 1, 2, 2, 2, 2, 0, 2, 2, 2, 2, 2, 2, 2, 2, 1, 2, 2, 0, 1, 2, 2, 2, 2, 1, 1, 2, 0, 2, 1, 2, 2, 0, 1, 1, 0, 1, 2, 2, 2, 2, 1, 0, 0, 2, 0, 2, 1, 2, 2, 0, 2, 2, 2, 2, 2, 1, 0, 1, 0, 2, 1, 2, 2, 0, 2, 2, 2, 2, 0, 0, 2, 1, 2, 2, 2, 1, 1, 1, 1, 0, 2, 2, 2, 1, 2, 0, 1, 2, 1, 2, 0, 1, 2, 2, 2, 2, 2, 0, 2, 2, 2, 2, 1, 2, 1, 2, 1, 1, 2, 2, 2, 2, 2, 2, 0, 1, 1, 2, 1, 0, 2, 1, 1, 2, 2, 0, 1, 0, 2, 1, 2, 1, 2, 1, 2, 1, 1, 1, 1, 2, 1, 1, 2, 1, 2, 1, 2, 1, 2, 2, 2, 2, 2, 1, 2, 2, 2, 0, 2, 2, 2, 2, 2, 0, 1, 2, 2, 2, 2, 2, 0, 0, 2, 2, 2, 0, 2, 1, 2, 2, 2, 2, 1, 2, 1, 2, 2, 1, 0, 2, 2, 2, 1, 2, 1, 2, 2, 2, 0, 1, 2, 1, 0, 2, 1, 2, 0, 2, 2, 1, 2, 0, 2, 2, 0, 2, 2, 0, 2, 1, 2, 2, 1, 0, 2, 0, 2, 1, 2, 0, 2, 1, 2, 2, 1, 2, 2, 0, 2, 2, 2, 1, 1, 1, 2, 1, 0, 1, 0, 1, 0, 2, 1, 2, 2, 2, 2, 2, 1, 0, 2, 1, 1, 2, 0, 2, 2, 2, 1, 0, 1, 2, 1, 0, 2, 1, 2, 2, 1, 1, 0, 2, 1, 2, 1, 2, 2, 0, 1, 1, 2, 2, 0, 0, 0, 1, 2, 0, 1, 2, 2, 2, 0, 1, 2, 0, 1, 2, 0, 1, 0, 2, 1, 0, 0, 1, 1, 1, 1, 2, 2, 2, 2, 2, 2, 2, 1, 1, 1, 2, 1, 2, 2, 2, 0, 1, 2, 2, 1, 0, 2, 2, 2, 2, 1, 2, 0, 2, 2, 1, 1, 1, 0, 1, 2, 2, 1, 2, 1, 2, 2, 1, 2, 1, 1, 1, 1, 1, 2, 0, 2, 0, 1, 1, 2, 2, 2, 0, 2, 2, 2, 0, 2, 2, 1, 1, 0, 2, 2, 1, 0, 0, 2, 2, 2, 2, 2, 2, 2, 0, 2, 2, 0, 2, 1, 2, 2, 2, 2, 2, 1, 2, 1, 2, 0, 2, 2, 1, 1, 2, 1, 0, 1, 0, 0, 2, 2, 0, 2, 2, 2, 2, 1, 0, 2, 0, 2, 2, 2, 1, 2, 2, 1, 1, 2, 2, 1, 1, 2, 0, 0, 2, 2, 1, 2, 1, 0, 1, 2, 0, 2, 0, 1, 2, 1, 2, 1, 1, 0, 0, 1, 0, 0, 2, 0, 2, 2, 2, 1, 2, 1, 2, 1, 2, 2, 0, 1, 2, 2, 0, 2, 1, 1, 2, 1, 0, 0, 2, 2, 1, 0, 2, 2, 0, 0, 2, 2, 0, 1, 2, 1, 2, 1, 2, 2, 0, 0, 0, 2, 1, 2, 2, 1, 2, 2, 2, 2, 2, 2, 1, 1, 1, 2, 2, 2, 0, 2, 2, 0, 2, 2, 2, 2, 2, 2, 2, 0, 2, 2, 2, 2, 0, 1, 1, 1, 1, 1, 0, 2, 0, 2, 2, 2, 2, 1, 2, 1, 2, 2, 2, 2, 2, 1, 2, 0, 2, 1, 1, 2, 2, 2, 2, 1, 2, 2, 1, 2, 2, 1, 1, 0, 2, 0, 0, 0, 2, 1, 2, 2, 1, 1, 0, 2, 0, 2, 2, 0, 1, 2, 2, 2, 1, 2, 0, 2, 2, 2, 1, 0, 2, 0, 2, 2, 2, 1, 0, 2, 0, 1, 0, 2, 1, 2, 2, 1, 2, 2, 2, 2, 0, 2, 2, 2, 2, 0, 2, 2, 2, 1, 2, 1, 2, 1, 0, 2, 2, 0, 0, 1, 2, 0, 1, 2, 1, 2, 2, 2, 2, 0, 2, 0, 2, 2, 2, 2, 0, 0, 2, 2, 1, 1, 2, 2, 2, 0, 0, 2, 1, 2, 2, 2, 2, 2, 0, 2, 2, 0, 0, 1, 1, 1, 0, 1, 0, 2, 2, 2, 2, 2, 1, 1, 2, 1, 1, 1, 2, 1, 1, 2, 2, 2, 2, 1, 2, 2, 0, 1, 1, 2, 1, 2, 0, 0, 1, 2, 2, 2, 2, 2, 2, 2, 1, 2, 1, 1, 2, 1, 1, 1, 0, 2, 2, 0, 1, 2, 2, 2, 2, 1, 2, 2, 1, 2, 2, 2, 2, 1, 1, 2, 2, 2, 2, 1, 1, 1, 2, 1, 0, 2, 0, 2, 0, 0, 2, 2, 2, 2, 2, 1, 2, 0, 2, 0, 1, 2, 0, 1, 1, 1, 2, 1, 2, 1, 0, 1, 0, 1, 1, 2, 2, 2, 2, 2, 2, 0, 2, 2, 1, 1, 2, 1, 0, 0, 2, 0, 1, 1, 2, 1, 2, 1, 0, 2, 2, 0, 1, 1, 2, 0, 2, 0, 0, 2, 1, 1, 2, 0, 1, 2, 1, 2, 1, 0, 2, 1, 2, 0, 2, 2, 2, 2, 0, 1, 0, 0, 2, 2, 0, 0, 2, 2, 0, 1, 2, 1, 2, 2, 0, 2, 0, 2, 0, 0, 2, 2, 2, 2, 1, 0, 0, 1, 1, 2, 2, 0, 2, 0, 2, 1, 0, 1, 2, 2, 0, 0, 2, 2, 2, 1, 2, 2, 1, 1, 0, 1, 2, 2, 2, 2, 2, 1, 1, 0, 1, 1, 2, 2, 1, 2, 2, 2, 2, 2, 2, 1, 1, 2, 2, 1, 2, 2, 2, 2, 1, 1, 2, 0, 2, 0, 0, 2, 0, 2, 1, 1, 0, 2, 2, 2, 0, 0, 1, 2, 0, 2, 2, 1, 1, 2, 2, 0, 2, 1, 1, 1, 1, 2, 1, 0, 2, 1, 0, 2, 1, 2, 1, 2, 1, 1, 2, 0, 2, 1, 2, 0, 2, 0, 0, 2, 2, 2, 2, 2, 2, 2, 2, 1, 1, 2, 0, 2, 2, 0, 0, 1, 2, 2, 0, 2, 0, 2, 1, 0, 0, 2, 1, 2, 2, 1, 2, 2, 1, 2, 0, 0, 0, 2, 2, 2, 0, 0, 1, 0, 2, 1, 1, 1, 0, 0, 0, 1, 2, 0, 0, 2, 0, 2, 2, 2, 2, 1, 2, 0, 2, 0, 2, 2, 2, 2, 2, 0, 2, 0, 1, 2, 2, 1, 2, 0, 0, 1, 0, 1, 2, 2, 2, 1, 2, 1, 0, 2, 2, 2, 2, 2, 0, 2, 0, 0, 2, 2, 2, 2, 1, 2, 1, 2, 2, 2, 2, 1, 2, 1, 2, 1, 2, 2, 2, 1, 2, 2, 2, 2, 2, 2, 1, 2, 2, 2, 0, 0, 1, 2, 2, 1, 0, 1, 1, 2, 1, 2, 0, 2, 1, 2, 0, 2, 2, 1, 1, 0, 2, 1, 2, 2, 1, 2, 2, 0, 1, 0, 2, 0, 1, 2, 1, 1, 0, 2, 1, 2, 0, 1, 1, 0, 2, 0, 0, 2, 0, 0, 2, 1, 0, 0, 2, 1, 2, 2, 2, 2, 1, 0, 1, 1, 2, 0, 2, 1, 2, 2, 1, 0, 1, 2, 2, 2, 1, 0, 0, 2, 2, 0, 2, 2, 2, 2, 1, 0, 1, 2, 2, 1, 1, 2, 0, 2, 1, 0, 2, 0, 1, 1, 0, 2, 1, 0, 2, 2, 0, 2, 1, 1, 0, 2, 0, 2, 1, 2, 2, 2, 0, 2, 1, 1, 1, 2, 0, 1, 1, 1, 1, 2, 1, 1, 1, 1, 0, 2, 2, 2, 2, 1, 2, 0, 1, 2, 2, 2, 2, 1, 2, 1, 1, 1, 2, 1, 0, 0, 2, 2, 2, 2, 2, 2, 2, 0, 1, 0, 0, 0, 0, 2, 0, 2, 0, 2, 1, 1, 2, 0, 0, 2, 2, 0, 0, 2, 1, 2, 2, 1, 2, 2, 1, 2, 2, 2, 1, 2, 1, 0, 1, 2, 0, 2, 2, 2, 1, 2, 0, 2, 2, 2, 2, 2, 0, 2, 2, 2, 0, 2, 2, 1, 2, 0, 1, 1, 1, 1, 1, 1, 2, 2, 2, 2, 0, 2, 2, 1, 2, 2, 1, 2, 2, 2, 1, 2, 1, 2, 2, 0, 2, 2, 0, 0, 2, 2, 2, 2, 1, 2, 1, 1, 0, 1, 1, 1, 2, 2, 2, 2, 2, 2, 2, 2, 2, 2, 0, 2, 1, 2, 2, 1, 0, 1, 2, 2, 2, 1, 0, 0, 0, 1, 2, 2, 2, 2, 0, 2, 1, 2, 1, 1, 0, 1, 1, 1, 2, 1, 2, 2, 1, 2, 1, 0, 1, 1, 1, 0, 2, 2, 0, 2, 1, 0, 1, 0, 2, 0, 2, 2, 1, 2, 2, 0, 1, 1, 1, 2, 1, 1, 0, 2, 2, 0, 1, 1, 1, 2, 0, 2, 2, 1, 1, 0, 2, 1, 2, 2, 2, 2, 0, 0, 0, 2, 2, 2, 0, 2, 1, 0, 0, 2, 1, 2, 2, 1, 2, 2, 2, 0, 2, 2, 1, 2, 2, 0, 2, 1, 2, 0, 2, 2, 2, 0, 0, 0, 2, 0, 2, 1, 2, 0, 1, 1, 2, 2, 1, 1, 0, 2, 0, 1, 2, 2, 0, 2, 2, 1, 2, 0, 2, 2, 2, 1, 1, 0, 0, 1, 2, 0, 0, 2, 2, 1, 2, 1, 1, 2, 2, 2, 2, 2, 2, 2, 2, 2, 1, 2, 2, 2, 2, 0, 1, 1, 2, 2, 2, 2, 1, 1, 1, 2, 2, 2, 0, 0, 1, 1, 2, 1, 1, 0, 2, 0, 2, 2, 0, 2, 2, 2, 2, 2, 2, 0, 2, 1, 1, 0, 1, 0, 2, 2, 2, 2, 0, 1, 2, 1, 2, 2, 1, 2, 1, 0, 2, 2, 2, 2, 2, 1, 1, 2, 0, 1, 2, 2, 1, 2, 2, 1, 1, 2, 2, 2, 2, 1, 0, 1, 2, 2, 2, 2, 1, 1, 0, 1, 2, 0, 2, 2, 0, 1, 2, 0, 2, 2, 2, 2, 2, 2, 0, 1, 2, 1, 2, 1, 2, 2, 1, 2, 2, 2, 2, 2, 1, 2, 1, 2, 2, 1, 2, 1, 2, 2, 2, 1, 1, 2, 2, 2, 0, 2, 1, 1, 0, 2, 1, 2, 2, 1, 2, 2, 2, 2, 0, 1, 1, 2, 2, 2, 2, 1, 0, 1, 2, 2, 1, 1, 1, 2, 2, 2, 2, 2, 0, 1, 1, 2, 2, 2, 1, 2, 1, 0, 1, 0, 2, 2, 1, 1, 1, 2, 2, 1, 1, 1, 2, 1, 0, 2, 2, 1, 0, 2, 1, 2, 1, 1, 1, 2, 1, 2, 1, 2, 2, 1, 0, 2, 2, 2, 1, 1, 2, 1, 0, 1, 1, 1, 0, 1, 1, 2, 1, 1, 2, 2, 2, 0, 1, 0, 2, 1, 1, 2, 2, 0, 1, 1, 2, 2, 1, 2, 0, 0, 1, 0, 0, 0, 2, 2, 2, 2, 0, 0, 0, 0, 0, 2, 0, 2, 2, 0, 2, 0, 1, 0, 1, 1, 1, 2, 2, 2, 0, 0, 0, 1, 2, 2, 2, 1, 0, 1, 2, 2, 2, 2, 2, 0, 1, 0, 1, 2, 1, 2, 2, 2, 2, 2, 1, 2, 2, 1, 2, 1, 1, 0, 0, 2, 0, 1, 1, 2, 1, 2, 1, 1, 1, 1, 2, 2, 2, 1, 2, 2, 1, 1, 2, 1, 0, 0, 2, 0, 1, 2, 2, 2, 2, 2, 2, 2, 2, 2, 1, 1, 2, 1, 2, 2, 0, 0, 1, 1, 1, 1, 2, 2, 0, 1, 2, 1, 1, 1, 0, 1, 2, 2, 2, 0, 1, 0, 2, 1, 2, 2, 0, 0, 2, 2, 2, 2, 2, 2, 1, 2, 1, 2, 1, 2, 2, 1, 0, 2, 0, 2, 2, 2, 1, 1, 2, 0, 1, 2, 2, 2, 2, 2, 2, 2, 0, 2, 1, 0, 1, 2, 2, 1, 1, 0, 1, 2, 1, 2, 2, 0, 2, 1, 0, 2, 2, 2, 0, 0, 1, 1, 1, 2, 0, 2, 2, 1, 2, 0, 2, 1, 1, 1, 2, 0, 1, 1, 1, 2, 2, 1, 1, 1, 1, 1, 1, 2, 0, 1, 1, 1, 0, 1, 2, 1, 1, 1, 2, 2, 1, 0, 2, 0, 0, 1, 0, 0, 0, 0, 1, 2, 1, 0, 2, 1, 1, 1, 2, 2, 0, 2, 2, 2, 2, 0, 1, 0, 2, 2, 2, 2, 2, 1, 2, 0, 0, 2, 2, 2, 2, 0, 1, 1, 0, 1, 1, 2, 2, 2, 2, 1, 1, 1, 2, 1, 2, 2, 1, 2, 1, 2, 2, 0, 2, 2, 1, 0, 2, 2, 0, 2, 2, 2, 0, 1, 2, 0, 2, 2, 2, 1, 2, 2, 0, 1, 1, 1, 2, 1, 0, 2, 2, 2, 1, 2, 1, 2, 2, 2, 2, 1, 2, 1, 0, 2, 2, 2, 0, 2, 2, 1, 0, 1, 0, 2, 1, 1, 2, 2, 2, 2, 2, 2, 0, 0, 2, 0, 2, 2, 2, 1, 2, 2, 2, 2, 2, 2, 0, 2, 1, 2, 1, 1, 2, 2, 2, 2, 2, 2, 2, 0, 2, 0, 2, 2, 2, 2, 2, 2, 0, 1, 2, 2, 2, 2, 2, 1, 0, 1, 0, 1, 2, 2, 2, 1, 2, 2, 1, 2, 2, 1, 2, 1, 2, 1, 1, 2, 1, 2, 0, 1, 1, 1, 2, 2, 1, 1, 0, 2, 2, 2, 2, 0, 2, 0, 2, 2, 0, 2, 1, 2, 2, 0, 1, 1, 2, 2, 1, 2, 2, 0, 1, 2, 2, 1, 2, 1, 2, 2, 2, 1, 1, 2, 1, 1, 2, 2, 1, 1, 2, 2, 2, 2, 2, 0, 2, 2, 0, 0, 2, 2, 2, 1, 0, 2, 2, 2, 2, 2, 2, 2, 1, 0, 2, 2, 2, 0, 2, 1, 2, 1, 2, 2, 2, 2, 1, 2, 1, 1, 2, 0, 1, 2, 2, 0, 2, 1, 2, 2, 2, 1, 0, 1, 2, 2, 2, 2, 1, 0, 2, 2, 2, 1, 2, 2, 2, 1, 0, 2, 2, 1, 2, 1, 2, 2, 2, 1, 1, 1, 1, 2, 2, 2, 1, 1, 2, 1, 2, 1, 0, 2, 2, 2, 2, 1, 2, 1, 2, 2, 1, 0, 1, 2, 2, 0, 2, 2, 2, 2, 2, 2, 2, 0, 0, 2, 2, 1, 2, 0, 0, 1, 2, 0, 2, 2, 1, 2, 0, 2, 2, 2, 2, 1, 1, 2, 2, 2, 1, 0, 1, 1, 2, 2, 2, 2, 1, 1, 1, 0, 0, 1, 0, 2, 0, 1, 0, 0, 1, 1, 0, 2, 2, 2, 0, 1, 2, 2, 0, 2, 2, 1, 2, 2, 0, 2, 2, 2, 1, 1, 0, 2, 0, 1, 2, 1, 2, 2, 0, 1, 2, 0, 1, 0, 2, 1, 2, 0, 2, 1, 1, 0, 2, 2, 0, 2, 2, 1, 1, 0, 1, 2, 2, 2, 2, 1, 2, 2, 1, 2, 1, 0, 1, 1, 1, 2, 2, 2, 0, 2, 2, 2, 0, 2, 1, 1, 2, 2, 1, 2, 2, 0, 1, 1, 1, 1, 1, 2, 2, 0, 2, 2, 2, 2, 0, 2, 2, 2, 2, 0, 1, 2, 0, 0, 2, 2, 2, 1, 1, 0, 2, 2, 1, 1, 2, 1, 2, 0, 0, 1, 2, 2, 2, 2, 2, 1, 1, 2, 1, 0, 0, 2, 2, 0, 1, 2, 1, 2, 2, 2, 0, 0, 2, 0, 2, 0, 2, 2, 1, 0, 1, 2, 2, 2, 0, 0, 1, 2, 2, 1, 0, 1, 2, 1, 1, 2, 2, 1, 2, 2, 1, 1, 2, 2, 1, 2, 2, 1, 2, 2, 1, 1, 1, 2, 2, 1, 0, 1, 0, 2, 2, 2, 2, 2, 0, 2, 2, 1, 2, 2, 1, 2, 1, 2, 2, 0, 2, 2, 2, 2, 2, 1, 1, 2, 2, 1, 0, 2, 2, 2, 0, 2, 2, 0, 2, 2, 1, 0, 1, 1, 0, 2, 0, 1, 0, 2, 2, 1, 0, 0, 2, 1, 2, 0, 2, 1, 2, 1, 1, 1, 2, 1, 2, 1, 0, 2, 2, 2, 0, 0, 2, 1, 1, 2, 2, 2, 0, 0, 2, 2, 0, 2, 2, 1, 1, 1, 2, 1, 1, 1, 1, 2, 2, 0, 0, 1, 0, 2, 2, 1, 1, 2, 2, 2, 1, 2, 1, 1, 2, 1, 0, 2, 0, 0, 1, 2, 2, 1, 0, 1, 2, 2, 2, 1, 2, 2, 2, 0, 0, 1, 2, 2, 2, 2, 0, 1, 1, 2, 0, 1, 2, 1, 2, 0, 2, 2, 2, 1, 0, 2, 1, 1, 0, 1, 2, 1, 0, 1, 1, 2, 0, 2, 1, 0, 2, 2, 2, 0, 1, 2, 2, 2, 1, 2, 0, 1, 1, 2, 2, 2, 2, 1, 2, 1, 2, 1, 0, 2, 2, 2, 2, 2, 0, 0, 1, 0, 2, 2, 2, 2, 1, 0, 2, 1, 2, 2, 0, 1, 2, 0, 0, 0, 1, 1, 0, 0, 2, 1, 0, 2, 2, 1, 2, 2, 1, 1, 2, 0, 2, 0, 2, 2, 1, 0, 1, 1, 0, 2, 0, 1, 0, 1, 2, 0, 1, 1, 2, 2, 0, 2, 0, 1, 0, 2, 2, 2, 1, 2, 2, 1, 2, 0, 2, 1, 2, 2, 1, 0, 0, 0, 2, 1, 0, 1, 0, 2, 2, 2, 0, 1, 1, 1, 2, 1, 0, 0, 1, 2, 2, 1, 2, 1, 1, 2, 1, 2, 1, 0, 1, 0, 2, 1, 0, 2, 0, 1, 2, 0, 2, 0, 1, 1, 1, 1, 1, 2, 2, 2, 0, 2, 1, 1, 1, 1, 2, 0, 1, 2, 1, 0, 2, 1, 1, 1, 2, 1, 2, 1, 0, 1, 2, 2, 2, 1, 2, 1, 2, 2, 2, 2, 2, 2, 1, 1, 1, 2, 2, 0, 2, 2, 2, 1, 2, 1, 1, 0, 0, 1, 0, 2, 0, 2, 2, 2, 2, 0, 1, 2, 2, 2, 2, 1, 2, 0, 2, 1, 2, 1, 2, 2, 1, 1, 2, 2, 2, 1, 2, 2, 1, 0, 1, 0, 2, 2, 0, 2, 1, 2, 1, 2, 2, 1, 0, 1, 1, 2, 2, 0, 1, 2, 2, 1, 2, 2, 2, 1, 2, 2, 1, 2, 0, 1, 2, 2, 2, 1, 2, 0, 2, 1, 2, 2, 2, 0, 1, 2, 2, 2, 0, 2, 2, 2, 2, 1, 2, 1, 2, 2, 2, 1, 0, 0, 1, 2, 1, 1, 2, 2, 2, 0, 1, 2, 2, 1, 0, 2, 2, 1, 1, 1, 2, 0, 2, 0, 2, 1, 1, 0, 2, 2, 2, 2, 1, 1, 2, 2, 2, 0, 0, 2, 0, 0, 2, 1, 1, 1, 2, 2, 2, 1, 0, 2, 1, 0, 2, 2, 2, 1, 1, 1, 2, 1, 2, 2, 0, 1, 2, 2, 2, 1, 2, 2, 1, 0, 1, 2, 2, 0, 2, 1, 1, 2, 2, 2, 2, 2, 1, 1, 2, 1, 0, 0, 1, 0, 2, 2, 1, 1, 0, 2, 2, 2, 2, 1, 2, 1, 2, 2, 1, 1, 1, 1, 2, 1, 0, 2, 2, 1, 2, 1, 2, 2, 2, 2, 2, 2, 0, 1, 2, 0, 1, 1, 2, 2, 0, 2, 0, 2, 2, 2, 2, 0, 2, 0, 2, 2, 1, 1, 0, 1, 0, 0, 1, 1, 1, 2, 2, 1, 1, 0, 1, 2, 2, 2, 2, 0, 1, 1, 0, 2, 2, 1, 2, 0, 2, 1, 1, 2, 2, 2, 1, 1, 0, 2, 2, 2, 2, 2, 2, 2, 0, 2, 1, 2, 2, 1, 1, 0, 2, 2, 1, 1, 0, 1, 1, 2, 1, 1, 1, 1, 2, 2, 1, 2, 2, 1, 1, 1, 0, 2, 2, 0, 2, 1, 2, 2, 0, 2, 0, 1, 1, 2, 2, 1, 2, 1, 2, 2, 2, 1, 1, 0, 1, 2, 1, 1, 2, 2, 2, 1, 0, 2, 2, 2, 2, 1, 1, 1, 0, 2, 2, 2, 2, 2, 1, 2, 2, 1, 0, 1, 2, 2, 1, 2, 2, 2, 0, 2, 1, 0, 2, 2, 2, 2, 2, 1, 1, 2, 1, 0, 2, 1, 2, 1, 1, 2, 1, 2, 2, 0, 2, 2, 2, 0, 0, 1, 1, 1, 2, 2, 1, 0, 1, 2, 1, 2, 1, 2, 2, 2, 1, 0, 1, 0, 2, 2, 2, 1, 0, 1, 2, 1, 0, 2, 2, 2, 2, 2, 1, 2, 2, 2, 1, 1, 0, 2, 2, 2, 1, 1, 1, 2, 1, 2, 2, 2, 2, 0, 0, 2, 0, 2, 2, 0, 0, 1, 2, 1, 2, 0, 2, 2, 1, 1, 2, 0, 2, 0, 2, 2, 1, 2, 2, 2, 1, 2, 0, 1, 1, 1, 2, 2, 2, 0, 1, 2, 2, 2, 2, 2, 2, 1, 2, 1, 2, 2, 2, 0, 1, 0, 2, 2, 1, 1, 1, 2, 1, 1, 2, 2, 2, 2, 1, 0, 2, 1, 1, 2, 0, 2, 2, 2, 2, 2, 2, 2, 2, 2, 0, 1, 2, 0, 2, 1, 2, 1, 0, 2, 0, 2, 1, 1, 2, 2, 2, 0, 2, 0, 2, 1, 0, 2, 2, 1, 2, 2, 2, 1, 2, 0, 1, 0, 1, 2, 2, 2, 1, 1, 2, 2, 2, 1, 2, 1, 0, 2, 1, 0, 2, 2, 2, 2, 1, 2, 1, 0, 0, 1, 1, 1, 1, 2, 1, 1, 2, 2, 2, 1, 1, 2, 2, 2, 0, 1, 0, 1, 0, 2, 0, 0, 2, 0, 2, 2, 0, 2, 1, 1, 1, 1, 2, 2, 1, 2, 1, 2, 2, 0, 0, 2, 2, 1, 2, 1, 1, 2, 1, 1, 1, 0, 2, 1, 0, 2, 0, 1, 2, 2, 2, 2, 2, 1, 2, 2, 2, 1, 0, 2, 2, 2, 1, 2, 2, 1, 1, 2, 0, 0, 2, 2, 2, 0, 0, 2, 2, 2, 2, 0, 1, 1, 1, 2, 2, 1, 2, 1, 0, 1, 1, 1, 2, 0, 2, 0, 1, 2, 0, 2, 2, 0, 1, 2, 2, 1, 2, 2, 2, 1, 1, 0, 2, 1, 1, 2, 2, 2, 1, 1, 2, 0, 1, 2, 1, 2, 2, 1, 2, 2, 1, 1, 0, 2, 1, 2, 2, 2, 2, 1, 2, 2, 0, 2, 2, 2, 2, 2, 2, 1, 0, 1, 0, 2, 0, 2, 2, 1, 2, 2, 1, 0, 1, 2, 2, 2, 1, 0, 1, 2, 0, 0, 1, 2, 2, 2, 1, 1, 1, 0, 2, 2, 2, 0, 2, 2, 2, 2, 0, 2, 2, 1, 2, 2, 2, 2, 1, 1, 2, 0, 2, 1, 0, 1, 2, 2, 0, 2, 2, 2, 1, 2, 2, 0, 0, 2, 2, 2, 2, 1, 1, 1, 2, 2, 0, 2, 1, 1, 0, 2, 2, 2, 2, 2, 2, 0, 1, 2, 0, 0, 2, 2, 1, 0, 0, 1, 1, 1, 0, 2, 2, 0, 0, 0, 1, 2, 2, 1, 1, 2, 2, 2, 1, 1, 2, 1, 0, 2, 2, 1, 0, 2, 1, 0, 1, 1, 1, 1, 2, 0, 2, 0, 1, 1, 0, 0, 1, 1, 2, 2, 2, 2, 1, 1, 2, 1, 1, 1, 2, 2, 2, 1, 2, 1, 2, 1, 2, 0, 2, 2, 2, 1, 2, 2, 2, 0, 2, 1, 1, 1, 2, 0, 2, 1, 0, 1, 2, 1, 1, 0, 1, 1, 0, 2, 2, 1, 2, 1, 2, 2, 1, 2, 2, 2, 1, 1, 0, 2, 1, 2, 1, 1, 0, 1, 1, 2, 1, 2, 2, 2, 1, 2, 2, 0, 1, 1, 1, 1, 0, 2, 2, 2, 2, 0, 2, 1, 0, 2, 2, 0, 2, 2, 0, 2, 2, 0, 2, 1, 2, 2, 0, 0, 1, 1, 2, 0, 2, 2, 1, 2, 2, 1, 0, 1, 2, 1, 1, 2, 1, 2, 1, 0, 1, 2, 0, 1, 2, 2, 2, 2, 2, 0, 2, 2, 2, 2, 0, 0, 0, 2, 2, 2, 1, 2, 2, 2, 1, 1, 1, 0, 2, 1, 0, 2, 2, 2, 1, 2, 0, 2, 2, 2, 2, 2, 2, 2, 2, 1, 2, 0, 2, 1, 1, 2, 2, 2, 1, 2, 1, 2, 2, 2, 0, 2, 2, 2, 0, 2, 1, 1, 0, 2, 0, 2, 0, 2, 1, 1, 2, 2, 2, 2, 0, 1, 1, 0, 2, 2, 0, 0, 1, 2, 1, 1, 2, 1, 1, 2, 1, 2, 0, 2, 0, 1, 2, 2, 2, 0, 2, 2, 0, 0, 0, 1, 2, 0, 0, 2, 2, 2, 2, 0, 2, 2, 2, 0, 1, 2, 2, 1, 1, 2, 0, 0, 1, 1, 2, 2, 2, 1, 1, 1, 1, 2, 0, 1, 0, 0, 1, 0, 0, 2, 0, 1, 2, 2, 1, 2, 2, 2, 1, 2, 2, 2, 2, 2, 2, 2, 0, 2, 2, 2, 2, 2, 1, 1, 0, 2, 1, 2, 0, 0, 0, 0, 2, 2, 2, 2, 1, 2, 2, 2, 1, 2, 0, 2, 2, 2, 1, 0, 2, 2, 1, 2, 0, 2, 0, 2, 0, 1, 2, 1, 2, 2, 2, 1, 1, 2, 1, 1, 2, 2, 1, 0, 1, 2, 2, 1, 2, 1, 1, 0, 0, 2, 1, 2, 2, 1, 2, 2, 2, 2, 2, 2, 1, 2, 2, 1, 2, 2, 2, 2, 1, 2, 0, 2, 2]]\n",
            "Markov Chain Monte Carlo Results: [0, 1, 0, 0, 0, 1, 1, 0, 0, 0, 1, 1, 0, 0, 0, 0, 1, 0, 0, 1, 1, 1, 1, 1, 0, 0, 0, 0, 1, 0, 1, 1, 0, 0, 1, 1, 0, 1, 0, 0, 0, 0, 0, 1, 0, 1, 1, 1, 0, 0, 0, 1, 1, 1, 0, 1, 1, 0, 0, 1, 1, 1, 1, 0, 1, 1, 1, 0, 0, 0, 0, 1, 1, 0, 0, 1, 1, 0, 1, 0, 1, 1, 1, 1, 1, 1, 1, 0, 0, 1, 1, 1, 1, 1, 1, 0, 0, 0, 1, 0, 1, 1, 1, 0, 1, 0, 0, 0, 1, 0, 0, 0, 0, 1, 0, 0, 1, 0, 0, 0, 1, 0, 1, 1, 1, 1, 0, 1, 1, 0, 1, 0, 1, 0, 0, 0, 1, 0, 0, 1, 1, 0, 1, 1, 0, 1, 0, 0, 0, 1, 1, 1, 0, 1, 1, 1, 1, 1, 1, 1, 1, 1, 1, 1, 1, 0, 1, 1, 0, 1, 0, 0, 1, 0, 0, 1, 1, 0, 0, 1, 1, 1, 0, 1, 1, 1, 1, 0, 0, 1, 0, 1, 0, 1, 0, 0, 0, 1, 0, 0, 0, 1, 1, 0, 1, 0, 1, 0, 1, 0, 1, 0, 1, 1, 1, 0, 1, 1, 0, 1, 1, 0, 0, 1, 0, 0, 0, 1, 1, 1, 1, 1, 0, 0, 0, 1, 0, 1, 0, 0, 0, 0, 1, 0, 0, 0, 0, 1, 0, 0, 1, 1, 0, 0, 0, 0, 1, 0, 1, 0, 0, 1, 0, 1, 1, 1, 0, 0, 0, 1, 0, 1, 0, 0, 1, 0, 1, 1, 0, 1, 1, 1, 0, 1, 1, 0, 1, 1, 0, 0, 1, 0, 1, 0, 1, 1, 1, 0, 1, 1, 0, 0, 1, 0, 1, 1, 1, 1, 0, 0, 0, 0, 0, 1, 0, 1, 1, 1, 1, 1, 0, 0, 0, 1, 1, 1, 0, 0, 1, 1, 0, 1, 1, 1, 0, 1, 0, 1, 1, 1, 0, 0, 0, 1, 1, 0, 1, 1, 1, 1, 0, 1, 0, 0, 0, 1, 0, 0, 0, 1, 1, 1, 0, 1, 0, 0, 0, 0, 0, 0, 1, 1, 1, 1, 1, 0, 0, 0, 0, 0, 1, 0, 0, 1, 0, 1, 1, 0, 1, 1, 0, 0, 1, 0, 1, 0, 0, 0, 0, 0, 1, 1, 1, 0, 1, 1, 0, 0, 0, 0, 0, 1, 0, 1, 0, 0, 1, 0, 0, 1, 1, 1, 0, 1, 0, 1, 1, 1, 1, 1, 1, 1, 1, 0, 0, 1, 1, 1, 0, 1, 1, 0, 1, 0, 1, 1, 1, 1, 0, 0, 0, 1, 0, 1, 1, 1, 0, 1, 1, 1, 0, 0, 1, 0, 0, 1, 1, 0, 0, 0, 0, 0, 1, 1, 0, 0, 0, 1, 1, 0, 0, 1, 1, 1, 1, 0, 1, 1, 0, 0, 1, 0, 0, 1, 1, 0, 0, 1, 0, 0, 1, 0, 0, 1, 1, 0, 1, 0, 1, 1, 1, 0, 0, 1, 0, 0, 0, 0, 1, 0, 0, 1, 0, 0, 0, 0, 1, 0, 1, 1, 0, 1, 0, 1, 1, 0, 1, 1, 1, 0, 1, 1, 1, 0, 1, 1, 0, 0, 0, 0, 0, 1, 0, 1, 1, 1, 0, 0, 0, 0, 1, 0, 0, 1, 0, 1, 1, 0, 1, 0, 1, 1, 0, 0, 0, 0, 1, 0, 0, 1, 1, 0, 1, 0, 0, 1, 1, 1, 0, 0, 0, 0, 0, 0, 1, 1, 1, 0, 0, 1, 1, 1, 0, 1, 0, 1, 1, 0, 1, 1, 0, 0, 0, 0, 0, 1, 1, 0, 0, 0, 0, 1, 1, 1, 1, 1, 0, 0, 1, 1, 0, 1, 1, 0, 1, 0, 0, 0, 1, 1, 1, 1, 0, 1, 0, 1, 1, 1, 1, 1, 0, 0, 0, 0, 0, 0, 0, 1, 0, 1, 1, 1, 1, 0, 0, 1, 1, 1, 0, 0, 0, 1, 1, 0, 1, 1, 1, 0, 0, 1, 1, 1, 0, 0, 1, 1, 0, 0, 0, 0, 0, 1, 1, 0, 0, 1, 1, 0, 0, 1, 0, 0, 0, 1, 1, 0, 0, 0, 1, 0, 0, 0, 0, 0, 0, 0, 0, 0, 1, 1, 0, 0, 1, 1, 1, 1, 0, 1, 1, 0, 0, 1, 1, 1, 1, 0, 1, 1, 1, 0, 0, 0, 0, 0, 0, 0, 1, 1, 0, 1, 0, 0, 1, 1, 0, 1, 0, 0, 1, 0, 0, 0, 1, 1, 0, 0, 1, 1, 1, 1, 0, 1, 0, 0, 1, 1, 1, 1, 1, 0, 0, 0, 0, 0, 1, 1, 0, 1, 0, 1, 0, 1, 0, 0, 1, 0, 1, 1, 0, 1, 0, 1, 1, 0, 1, 0, 1, 1, 0, 0, 1, 0, 0, 0, 1, 0, 1, 0, 0, 0, 0, 1, 0, 0, 1, 0, 0, 1, 1, 0, 1, 1, 1, 0, 0, 1, 0, 0, 0, 0, 1, 0, 0, 0, 0, 1, 0, 1, 0, 1, 0, 0, 1, 0, 0, 1, 0, 1, 0, 1, 1, 1, 0, 0, 1, 0, 1, 1, 1, 0, 1, 0, 1, 1, 1, 0, 1, 1, 0, 1, 1, 0, 1, 1, 0, 0, 1, 0, 1, 0, 0, 1, 1, 0, 1, 1, 1, 1, 1, 1, 0, 1, 1, 0, 1, 0, 0, 1, 0, 1, 0, 1, 0, 1, 0, 0, 0, 1, 0, 1, 0, 0, 1, 0, 1, 1, 1, 0, 0, 1, 1, 1, 1, 0, 1, 1, 1, 0, 0, 0, 0, 1, 1, 0, 1, 1, 0, 1, 1, 0, 1, 0, 0, 1, 0, 1, 0, 1, 1, 1, 1, 1, 1, 1, 0, 1, 0, 0, 1, 0, 1, 0, 0, 0, 1, 1, 1, 1, 1, 1, 0, 0, 1, 1, 1, 0, 0, 1, 0, 1, 0, 1, 1, 0, 1, 1, 1, 1, 1, 1]\n",
            "Monte Carlo Pi Estimation Result: 3.138976\n"
          ]
        }
      ]
    },
    {
      "cell_type": "markdown",
      "source": [
        "# Data analysis"
      ],
      "metadata": {
        "id": "LkAAn6kwZqJO"
      }
    },
    {
      "cell_type": "code",
      "source": [
        "import pandas as pd\n",
        "import numpy as np\n",
        "from sklearn.model_selection import train_test_split\n",
        "from sklearn.linear_model import LinearRegression\n",
        "from sklearn.metrics import mean_squared_error\n",
        "\n",
        "# Load the data\n",
        "data = pd.read_csv('data.csv')\n",
        "\n",
        "# Define the features and target variable\n",
        "X = data.drop(['target'], axis=1)\n",
        "y = data['target']\n",
        "\n",
        "# Split the data into training and testing sets\n",
        "X_train, X_test, y_train, y_test = train_test_split(X, y, test_size=0.2, random_state=42)\n",
        "\n",
        "# Create a linear regression model\n",
        "model = LinearRegression()\n",
        "\n",
        "# Train the model on the training data\n",
        "model.fit(X_train, y_train)\n",
        "\n",
        "# Make predictions on the testing data\n",
        "y_pred = model.predict(X_test)\n",
        "\n",
        "# Calculate the mean squared error\n",
        "mse = mean_squared_error(y_test, y_pred)\n",
        "print('Mean Squared Error:', mse)\n",
        "\n",
        "# Use the model to make predictions on new data\n",
        "new_data = pd.DataFrame({'feature1': [1, 2, 3], 'feature2': [4, 5, 6]})\n",
        "new_data = pd.get_dummies(new_data)\n",
        "new_data = new_data.drop(['feature1'], axis=1)\n",
        "new_data = new_data.drop(['feature2'], axis=1)\n",
        "new_data = new_data.drop(['feature3'], axis=1)\n",
        "new_data = new_data.drop(['feature4'], axis=1)\n",
        "new_data = new_data.drop(['feature5'], axis=1)\n",
        "new_data = new_data.drop(['feature6'], axis=1)\n",
        "new_data = new_data.drop(['feature7'], axis=1)\n",
        "new_data = new_data.drop(['feature8'], axis=1)\n",
        "new_data = new_data.drop(['feature9'], axis=1)\n",
        "new_data = new_data.drop(['feature10'], axis=1)\n",
        "new_data = new_data.drop(['feature11'], axis=1)\n",
        "new_data = new_data.drop(['feature12'], axis=1)\n",
        "new_data = new_data.drop(['feature13'], axis=1)\n",
        "new_data = new_data.drop(['feature14'], axis=1)\n",
        "new_data = new_data.drop(['feature15'], axis=1)\n",
        "new_data = new_data.drop(['feature16'], axis=1)\n",
        "new_data = new_data.drop(['feature17'], axis=1)\n",
        "new_data = new_data.drop(['feature18'], axis=1)\n",
        "new_data = new_data.drop(['feature19'], axis=1)\n",
        "new_data = new_data.drop(['feature20'], axis=1)\n",
        "new_data = new_data.drop(['feature21'], axis=1)\n",
        "new_data = new_data.drop(['feature22'], axis=1)\n",
        "new_data = new_data.drop(['feature23'], axis=1)\n",
        "new_data = new_data.drop(['feature24'], axis=1)\n",
        "new_data = new_data.drop(['feature25'], axis=1)\n",
        "new_data = new_data.drop(['feature26'], axis=1)\n",
        "new_data = new_data.drop(['feature27'], axis=1)\n",
        "new_data = new_data.drop(['feature28'], axis=1)\n",
        "new_data = new_data.drop(['feature29'], axis=1)\n",
        "new_data = new_data.drop(['feature30'], axis=1)\n",
        "new_data = new_data.drop(['feature31'], axis=1)\n",
        "new_data = new_data.drop(['feature32'], axis=1)\n",
        "new_data = new_data.drop(['feature33'], axis=1)\n",
        "new_data = new_data.drop(['feature34'], axis=1)\n",
        "new_data = new_data.drop(['feature35'], axis=1)\n",
        "new_data = new_data.drop(['feature36'], axis=1)\n",
        "new_data = new_data.drop(['feature37'], axis=1)\n",
        "new_data = new_data.drop(['feature38'], axis=1)\n",
        "new_data = new_data.drop(['feature39'], axis=1)\n",
        "new_data = new_data.drop(['feature40'], axis=1)\n",
        "new_data = new_data.drop(['feature41'], axis=1)\n",
        "new_data = new_data.drop(['feature42'], axis=1)\n",
        "new_data = new_data.drop(['feature43'], axis=1)\n",
        "new_data = new_data.drop(['feature44'], axis=1)\n",
        "new_data = new_data.drop(['feature45'], axis=1)\n",
        "new_data = new_data.drop(['feature46'], axis=1)\n",
        "new_data = new_data.drop(['feature47'], axis=1)\n",
        "new_data = new_data.drop(['feature48'], axis=1)\n",
        "new_data = new_data.drop(['feature49'], axis=1)\n",
        "new_data = new_data.drop(['feature50'], axis=1)\n",
        "new_data = new_data.drop(['feature51'], axis=1)\n",
        "new_data = new_data.drop(['feature52'], axis=1)\n",
        "new_data = new_data.drop(['feature53'], axis=1)\n",
        "new_data = new_data.drop(['feature54'], axis=1)\n",
        "new_data = new_data.drop(['feature55'], axis=1)\n",
        "new_data = new_data.drop(['feature56'], axis=1)\n",
        "new_data = new_data.drop(['feature57'], axis=1)\n",
        "new_data = new_data.drop(['feature58'], axis=1)\n",
        "new_data = new_data.drop(['feature59'], axis=1)\n",
        "new_data = new_data.drop(['feature60'], axis=1)\n",
        "new_data = new_data.drop(['feature61'], axis=1)\n",
        "new_data = new_data.drop(['feature62'], axis=1)\n",
        "new_data = new_data.drop(['feature63'], axis=1)\n",
        "new_data = new_data.drop(['feature64'], axis=1)\n",
        "new_data = new_data.drop(['feature65'], axis=1)\n",
        "new_data = new_data.drop(['feature66'], axis=1)\n",
        "new_data = new_data.drop(['feature67'], axis=1)\n",
        "new_data = new_data.drop(['feature68'], axis=1)\n",
        "new_data = new_data.drop(['feature69'], axis=1)\n",
        "new_data = new_data.drop(['feature70'], axis=1)\n",
        "new_data = new_data.drop(['feature71'], axis=1)\n",
        "new_data = new_data.drop(['feature72'], axis=1)\n",
        "new_data = new_data.drop(['feature73'], axis=1)\n",
        "new_data = new_data.drop(['feature74'], axis=1)\n",
        "new_data = new_data.drop(['feature75'], axis=1)\n",
        "new_data = new_data.drop(['feature76'], axis=1)\n",
        "new_data = new_data.drop(['feature77'], axis=1)\n",
        "new_data = new_data.drop(['feature78'], axis=1)\n",
        "new_data = new_data.drop(['feature79'], axis=1)\n",
        "new_data = new_data.drop(['feature80'], axis=1)\n",
        "new_data = new_data.drop(['feature81'], axis=1)\n",
        "new_data = new_data.drop(['feature82'], axis=1)\n",
        "new_data = new_data.drop(['feature83'], axis=1)\n",
        "new_data = new_data.drop(['feature84'], axis=1)\n",
        "new_data = new_data.drop(['feature85'], axis=1)\n",
        "new_data = new_data.drop(['feature86'], axis=1)\n",
        "new_data = new_data.drop(['feature87'], axis=1)\n",
        "new_data = new_data.drop(['feature88'], axis=1)\n",
        "new_data = new_data.drop(['feature89'], axis=1)\n",
        "new_data = new_data.drop(['feature90'], axis=1)\n",
        "new_data = new_data.drop(['feature91'], axis=1)\n",
        "new_data = new_data.drop(['feature92'], axis=1)\n",
        "new_data = new_data.drop(['feature93'], axis=1)\n",
        "new_data = new_data.drop(['feature94'], axis=1)\n",
        "new_data = new_data.drop(['feature95'], axis=1)\n",
        "new_data = new_data.drop(['feature96'], axis=1)\n",
        "new_data = new_data.drop(['feature97'], axis=1)\n",
        "new_data = new_data.drop(['feature98'], axis=1)\n",
        "new_data = new_data.drop(['feature99'], axis=1)\n",
        "new_data = new_data.drop(['feature100'], axis=1)\n",
        "new_data = new_data.drop(['feature101'], axis=1)\n",
        "new_data = new_data.drop(['feature102'], axis=1)\n",
        "new_data = new_data.drop(['feature103'], axis=1)\n",
        "new_data = new_data.drop(['feature104'], axis=1)\n",
        "new_data = new_data.drop(['feature105'], axis=1)\n",
        "new_data = new_data.drop(['feature106'], axis=1)\n",
        "new_data = new_data.drop(['feature107'], axis=1)\n",
        "new_data = new_data.drop(['feature108'], axis=1)\n",
        "new_data = new_data.drop(['feature109'], axis=1)\n",
        "new_data = new_data.drop(['feature110'], axis=1)\n",
        "new_data = new_data.drop(['feature111'], axis=1)\n",
        "new_data = new_data.drop(['feature112'], axis=1)\n",
        "new_data = new_data.drop(['feature113'], axis=1)\n",
        "new_data = new_data.drop(['feature114'], axis=1)\n",
        "new_data = new_data.drop(['feature115'], axis=1)\n",
        "new_data = new_data.drop(['feature116'], axis=1)\n",
        "new_data = new_data.drop(['feature117'], axis=1)\n",
        "new_data = new_data.drop(['feature118'], axis=1)\n",
        "new_data = new_data.drop(['feature119'], axis=1)\n",
        "new_data"
      ],
      "metadata": {
        "id": "qJBhSmLNZ-aP"
      },
      "execution_count": null,
      "outputs": []
    }
  ]
}