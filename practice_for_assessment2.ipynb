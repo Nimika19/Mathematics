{
  "nbformat": 4,
  "nbformat_minor": 0,
  "metadata": {
    "colab": {
      "provenance": [],
      "authorship_tag": "ABX9TyME7R9jaVB1Nbo0J+vNY7RX",
      "include_colab_link": true
    },
    "kernelspec": {
      "name": "python3",
      "display_name": "Python 3"
    },
    "language_info": {
      "name": "python"
    }
  },
  "cells": [
    {
      "cell_type": "markdown",
      "metadata": {
        "id": "view-in-github",
        "colab_type": "text"
      },
      "source": [
        "<a href=\"https://colab.research.google.com/github/Nimika19/Mathematics/blob/main/practice_for_assessment2.ipynb\" target=\"_parent\"><img src=\"https://colab.research.google.com/assets/colab-badge.svg\" alt=\"Open In Colab\"/></a>"
      ]
    },
    {
      "cell_type": "code",
      "source": [
        "# Define the matrices\n",
        "matrix_A = [[5, 32, 6], [23, 6, 87], [33, 64, 1]]\n",
        "matrix_B = [3, 5, 7]\n",
        "\n",
        "# Convert matrix_B to a matrix\n",
        "matrix_B = [[element] for element in matrix_B]\n",
        "\n",
        "# Define the function for matrix multiplication\n",
        "def matrix_multiple(m, n):\n",
        "    if len(m[0]) != len(n):\n",
        "        print(\"Error: Number of columns in the first matrix must be equal to the number of rows in the second matrix.\")\n",
        "        return None\n",
        "    result = [[0 for i in range(len(n[0]))] for i in range(len(m))]\n",
        "    for j in range(len(m)):\n",
        "        for k in range(len(n[0])):\n",
        "            for l in range(len(n)):\n",
        "                result[j][k] += m[j][l] * n[l][k]\n",
        "    return result\n",
        "\n",
        "# Perform matrix multiplication\n",
        "result_matrix = matrix_multiple(matrix_A, matrix_B)\n",
        "\n",
        "# Print the result\n",
        "for row in result_matrix:\n",
        "    print(row)\n",
        "print(result_matrix)"
      ],
      "metadata": {
        "colab": {
          "base_uri": "https://localhost:8080/"
        },
        "id": "ST9Rz25-X8b2",
        "outputId": "bed4ce9d-92d1-4ca5-9bc6-f4ae8a3e031a"
      },
      "execution_count": 7,
      "outputs": [
        {
          "output_type": "stream",
          "name": "stdout",
          "text": [
            "[217]\n",
            "[708]\n",
            "[426]\n",
            "[[217], [708], [426]]\n"
          ]
        }
      ]
    }
  ]
}