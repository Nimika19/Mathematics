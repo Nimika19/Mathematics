{
  "nbformat": 4,
  "nbformat_minor": 0,
  "metadata": {
    "colab": {
      "provenance": [],
      "authorship_tag": "ABX9TyPLfupGaYLCwGp1Aqyzs+9u",
      "include_colab_link": true
    },
    "kernelspec": {
      "name": "python3",
      "display_name": "Python 3"
    },
    "language_info": {
      "name": "python"
    }
  },
  "cells": [
    {
      "cell_type": "markdown",
      "metadata": {
        "id": "view-in-github",
        "colab_type": "text"
      },
      "source": [
        "<a href=\"https://colab.research.google.com/github/Nimika19/Mathematics/blob/main/practice_for_assessment2.ipynb\" target=\"_parent\"><img src=\"https://colab.research.google.com/assets/colab-badge.svg\" alt=\"Open In Colab\"/></a>"
      ]
    },
    {
      "cell_type": "code",
      "source": [
        "# Define the matrices\n",
        "matrix_A = [[5, 32, 6], [23, 6, 87], [33, 64, 1]]\n",
        "matrix_B = [3, 5, 7]\n",
        "\n",
        "# Convert matrix_B to a matrix\n",
        "matrix_B = [[element] for element in matrix_B]\n",
        "\n",
        "# Define the function for matrix multiplication\n",
        "def matrix_multiple(m, n):\n",
        "    if len(m[0]) != len(n):\n",
        "        print(\"Error: Number of columns in the first matrix must be equal to the number of rows in the second matrix.\")\n",
        "        return None\n",
        "    result = [[0 for i in range(len(n[0]))] for i in range(len(m))]\n",
        "    for j in range(len(m)):\n",
        "        for k in range(len(n[0])):\n",
        "            for l in range(len(n)):\n",
        "                result[j][k] += m[j][l] * n[l][k]\n",
        "    return result\n",
        "\n",
        "# Perform matrix multiplication\n",
        "result_matrix = matrix_multiple(matrix_A, matrix_B)\n",
        "\n",
        "# Print the result\n",
        "for row in result_matrix:\n",
        "    print(row)\n",
        "print(result_matrix)"
      ],
      "metadata": {
        "colab": {
          "base_uri": "https://localhost:8080/"
        },
        "id": "ST9Rz25-X8b2",
        "outputId": "bed4ce9d-92d1-4ca5-9bc6-f4ae8a3e031a"
      },
      "execution_count": null,
      "outputs": [
        {
          "output_type": "stream",
          "name": "stdout",
          "text": [
            "[217]\n",
            "[708]\n",
            "[426]\n",
            "[[217], [708], [426]]\n"
          ]
        }
      ]
    },
    {
      "cell_type": "code",
      "source": [
        "# Practice for Newton's method, use Newton's method to find an approximate solution for f(x)\n",
        "def newton(f, f_prime, initial_guess, tolerance=1e-10, max_iteration=100):\n",
        "    \"\"\"\n",
        "    Newton's method to find an approximate solution for f(x)\n",
        "\n",
        "    Parameters:\n",
        "    f (function): the equation\n",
        "    f_prime (function): the derivative of f\n",
        "    initial_guess (float): the initial guess number\n",
        "    tolerance (float, optional): the threshold for the output. Defaults to 1e-10.\n",
        "    max_iteration (int, optional): the maximum number of iterations. Defaults to 100.\n",
        "\n",
        "    Returns:\n",
        "    float: the approximate solution\n",
        "    \"\"\"\n",
        "    x = initial_guess\n",
        "    for i in range(max_iteration):\n",
        "        # Calculate the value of f(x)\n",
        "        fx = f(x)\n",
        "        if abs(fx) < tolerance:\n",
        "            # If the absolute value of f(x) is less than the tolerance, return x\n",
        "            return x\n",
        "        # Calculate the derivative of f(x)\n",
        "        fpx = f_prime(x)\n",
        "        if fpx == 0:\n",
        "            # If the derivative is zero, return None\n",
        "            return None\n",
        "        # Update x using Newton's method\n",
        "        x = x - fx/fpx\n",
        "    # If max iterations reached without convergence, return None\n",
        "    return None\n",
        "\n",
        "# Define the function f(x)\n",
        "def f(x):\n",
        "    return x**2 + 2*x + 5\n",
        "\n",
        "# Define the derivative of f(x)\n",
        "def f_prime(x):\n",
        "    return 2*x + 2\n",
        "\n",
        "# Set the initial guess\n",
        "initial_guess = -1\n",
        "\n",
        "# Call the function newton with the input functions f and f_prime, and the initial guess\n",
        "approx_result = newton(f, f_prime, initial_guess)\n",
        "\n",
        "# Print the result\n",
        "if approx_result is not None:\n",
        "    print(\"Approximate result is:\", approx_result)\n",
        "else:\n",
        "    print(\"Newton's method did not converge\")\n"
      ],
      "metadata": {
        "id": "0EVBrPcicIiw",
        "outputId": "3a655105-3a68-4612-c8e4-02f0f29f03ca",
        "colab": {
          "base_uri": "https://localhost:8080/"
        }
      },
      "execution_count": 7,
      "outputs": [
        {
          "output_type": "stream",
          "name": "stdout",
          "text": [
            "Newton's method did not converge\n"
          ]
        }
      ]
    }
  ]
}